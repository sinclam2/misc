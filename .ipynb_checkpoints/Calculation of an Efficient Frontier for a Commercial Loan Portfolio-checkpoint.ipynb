{
 "cells": [
  {
   "cell_type": "markdown",
   "metadata": {},
   "source": [
    "[(link)](https://www.researchgate.net/publication/247905546_Calculation_of_an_Efficient_Frontier_for_a_Commercial_Loan_Portfolio)"
   ]
  },
  {
   "cell_type": "markdown",
   "metadata": {},
   "source": [
    "# Intro\n",
    "\n",
    "- Traditionally, credit analysts manage loan portfolios on a \"micro\" level i.e. on a loan-by-loan basis\n",
    "\n",
    "- Loan portfolio management on a macro level has been constrained because of a lack of data\n",
    "    - It is difficult for banks to measure the diversification of a commercial loan portfolio"
   ]
  },
  {
   "cell_type": "markdown",
   "metadata": {},
   "source": [
    "- The Markowitz stock portfolio model minimizes portfolio risk (variance of stock prices) with respect to portfolio return\n",
    "    - The model finds the optimal weight of each stock in the portfolio\n",
    "        - The efficient frontier is constructed from the optimal allocations for each level of risk"
   ]
  },
  {
   "cell_type": "markdown",
   "metadata": {},
   "source": [
    "### Efficient frontier for loan portfolio vs. stock portfolio\n",
    "\n",
    "- Harder to get data for returns of an industry or sector in a loan portfolio ([note: difference between industry and sector](https://www.investopedia.com/ask/answers/05/industrysector.asp))\n",
    "    - Harder to find an equivalent to the S&P 500\n",
    "    \n",
    "- **Hard to calculate \"returns\" for loans**\n",
    "    - Not symmetric\n",
    "        - With a stock, there is upside potential\n",
    "            - You buy a stock at 50 dollars, and it goes up to 100\n",
    "        - With loans, the best case scenario is that the borrower doesn't default\n",
    "    - No increase in return when the borrower's credit quality improves\n",
    "        - With a stock, if a risky company becomes less risky, the stock price goes up\n",
    "        - With a loan, not only will the return stay the same, but the borrower can prepay the loan and refinance at a lower rate\n",
    "    - More downside risk\n",
    "        - If a borrower's credit quality decreases, the interest rate (typically) doesn't change despite the added risk\n",
    "            - Furthermore, if a loan becomes non-performing, all payments go towards paying down principal (intead of interest first, with the remainder used to pay down principal)\n",
    "                - Also, recovering any cash from a non-performing loan may involve legal costs and other admin fees\n",
    "    - Loans are not liquid\n",
    "        - An efficient frontier model assumes stocks can be traded at any time with no transaction costs\n",
    "        - Only a subset of loans are traded on a market, and usually only high quality loans"
   ]
  },
  {
   "cell_type": "markdown",
   "metadata": {},
   "source": [
    "- For a portfolio of stocks, risk is defined as the standard deviation of returns\n",
    "    - For a portfolio of loans, the concept of risk is linked to the overall credit quality of the portfolio\n",
    "        - Therefore, to monitor the riskiness of a loan portfolio, we need to monitor the credit quality of the different industries in the portfolio\n",
    "            - So, we care more about the credit quality of the industries than the volatility of loan returns"
   ]
  },
  {
   "cell_type": "markdown",
   "metadata": {},
   "source": [
    "___\n",
    "\n",
    "# Credit Quality\n",
    "\n",
    "- The credit quality of a loan portfolio can be monitored using:\n",
    "    - The weighted average loan rating of the portfolio\n",
    "    - The proportion of the portfolio rated\n",
    "    - The volume of non-performing loans\n",
    "- Credit quality can also be quantified using [ZETA credit scores](https://www.investopedia.com/terms/z/zeta_model.asp)\n",
    "    - The ZETA model uses financial ratios to assign a value between -15 and +15"
   ]
  },
  {
   "cell_type": "markdown",
   "metadata": {},
   "source": [
    "___\n",
    "\n",
    "# The Model\n",
    "\n",
    "**Risk**\n",
    "- To apply the Markowitz model to commercial loans, industries are treated as a **single security**\n",
    "    - Risk is defined as the variation in industry credit quality\n",
    "    \n",
    "**Returns**\n",
    "- Returns are derived using a loan pricing matrix\n",
    "\n",
    "- The key factors in determining the returns for an industry are:\n",
    "    1. current credit quality\n",
    "    2. industry-specific risk factors\n",
    "    \n",
    "*Industry credit quality*\n",
    "- Can be measured using:\n",
    "    - The internal risk rating of the industry\n",
    "        - E.g. weighted-average loan rating\n",
    "    - External rating\n",
    "        - E.g. ZETA credit score\n",
    "        \n",
    "*Industry-specific risk factors*        \n",
    "- Include:\n",
    "    - economic fundamentals of the industry\n",
    "    - cyclicality\n",
    "    - technology\n",
    "    - regulation\n",
    "    - commodity price sensitivity\n",
    "    \n",
    "- Industry returns use the Loan Pricing Matrix (by the Loan Pricing Corporation)\n",
    "    - Example\n",
    "        - 30m dollar loan\n",
    "        - 3-year prime based revolving\n",
    "        - Used for working capital purposes\n",
    "        - Generic company (300m in sales)\n",
    "    - From this information, the ROA is calculated for the loan\n",
    "\n",
    "**ROA**\n",
    "- Calculated as the spread over LIBOR plus fees"
   ]
  },
  {
   "cell_type": "markdown",
   "metadata": {},
   "source": [
    "**Variance**\n",
    "\n",
    "- To be able to create an efficient frontier, we need to define some measure equivalent to the variance of stock returns\n",
    "    - We'll use the **variation in industry credit quality**"
   ]
  },
  {
   "cell_type": "markdown",
   "metadata": {},
   "source": [
    "**Covariance**\n",
    "- Another key component of the efficient frontier is the **covariance** between \"securities\", or in this case, industries\n",
    "    - The covariance shows how much two industries move together\n",
    "        - E.g. if mining and paper have low covariance, a sharp drop in the credit quality of mining won't really affect the credit quality of the paper industry"
   ]
  },
  {
   "cell_type": "markdown",
   "metadata": {},
   "source": [
    "- Generally, industry credit quality moves in response to:\n",
    "    - changes in the economy\n",
    "    - changes in levels of leverage"
   ]
  },
  {
   "cell_type": "markdown",
   "metadata": {},
   "source": [
    "- Industry covariances are derived from quarterly industry ZETA credit scores from 1980 to 1990\n",
    "- Cluster analysis was used to give insight into the nature of the inter-relationships\n",
    "    - The procedure:\n",
    "        1. Assigns a distinct bin to each industry\n",
    "        2. The two most covariant clusters are merged into one\n",
    "        3. The procedure continues until only one cluster is left\n",
    "    - Using this procedure, we can cluster the industries into more workable groups"
   ]
  },
  {
   "cell_type": "markdown",
   "metadata": {},
   "source": [
    "___\n",
    "\n",
    "# The Efficient Frontier\n",
    "\n",
    "$$\n",
    "\\left ( \\text{Portfolio Credit Quality} \\right )_{t} = Z^{(p)} = \\sum_{i=1}^{N}w_{i}\\cdot\\left (\\text{Credit Quality of Industry}\\right )^{(i)}_{t} = \\sum_{i=1}^{N}w_{i}Z^{(i)}_{t}\n",
    "$$\n",
    "\n",
    "- Note: the $t$ subscript denotes the quality at time $t$"
   ]
  },
  {
   "cell_type": "markdown",
   "metadata": {},
   "source": [
    "$$\n",
    "\\left ( \\text{Variance of Portfolio Credit Quality} \\right ) = \\sigma_{t}^{2} = \\sum_{i=1}^{N}\\sum_{j=1}^{N}w_{i}w_{j}\\rho_{i,j}\\sigma_{i}\\sigma_{j}\n",
    "$$\n",
    "\n",
    "- Note: the $\\sigma$s denote the variances of the industry's/portfolio's ZETA score, and the $\\rho_{i,j}$ denotes the covariance of industries $i$ and $j$"
   ]
  },
  {
   "cell_type": "markdown",
   "metadata": {},
   "source": [
    "$$\n",
    "\\left ( \\text{Portfolio Return} \\right ) = R_{p} = \\sum_{i=1}^{N}w_{i}R_{i}\n",
    "$$"
   ]
  },
  {
   "cell_type": "markdown",
   "metadata": {},
   "source": [
    "- So, to create the efficient frontier, we iterate over each return that can be achieved by the portfolio (denoted $R_{p}$) and figure out the least risky allocation that achieves this return\n",
    "    - Note: we're not allowed to have any weight less than zero, and all the weights need to sum to 1\n",
    "        - These constraints are more formally defined below"
   ]
  },
  {
   "cell_type": "markdown",
   "metadata": {},
   "source": [
    "**Formal definition of optimization problem**\n",
    "\n",
    "$$\n",
    "\\text{minimize }: \\sum_{i=1}^{N}\\sum_{j=1}^{N}w_{i}w_{j}\\rho_{i,j}\\sigma_{i}\\sigma_{j}\\\\\n",
    "\\text{constraint 1}: \\sum_{i=1}^{N}w_{i}=1 \\\\\n",
    "\\text{constraint 2}: w_{i} \\geq 0 \\forall 1\\leq i \\leq N\\\\\n",
    "\\text{constraint 3}: R_{p} = \\sum_{i=1}^{N}w_{i}R_{i}\n",
    "$$"
   ]
  },
  {
   "cell_type": "markdown",
   "metadata": {},
   "source": [
    "- **Note**: these constraints may be insufficient because of concentration limitations imposed on banks\n",
    "    - Another contraint that limits the weight of any industry to 10% of the total portfolio can fix this problem"
   ]
  },
  {
   "cell_type": "markdown",
   "metadata": {},
   "source": [
    "____\n",
    "\n",
    "# Implications for Commercial Loan Portfolio Management\n",
    "\n",
    "### 1. Data is historical\n",
    "\n",
    "- The relationships shown in the data may not accurately predict future performance of the industries/loans\n",
    "    - As the data changes going forward, the efficient frontier will also change\n",
    "    \n",
    "- To account for this uncertainty, forecasts could simulate the ZETA scores of industries going forward to have more accurate predictions of risk\n",
    "\n",
    "### 2. Changes in correlation can happen for many reasons\n",
    "\n",
    "- Therefore, the model may predict very different outcomes based on the assumptions at the time of its development\n",
    "\n",
    "### 3. Risk and return data is based on averages\n",
    "\n",
    "- May not be representative of the idiosyncratic risk of an individual borrower\n",
    "\n",
    "### 4. Concentration can affect liquidity\n",
    "\n",
    "- Even if there are no concentration limitations on the portfolio allocation, assets can become illiquid regardless of individual performance when an industry is performing poorly\n",
    "    - This can be fixed by setting personal covenants on industry concentration\n",
    "    \n",
    "### 5. Doesn't account for HLTs\n",
    "\n",
    "- Loans to highly-leveraged companies are more risky than the industry volatility accounts for\n",
    "    - This can be fixed by defining HLTs as a separate industry\n",
    "    \n",
    "### 6. The model does not indicate *which* of the efficient frontier portfolios to select\n",
    "\n",
    "- The appropriate allocation can be selected based on the desired risk-return profile"
   ]
  }
 ],
 "metadata": {
  "kernelspec": {
   "display_name": "Python 3",
   "language": "python",
   "name": "python3"
  },
  "language_info": {
   "codemirror_mode": {
    "name": "ipython",
    "version": 3
   },
   "file_extension": ".py",
   "mimetype": "text/x-python",
   "name": "python",
   "nbconvert_exporter": "python",
   "pygments_lexer": "ipython3",
   "version": "3.6.5"
  }
 },
 "nbformat": 4,
 "nbformat_minor": 2
}
