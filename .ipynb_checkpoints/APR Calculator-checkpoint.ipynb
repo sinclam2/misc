{
 "cells": [
  {
   "cell_type": "markdown",
   "metadata": {},
   "source": [
    "# This notebook holds a simple tool to derive the APR for a loan by specifying the:\n",
    "\n",
    "## 1. Loan Amount\n",
    "\n",
    "## 2. Term\n",
    "\n",
    "## 3. Payment Frequency\n",
    "\n",
    "## 4. Loan Payment Amount\n",
    "\n",
    "- **Note**: this notebook was based on [this link](https://docs.scipy.org/doc/numpy-1.14.0/reference/generated/numpy.irr.html)"
   ]
  },
  {
   "cell_type": "code",
   "execution_count": 1,
   "metadata": {},
   "outputs": [],
   "source": [
    "import pandas as pd\n",
    "import numpy as np\n",
    "from scipy.optimize import fsolve"
   ]
  },
  {
   "cell_type": "markdown",
   "metadata": {},
   "source": [
    "_____\n",
    "\n",
    "# Example\n",
    "\n",
    "- Loan Amount = 1000\n",
    "- Term = 12 months\n",
    "- Payment Frequency = Bi-weekly\n",
    "- Loan Payment Amount = 50"
   ]
  },
  {
   "cell_type": "markdown",
   "metadata": {},
   "source": [
    "- We can use this info to create the following schedule"
   ]
  },
  {
   "cell_type": "code",
   "execution_count": 19,
   "metadata": {},
   "outputs": [],
   "source": [
    "df = pd.DataFrame(index = [pd.to_datetime('1-1-2018').date()] + \n",
    "                  [x.date() for x in pd.date_range('1-1-2018', periods=24, freq='SM')])\n",
    "df['CF'] = 50\n",
    "df['CF'].iloc[0] = -1000"
   ]
  },
  {
   "cell_type": "code",
   "execution_count": 23,
   "metadata": {},
   "outputs": [
    {
     "data": {
      "text/plain": [
       "0.3631402536554482"
      ]
     },
     "execution_count": 23,
     "metadata": {},
     "output_type": "execute_result"
    }
   ],
   "source": [
    "np.irr(df['CF'])*24"
   ]
  },
  {
   "cell_type": "markdown",
   "metadata": {},
   "source": [
    "- **Note**: this calculation assumes evenly spaced payments\n",
    "    - We can adjust for this using the following code"
   ]
  },
  {
   "cell_type": "code",
   "execution_count": 37,
   "metadata": {},
   "outputs": [
    {
     "data": {
      "text/plain": [
       "0.36448232881648335"
      ]
     },
     "execution_count": 37,
     "metadata": {},
     "output_type": "execute_result"
    }
   ],
   "source": [
    "df.index = pd.to_datetime(df.index)\n",
    "np.irr(df.resample('D').sum()['CF'])*365"
   ]
  }
 ],
 "metadata": {
  "kernelspec": {
   "display_name": "Python 3",
   "language": "python",
   "name": "python3"
  },
  "language_info": {
   "codemirror_mode": {
    "name": "ipython",
    "version": 3
   },
   "file_extension": ".py",
   "mimetype": "text/x-python",
   "name": "python",
   "nbconvert_exporter": "python",
   "pygments_lexer": "ipython3",
   "version": "3.6.5"
  }
 },
 "nbformat": 4,
 "nbformat_minor": 2
}
