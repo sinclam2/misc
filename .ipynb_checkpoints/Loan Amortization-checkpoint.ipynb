{
 "cells": [
  {
   "cell_type": "markdown",
   "metadata": {},
   "source": [
    "# If we have a loan where the principal is repaid at maturity and only interest is paid every period, the present value of the future payments is equal to:\n",
    "\n",
    "$$\n",
    "PV(\\text{Future Payments}) = \\frac{\\text{Periodic Interest}}{(1+i)}+\\frac{\\text{Periodic Interest}}{(1+i)^{2}}+...+\\frac{\\text{Periodic Interest}}{(1+i)^{n}} + \\frac{\\text{Principal}}{(1+i)^{n}}\n",
    "$$\n",
    "\n",
    "# We know that this present value is equal to the principal\n",
    "\n",
    "### That's is how borrowing works. If they didn't equal eachother, someone is getting ripped off"
   ]
  },
  {
   "cell_type": "markdown",
   "metadata": {},
   "source": [
    "# *But what if we wanted to have equal loan payments for each period instead of only paying the interest and all the principal at maturity?*\n",
    "\n",
    "### This is called an *amortizing loan*, and a bit of the principal is paid back each period"
   ]
  },
  {
   "cell_type": "markdown",
   "metadata": {},
   "source": [
    "# When calculating the periodic payment for this amortizing loan, we need the payment to be the same for each period\n",
    "\n",
    "# We can derive this payment amount by calculating the present value of the future payments, and setting it equal to the loan amount (similar to above)\n",
    "\n",
    "# First, we review some actuary formulas"
   ]
  },
  {
   "cell_type": "markdown",
   "metadata": {},
   "source": [
    "____\n",
    "\n",
    "# Review: [Geometric Series](https://en.wikipedia.org/wiki/Geometric_series)\n",
    "\n",
    "### If we receive a payment of $A$ each period for $n$ periods, and our interest rate is $i$, then the present value of the series of payments is equal to:\n",
    "\n",
    "$$\n",
    "PV = A + \\frac{A}{1+i} + \\frac{A}{(1+i)^{2}}+...\\frac{A}{(1+i)^{n-1}}\n",
    "$$\n",
    "\n",
    "## *Note*: this calculation assumes we receive payments at the *beginning* of the period instead of the end. We'll need to adjust it before we can use it in our loan payment calculations"
   ]
  },
  {
   "cell_type": "markdown",
   "metadata": {},
   "source": [
    "### The general formula for the geometric series gives us:\n",
    "\n",
    "$$\n",
    "\\sum_{k=0}^{n-1} Ar = A\\frac{1-r^{n}}{1-r}\n",
    "$$"
   ]
  },
  {
   "cell_type": "markdown",
   "metadata": {},
   "source": [
    "### If we set $r=\\frac{1}{1+i}$, this becomes:\n",
    "\n",
    "$$\n",
    "A\\frac{1-r^{n}}{1-r} = A\\frac{1-(\\frac{1}{1+i})^{n}}{1-(\\frac{1}{1+i})}\n",
    "$$"
   ]
  },
  {
   "cell_type": "markdown",
   "metadata": {},
   "source": [
    "$$\n",
    "= A \\frac{\\frac{(1+i)^{n}-1}{(1+i)^{n}}}{\\frac{1-(1+i)}{1+i}} = A\\frac{(1+i)^{n}-1}{(1+i)^{n}}\\frac{(1+i)}{i} = A \\frac{(1+i)^{n}-1}{(i)(1+i)^{n-1}}\n",
    "$$"
   ]
  },
  {
   "cell_type": "markdown",
   "metadata": {},
   "source": [
    "## Before we can use this formula, we need to adjust for the payments being made at the end of the period\n",
    "\n",
    "### We can do this by discounting the total by one period i.e. multiplying it by $\\frac{1}{1+i}$\n",
    "\n",
    "$$\n",
    "\\implies \\left ( \\frac{1}{1+i} \\right ) A \\frac{(1+i)^{n}-1}{(i)(1+i)^{n-1}} = A \\frac{(1+i)^{n}-1}{(i)(1+i)^{n}}\n",
    "$$"
   ]
  },
  {
   "cell_type": "markdown",
   "metadata": {},
   "source": [
    "_____\n",
    "\n",
    "# So now, we know we want to have a periodic payment that's the same every time. Let's denote it $P^{*}$\n",
    "\n",
    "# We can use formula above, and combine it with the fact that the present value of the future payments is equal to the principal to derive the following formula:\n",
    "\n",
    "$$\n",
    "\\left (\\text{Loan Amount} \\right ) = P^{*} \\frac{(1+i)^{n}-1}{(i)(1+i)^{n}}\n",
    "$$"
   ]
  },
  {
   "cell_type": "markdown",
   "metadata": {},
   "source": [
    "## Solving for $P^{*}$:"
   ]
  },
  {
   "cell_type": "markdown",
   "metadata": {},
   "source": [
    "$$\n",
    "P^{*} = \\left (\\text{Loan Amount} \\right ) \\cdot \\frac{(i)(1+i)^{n}}{(1+i)^{n}-1}\n",
    "$$"
   ]
  },
  {
   "cell_type": "markdown",
   "metadata": {},
   "source": [
    "## That's it! Let's try a few examples"
   ]
  },
  {
   "cell_type": "markdown",
   "metadata": {},
   "source": [
    "___\n",
    "\n",
    "# Example 1\n",
    "\n",
    "### *What is the periodic payment for an amortizing loan of 100 dollars that pays interest annually for 10 years at an interest rate of 10%?*"
   ]
  },
  {
   "cell_type": "markdown",
   "metadata": {},
   "source": [
    "- $n=10$\n",
    "- $i=0.1$\n",
    "\n",
    "$$\n",
    "\\implies P^{*} = 100 \\cdot \\frac{(0.1)(1.1)^{10}}{(1.1)^{10}-1} \\approx 16.28\n",
    "$$"
   ]
  },
  {
   "cell_type": "markdown",
   "metadata": {},
   "source": [
    "____\n",
    "\n",
    "# Example 2\n",
    "\n",
    "### *What is the periodic payment for an amortizing loan of 20,000 dollars that pays interest monthly for 5 years at an interest rate of 5%?*"
   ]
  },
  {
   "cell_type": "markdown",
   "metadata": {},
   "source": [
    "- $n = 5\\cdot12 = 60$\n",
    "- $i=\\frac{0.05}{12} \\approx 0.0042$\n",
    "\n",
    "$$\n",
    "\\implies P^{*} = 20000 \\cdot \\frac{(0.0042)(1.0042)^{60}}{(1.0042)^{60}-1} \\approx 377.79\n",
    "$$"
   ]
  }
 ],
 "metadata": {
  "kernelspec": {
   "display_name": "Python 3",
   "language": "python",
   "name": "python3"
  },
  "language_info": {
   "codemirror_mode": {
    "name": "ipython",
    "version": 3
   },
   "file_extension": ".py",
   "mimetype": "text/x-python",
   "name": "python",
   "nbconvert_exporter": "python",
   "pygments_lexer": "ipython3",
   "version": "3.6.5"
  }
 },
 "nbformat": 4,
 "nbformat_minor": 2
}
