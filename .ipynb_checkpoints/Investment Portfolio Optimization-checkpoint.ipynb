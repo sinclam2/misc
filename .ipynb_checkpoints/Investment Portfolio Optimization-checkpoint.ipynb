{
 "cells": [
  {
   "cell_type": "markdown",
   "metadata": {},
   "source": [
    "Blog link: http://www.bradfordlynch.com/blog/2015/12/04/InvestmentPortfolioOptimization.html"
   ]
  },
  {
   "cell_type": "code",
   "execution_count": 69,
   "metadata": {},
   "outputs": [],
   "source": [
    "from pandas_datareader import data, wb\n",
    "import pandas as pd\n",
    "import numpy as np\n",
    "import matplotlib.pyplot as plt\n",
    "from matplotlib import cm\n",
    "%matplotlib inline"
   ]
  },
  {
   "cell_type": "code",
   "execution_count": 72,
   "metadata": {},
   "outputs": [],
   "source": [
    "plt.rcParams['figure.figsize'] = 10, 10"
   ]
  },
  {
   "cell_type": "markdown",
   "metadata": {},
   "source": [
    "# The general idea of portfolio theory is *choosing the least risky portfolio mix that will achieve the same return*"
   ]
  },
  {
   "cell_type": "markdown",
   "metadata": {},
   "source": [
    "# Review of mean and variance:\n",
    "\n",
    "## If we observe a single asset over $n$-periods, we can calculate the following statistical measures:\n",
    "\n",
    "## Mean asset return: $\\bar{r} = \\left ( (1+r_{1})\\cdot(1-r_{2})\\cdot ...(1-r_{2}) \\right )^{1/n} - 1 = \\left ( \\prod (1+r_{i}) \\right )^{1/n} -1$\n",
    "\n",
    "- **Note**: this is the geometric return\n",
    "\n",
    "## Variance of asset returns: $\\sigma^{2}_{r} = \\frac{(r_{1} - \\bar{r})^{2} + (r_{2} - \\bar{r})^{2} + ... + (r_{n} - \\bar{r})^{2}}{n} = \\frac{1}{n}\\sum (r_{i} - \\bar{r})^{2}$"
   ]
  },
  {
   "cell_type": "markdown",
   "metadata": {},
   "source": [
    "## Now, extending our portfolio to more than one asset, we need to take correlations into account:\n",
    "\n",
    "### Note: we now have $m$ assets and $n$ observations, so we need to consider the weights of each asset at time $t=0$"
   ]
  },
  {
   "cell_type": "markdown",
   "metadata": {},
   "source": [
    "## Mean portfolio return: $\\bar{r_{p}} = w_{1}\\bar{r_{1}}+w_{2}\\bar{r_{2}}+...+w_{m}\\bar{r_{m}} = \\sum w_{i}\\bar{r_{i}}$"
   ]
  },
  {
   "cell_type": "markdown",
   "metadata": {},
   "source": [
    "## Variance of portfolio returns: $\\sigma_{p} = \\sum_{i=1}^{m}\\sum_{j=1}^{m}w_{i}w_{j}\\rho_{i,j}\\sigma_{i}\\sigma_{j}$"
   ]
  },
  {
   "cell_type": "markdown",
   "metadata": {},
   "source": [
    "#### Here, $\\rho_{i,j}$ is the correlation between assets $i$ and $j$ and can be calculated as$\\rho_{i,j} = \\frac{Cov(i,j)}{\\sigma_{i}\\sigma_{j}}$ and $Cov(i,j) = E[r_{i}\\cdot r_{j}] - E[r_{i}\\cdot r_{j}]$"
   ]
  },
  {
   "cell_type": "markdown",
   "metadata": {},
   "source": [
    "_____\n",
    "\n",
    "# Aside\n",
    "\n",
    "## Before we get into the heavy duty stuff, let's show that these relationships are true on some real financial data\n",
    "\n",
    "### We'll use `pandas_datareader` to import the adjusted closing price for Google, Toyota, Coke and Pepsi"
   ]
  },
  {
   "cell_type": "code",
   "execution_count": 2,
   "metadata": {},
   "outputs": [],
   "source": [
    "list_assets = ['GOOGL', 'TM', 'KO', 'PEP']\n",
    "start = '2010-01-01'\n",
    "end = '2015-10-31'\n",
    "df = data.DataReader(list_assets, 'yahoo', start=start, end=end).loc[:,'Adj Close']"
   ]
  },
  {
   "cell_type": "code",
   "execution_count": 3,
   "metadata": {},
   "outputs": [
    {
     "data": {
      "text/html": [
       "<div>\n",
       "<style scoped>\n",
       "    .dataframe tbody tr th:only-of-type {\n",
       "        vertical-align: middle;\n",
       "    }\n",
       "\n",
       "    .dataframe tbody tr th {\n",
       "        vertical-align: top;\n",
       "    }\n",
       "\n",
       "    .dataframe thead th {\n",
       "        text-align: right;\n",
       "    }\n",
       "</style>\n",
       "<table border=\"1\" class=\"dataframe\">\n",
       "  <thead>\n",
       "    <tr style=\"text-align: right;\">\n",
       "      <th>Symbols</th>\n",
       "      <th>GOOGL</th>\n",
       "      <th>KO</th>\n",
       "      <th>PEP</th>\n",
       "      <th>TM</th>\n",
       "    </tr>\n",
       "    <tr>\n",
       "      <th>Date</th>\n",
       "      <th></th>\n",
       "      <th></th>\n",
       "      <th></th>\n",
       "      <th></th>\n",
       "    </tr>\n",
       "  </thead>\n",
       "  <tbody>\n",
       "    <tr>\n",
       "      <th>2010-01-04</th>\n",
       "      <td>313.688690</td>\n",
       "      <td>20.236887</td>\n",
       "      <td>46.964394</td>\n",
       "      <td>66.913338</td>\n",
       "    </tr>\n",
       "    <tr>\n",
       "      <th>2010-01-05</th>\n",
       "      <td>312.307312</td>\n",
       "      <td>19.992081</td>\n",
       "      <td>47.531902</td>\n",
       "      <td>65.883041</td>\n",
       "    </tr>\n",
       "    <tr>\n",
       "      <th>2010-01-06</th>\n",
       "      <td>304.434448</td>\n",
       "      <td>19.984987</td>\n",
       "      <td>47.056435</td>\n",
       "      <td>66.724564</td>\n",
       "    </tr>\n",
       "    <tr>\n",
       "      <th>2010-01-07</th>\n",
       "      <td>297.347351</td>\n",
       "      <td>19.935318</td>\n",
       "      <td>46.757347</td>\n",
       "      <td>65.898781</td>\n",
       "    </tr>\n",
       "    <tr>\n",
       "      <th>2010-01-08</th>\n",
       "      <td>301.311310</td>\n",
       "      <td>19.566349</td>\n",
       "      <td>46.603962</td>\n",
       "      <td>67.448112</td>\n",
       "    </tr>\n",
       "  </tbody>\n",
       "</table>\n",
       "</div>"
      ],
      "text/plain": [
       "Symbols          GOOGL         KO        PEP         TM\n",
       "Date                                                   \n",
       "2010-01-04  313.688690  20.236887  46.964394  66.913338\n",
       "2010-01-05  312.307312  19.992081  47.531902  65.883041\n",
       "2010-01-06  304.434448  19.984987  47.056435  66.724564\n",
       "2010-01-07  297.347351  19.935318  46.757347  65.898781\n",
       "2010-01-08  301.311310  19.566349  46.603962  67.448112"
      ]
     },
     "execution_count": 3,
     "metadata": {},
     "output_type": "execute_result"
    }
   ],
   "source": [
    "df.head()"
   ]
  },
  {
   "cell_type": "markdown",
   "metadata": {},
   "source": [
    "### If we pick Google as our first asset, and we want to know the average return over the period, we can either:\n",
    "\n",
    "#### 1. Take the ratio between the growth in price and the beginning price, and divide it by the number of observations\n",
    "\n",
    "#### 2. Use the formula above for mean asset return"
   ]
  },
  {
   "cell_type": "markdown",
   "metadata": {},
   "source": [
    "- We'll show calculate the first return first"
   ]
  },
  {
   "cell_type": "code",
   "execution_count": 4,
   "metadata": {},
   "outputs": [
    {
     "data": {
      "text/plain": [
       "(737.3900146484375, 313.6886901855469, 1468)"
      ]
     },
     "execution_count": 4,
     "metadata": {},
     "output_type": "execute_result"
    }
   ],
   "source": [
    "df['GOOGL'].iloc[-1], df['GOOGL'].iloc[0], len(df['GOOGL'])"
   ]
  },
  {
   "cell_type": "markdown",
   "metadata": {},
   "source": [
    "### So our beginning value was 313.69, our ending value was 737.39, and this growth occurred over 1468 periods\n",
    "\n",
    "### Therefore, our return is calculated as:"
   ]
  },
  {
   "cell_type": "code",
   "execution_count": 5,
   "metadata": {},
   "outputs": [
    {
     "data": {
      "text/plain": [
       "0.0005824010574886351"
      ]
     },
     "execution_count": 5,
     "metadata": {},
     "output_type": "execute_result"
    }
   ],
   "source": [
    "((df['GOOGL'].iloc[-1])/df['GOOGL'].iloc[0])**(1/len(df['GOOGL']))-1"
   ]
  },
  {
   "cell_type": "markdown",
   "metadata": {},
   "source": [
    "### So our average daily return was about 0.0582%"
   ]
  },
  {
   "cell_type": "markdown",
   "metadata": {},
   "source": [
    "- Now, we'll calculate it the second way (the formula for mean asset return)"
   ]
  },
  {
   "cell_type": "code",
   "execution_count": 6,
   "metadata": {},
   "outputs": [
    {
     "data": {
      "text/plain": [
       "0.0005824010574886351"
      ]
     },
     "execution_count": 6,
     "metadata": {},
     "output_type": "execute_result"
    }
   ],
   "source": [
    "((df['GOOGL']/df['GOOGL'].shift(1)).prod())**(1/len(df['GOOGL']))-1"
   ]
  },
  {
   "cell_type": "markdown",
   "metadata": {},
   "source": [
    "## As we can see, we get the same result"
   ]
  },
  {
   "cell_type": "markdown",
   "metadata": {},
   "source": [
    "## Now, we'll use this return to calculate the variance of the returns"
   ]
  },
  {
   "cell_type": "markdown",
   "metadata": {},
   "source": [
    "- we'll hardcode some of these guys for simplicity"
   ]
  },
  {
   "cell_type": "code",
   "execution_count": 7,
   "metadata": {},
   "outputs": [],
   "source": [
    "series_daily_returns = df['GOOGL']/df['GOOGL'].shift(1)\n",
    "r_mean = (series_daily_returns.prod())**(1/len(series_daily_returns))-1"
   ]
  },
  {
   "cell_type": "code",
   "execution_count": 8,
   "metadata": {},
   "outputs": [],
   "source": [
    "r_sigma = ((series_daily_returns-r_mean-1)**2).mean()"
   ]
  },
  {
   "cell_type": "code",
   "execution_count": 9,
   "metadata": {},
   "outputs": [
    {
     "data": {
      "text/plain": [
       "0.00026338724767035375"
      ]
     },
     "execution_count": 9,
     "metadata": {},
     "output_type": "execute_result"
    }
   ],
   "source": [
    "r_sigma"
   ]
  },
  {
   "cell_type": "markdown",
   "metadata": {},
   "source": [
    "- We can compare this value to the out-of-the-box variance method from python"
   ]
  },
  {
   "cell_type": "code",
   "execution_count": 10,
   "metadata": {},
   "outputs": [
    {
     "data": {
      "text/plain": [
       "0.0002635498789447685"
      ]
     },
     "execution_count": 10,
     "metadata": {},
     "output_type": "execute_result"
    }
   ],
   "source": [
    "series_daily_returns.var()"
   ]
  },
  {
   "cell_type": "markdown",
   "metadata": {},
   "source": [
    "## We can see, we get the same result\n",
    "\n",
    "### Note: in the first calculation, we needed to subtract one from the `series_daily_returns` but not from the second calculation. *WHY?*\n",
    "\n",
    "- This is because the values in `series_daily_returns` are the $(1+r_{i})$ values, so if we want the deviation from the mean, we'd either need to use $(1+\\bar{r})$ as the mean, or subtract the 1 out of each $(1+r_{i})$ term in the series"
   ]
  },
  {
   "cell_type": "markdown",
   "metadata": {},
   "source": [
    "# Now, let's build a portfolio and show that the formulas above are correct\n",
    "\n",
    "## Let's assume that on day 1, we bought 1 share of Google, 2 shares of Toyota, 3 shares of Coke, and 4 shares of Pepsi"
   ]
  },
  {
   "cell_type": "code",
   "execution_count": 11,
   "metadata": {},
   "outputs": [],
   "source": [
    "first_row = df.index[0]\n",
    "starting_total = 1*df.loc[first_row, 'GOOGL'] + 2*df.loc[first_row, \n",
    "                                                         'KO'] + 3*df.loc[first_row, 'PEP'] + 4*df.loc[first_row, 'TM']"
   ]
  },
  {
   "cell_type": "code",
   "execution_count": 12,
   "metadata": {},
   "outputs": [
    {
     "data": {
      "text/plain": [
       "762.7089958190918"
      ]
     },
     "execution_count": 12,
     "metadata": {},
     "output_type": "execute_result"
    }
   ],
   "source": [
    "starting_total"
   ]
  },
  {
   "cell_type": "code",
   "execution_count": 13,
   "metadata": {},
   "outputs": [],
   "source": [
    "last_row = df.index[-1]\n",
    "ending_total = 1*df.loc[last_row, 'GOOGL'] + 2*df.loc[last_row, \n",
    "                                                         'KO'] + 3*df.loc[last_row, 'PEP'] + 4*df.loc[last_row, 'TM']"
   ]
  },
  {
   "cell_type": "code",
   "execution_count": 14,
   "metadata": {},
   "outputs": [
    {
     "data": {
      "text/plain": [
       "1537.3795318603516"
      ]
     },
     "execution_count": 14,
     "metadata": {},
     "output_type": "execute_result"
    }
   ],
   "source": [
    "ending_total"
   ]
  },
  {
   "cell_type": "markdown",
   "metadata": {},
   "source": [
    "## Our daily return can be calculated as:"
   ]
  },
  {
   "cell_type": "code",
   "execution_count": 15,
   "metadata": {},
   "outputs": [
    {
     "data": {
      "text/plain": [
       "1.0004776058971947"
      ]
     },
     "execution_count": 15,
     "metadata": {},
     "output_type": "execute_result"
    }
   ],
   "source": [
    "(ending_total/starting_total)**(1/len(df))"
   ]
  },
  {
   "cell_type": "markdown",
   "metadata": {},
   "source": [
    "### Let's calculate this return the other way to show it's also equal to 0.04776%"
   ]
  },
  {
   "cell_type": "code",
   "execution_count": 16,
   "metadata": {},
   "outputs": [],
   "source": [
    "df_returns = df/df.shift(1)\n",
    "series_returns = df_returns.prod()"
   ]
  },
  {
   "cell_type": "markdown",
   "metadata": {},
   "source": [
    "### We need to calculate the weights"
   ]
  },
  {
   "cell_type": "code",
   "execution_count": 17,
   "metadata": {},
   "outputs": [],
   "source": [
    "series_weights = (df.loc[first_row]*[1,2,3,4])/starting_total"
   ]
  },
  {
   "cell_type": "code",
   "execution_count": 18,
   "metadata": {},
   "outputs": [
    {
     "data": {
      "text/plain": [
       "Symbols\n",
       "GOOGL    0.411282\n",
       "KO       0.053066\n",
       "PEP      0.184727\n",
       "TM       0.350925\n",
       "Name: 2010-01-04 00:00:00, dtype: float64"
      ]
     },
     "execution_count": 18,
     "metadata": {},
     "output_type": "execute_result"
    }
   ],
   "source": [
    "series_weights"
   ]
  },
  {
   "cell_type": "code",
   "execution_count": 19,
   "metadata": {},
   "outputs": [
    {
     "data": {
      "text/plain": [
       "1.0004776058971947"
      ]
     },
     "execution_count": 19,
     "metadata": {},
     "output_type": "execute_result"
    }
   ],
   "source": [
    "((series_returns*series_weights).sum())**(1/len(df))"
   ]
  },
  {
   "cell_type": "markdown",
   "metadata": {},
   "source": [
    "### Eyyyyy, the exact same"
   ]
  },
  {
   "cell_type": "markdown",
   "metadata": {},
   "source": [
    "### Now, let's do it for the portfolio variance"
   ]
  },
  {
   "cell_type": "code",
   "execution_count": 20,
   "metadata": {},
   "outputs": [],
   "source": [
    "df['portfolio'] = df['GOOGL'] + 2*df['KO'] + 3*df['PEP'] + 4*df['TM']"
   ]
  },
  {
   "cell_type": "code",
   "execution_count": 21,
   "metadata": {},
   "outputs": [],
   "source": [
    "df_returns['portfolio'] = df['portfolio']/df['portfolio'].shift(1)"
   ]
  },
  {
   "cell_type": "code",
   "execution_count": 22,
   "metadata": {},
   "outputs": [
    {
     "data": {
      "text/plain": [
       "0.00010789152287555727"
      ]
     },
     "execution_count": 22,
     "metadata": {},
     "output_type": "execute_result"
    }
   ],
   "source": [
    "df_returns['portfolio'].var()"
   ]
  },
  {
   "cell_type": "markdown",
   "metadata": {},
   "source": [
    "### Calculating it the other way..."
   ]
  },
  {
   "cell_type": "code",
   "execution_count": 23,
   "metadata": {},
   "outputs": [
    {
     "data": {
      "text/html": [
       "<div>\n",
       "<style scoped>\n",
       "    .dataframe tbody tr th:only-of-type {\n",
       "        vertical-align: middle;\n",
       "    }\n",
       "\n",
       "    .dataframe tbody tr th {\n",
       "        vertical-align: top;\n",
       "    }\n",
       "\n",
       "    .dataframe thead th {\n",
       "        text-align: right;\n",
       "    }\n",
       "</style>\n",
       "<table border=\"1\" class=\"dataframe\">\n",
       "  <thead>\n",
       "    <tr style=\"text-align: right;\">\n",
       "      <th>Symbols</th>\n",
       "      <th>GOOGL</th>\n",
       "      <th>KO</th>\n",
       "      <th>PEP</th>\n",
       "      <th>TM</th>\n",
       "      <th>portfolio</th>\n",
       "    </tr>\n",
       "    <tr>\n",
       "      <th>Symbols</th>\n",
       "      <th></th>\n",
       "      <th></th>\n",
       "      <th></th>\n",
       "      <th></th>\n",
       "      <th></th>\n",
       "    </tr>\n",
       "  </thead>\n",
       "  <tbody>\n",
       "    <tr>\n",
       "      <th>GOOGL</th>\n",
       "      <td>1.000000</td>\n",
       "      <td>0.335417</td>\n",
       "      <td>0.318484</td>\n",
       "      <td>0.308749</td>\n",
       "      <td>0.840925</td>\n",
       "    </tr>\n",
       "    <tr>\n",
       "      <th>KO</th>\n",
       "      <td>0.335417</td>\n",
       "      <td>1.000000</td>\n",
       "      <td>0.624003</td>\n",
       "      <td>0.397629</td>\n",
       "      <td>0.553433</td>\n",
       "    </tr>\n",
       "    <tr>\n",
       "      <th>PEP</th>\n",
       "      <td>0.318484</td>\n",
       "      <td>0.624003</td>\n",
       "      <td>1.000000</td>\n",
       "      <td>0.400365</td>\n",
       "      <td>0.589375</td>\n",
       "    </tr>\n",
       "    <tr>\n",
       "      <th>TM</th>\n",
       "      <td>0.308749</td>\n",
       "      <td>0.397629</td>\n",
       "      <td>0.400365</td>\n",
       "      <td>1.000000</td>\n",
       "      <td>0.741013</td>\n",
       "    </tr>\n",
       "    <tr>\n",
       "      <th>portfolio</th>\n",
       "      <td>0.840925</td>\n",
       "      <td>0.553433</td>\n",
       "      <td>0.589375</td>\n",
       "      <td>0.741013</td>\n",
       "      <td>1.000000</td>\n",
       "    </tr>\n",
       "  </tbody>\n",
       "</table>\n",
       "</div>"
      ],
      "text/plain": [
       "Symbols       GOOGL        KO       PEP        TM  portfolio\n",
       "Symbols                                                     \n",
       "GOOGL      1.000000  0.335417  0.318484  0.308749   0.840925\n",
       "KO         0.335417  1.000000  0.624003  0.397629   0.553433\n",
       "PEP        0.318484  0.624003  1.000000  0.400365   0.589375\n",
       "TM         0.308749  0.397629  0.400365  1.000000   0.741013\n",
       "portfolio  0.840925  0.553433  0.589375  0.741013   1.000000"
      ]
     },
     "execution_count": 23,
     "metadata": {},
     "output_type": "execute_result"
    }
   ],
   "source": [
    "df_corr = df_returns.corr()\n",
    "df_corr"
   ]
  },
  {
   "cell_type": "code",
   "execution_count": 24,
   "metadata": {},
   "outputs": [
    {
     "data": {
      "text/plain": [
       "Symbols\n",
       "GOOGL        0.016234\n",
       "KO           0.009607\n",
       "PEP          0.008935\n",
       "TM           0.014030\n",
       "portfolio    0.010387\n",
       "dtype: float64"
      ]
     },
     "execution_count": 24,
     "metadata": {},
     "output_type": "execute_result"
    }
   ],
   "source": [
    "series_std = df_returns.std()\n",
    "series_std"
   ]
  },
  {
   "cell_type": "code",
   "execution_count": 25,
   "metadata": {},
   "outputs": [
    {
     "data": {
      "text/plain": [
       "Symbols\n",
       "GOOGL    0.411282\n",
       "KO       0.053066\n",
       "PEP      0.184727\n",
       "TM       0.350925\n",
       "Name: 2010-01-04 00:00:00, dtype: float64"
      ]
     },
     "execution_count": 25,
     "metadata": {},
     "output_type": "execute_result"
    }
   ],
   "source": [
    "series_weights"
   ]
  },
  {
   "cell_type": "code",
   "execution_count": 26,
   "metadata": {},
   "outputs": [],
   "source": [
    "portfolio_var = 0\n",
    "\n",
    "for asset1 in list_assets:\n",
    "    for asset2 in list_assets:\n",
    "        w1 = series_weights.loc[asset1]\n",
    "        w2 = series_weights.loc[asset2]\n",
    "        sigma1 = series_std.loc[asset1]\n",
    "        sigma2 = series_std.loc[asset2]\n",
    "        rho = df_corr.loc[asset1, asset2]\n",
    "        val = w1*w2*rho*sigma1*sigma2\n",
    "        portfolio_var += val"
   ]
  },
  {
   "cell_type": "code",
   "execution_count": 27,
   "metadata": {},
   "outputs": [
    {
     "data": {
      "text/plain": [
       "0.00011096040952837303"
      ]
     },
     "execution_count": 27,
     "metadata": {},
     "output_type": "execute_result"
    }
   ],
   "source": [
    "portfolio_var"
   ]
  },
  {
   "cell_type": "markdown",
   "metadata": {},
   "source": [
    "### This seems pretty close. Probably only off because of rounding error"
   ]
  },
  {
   "cell_type": "markdown",
   "metadata": {},
   "source": [
    "______\n",
    "\n",
    "# Back to the portfolio optimization"
   ]
  },
  {
   "cell_type": "markdown",
   "metadata": {},
   "source": [
    "### Let's loop through all the combinations of different portfolio weights to see the expected return and variance"
   ]
  },
  {
   "cell_type": "code",
   "execution_count": 39,
   "metadata": {},
   "outputs": [],
   "source": [
    "df_weights = pd.DataFrame(columns = ['w1','w2','w3','w4'])\n",
    "\n",
    "i = 0\n",
    "for w1 in np.arange(0,1.05, 0.05):\n",
    "    top1 = round((1.05-w1), 2)\n",
    "    for w2 in np.arange(0, top1, 0.05):\n",
    "        top2 = round((1.05-(w1+w2)), 2)\n",
    "        for w3 in np.arange(0, top2, 0.05):\n",
    "            w4 = abs(round((1.00-(w1+w2+w3)), 2))\n",
    "            df_weights.loc[i] = [w1, w2, w3, w4]\n",
    "            i += 1"
   ]
  },
  {
   "cell_type": "markdown",
   "metadata": {},
   "source": [
    "### Now, we'll convert returns to monthly and calculate the expected return and variance of each portfolio"
   ]
  },
  {
   "cell_type": "code",
   "execution_count": 40,
   "metadata": {},
   "outputs": [],
   "source": [
    "df_monthly = df.iloc[:,:-1].resample('M').last()\n",
    "df_returns_monthly = (df_monthly/df_monthly.shift(1)).dropna()"
   ]
  },
  {
   "cell_type": "code",
   "execution_count": 41,
   "metadata": {},
   "outputs": [
    {
     "data": {
      "text/plain": [
       "Symbols\n",
       "GOOGL    1.014929\n",
       "KO       1.010047\n",
       "PEP      1.010430\n",
       "TM       1.008774\n",
       "dtype: float64"
      ]
     },
     "execution_count": 41,
     "metadata": {},
     "output_type": "execute_result"
    }
   ],
   "source": [
    "series_monthly_returns = (df_returns_monthly.prod())**(1/len(df_returns_monthly))\n",
    "series_monthly_returns"
   ]
  },
  {
   "cell_type": "code",
   "execution_count": 42,
   "metadata": {},
   "outputs": [],
   "source": [
    "series_montly_std = df_returns_monthly.std()"
   ]
  },
  {
   "cell_type": "code",
   "execution_count": 43,
   "metadata": {},
   "outputs": [
    {
     "data": {
      "text/plain": [
       "Symbols\n",
       "GOOGL    0.074715\n",
       "KO       0.041253\n",
       "PEP      0.034632\n",
       "TM       0.056326\n",
       "dtype: float64"
      ]
     },
     "execution_count": 43,
     "metadata": {},
     "output_type": "execute_result"
    }
   ],
   "source": [
    "series_montly_std"
   ]
  },
  {
   "cell_type": "code",
   "execution_count": 44,
   "metadata": {},
   "outputs": [],
   "source": [
    "df_weights['mean return'] = (df_weights*series_monthly_returns.values).sum(axis=1)"
   ]
  },
  {
   "cell_type": "code",
   "execution_count": 45,
   "metadata": {},
   "outputs": [
    {
     "data": {
      "text/html": [
       "<div>\n",
       "<style scoped>\n",
       "    .dataframe tbody tr th:only-of-type {\n",
       "        vertical-align: middle;\n",
       "    }\n",
       "\n",
       "    .dataframe tbody tr th {\n",
       "        vertical-align: top;\n",
       "    }\n",
       "\n",
       "    .dataframe thead th {\n",
       "        text-align: right;\n",
       "    }\n",
       "</style>\n",
       "<table border=\"1\" class=\"dataframe\">\n",
       "  <thead>\n",
       "    <tr style=\"text-align: right;\">\n",
       "      <th>Symbols</th>\n",
       "      <th>GOOGL</th>\n",
       "      <th>KO</th>\n",
       "      <th>PEP</th>\n",
       "      <th>TM</th>\n",
       "    </tr>\n",
       "    <tr>\n",
       "      <th>Symbols</th>\n",
       "      <th></th>\n",
       "      <th></th>\n",
       "      <th></th>\n",
       "      <th></th>\n",
       "    </tr>\n",
       "  </thead>\n",
       "  <tbody>\n",
       "    <tr>\n",
       "      <th>GOOGL</th>\n",
       "      <td>1.000000</td>\n",
       "      <td>0.299392</td>\n",
       "      <td>0.190546</td>\n",
       "      <td>0.230602</td>\n",
       "    </tr>\n",
       "    <tr>\n",
       "      <th>KO</th>\n",
       "      <td>0.299392</td>\n",
       "      <td>1.000000</td>\n",
       "      <td>0.630792</td>\n",
       "      <td>0.166327</td>\n",
       "    </tr>\n",
       "    <tr>\n",
       "      <th>PEP</th>\n",
       "      <td>0.190546</td>\n",
       "      <td>0.630792</td>\n",
       "      <td>1.000000</td>\n",
       "      <td>0.176827</td>\n",
       "    </tr>\n",
       "    <tr>\n",
       "      <th>TM</th>\n",
       "      <td>0.230602</td>\n",
       "      <td>0.166327</td>\n",
       "      <td>0.176827</td>\n",
       "      <td>1.000000</td>\n",
       "    </tr>\n",
       "  </tbody>\n",
       "</table>\n",
       "</div>"
      ],
      "text/plain": [
       "Symbols     GOOGL        KO       PEP        TM\n",
       "Symbols                                        \n",
       "GOOGL    1.000000  0.299392  0.190546  0.230602\n",
       "KO       0.299392  1.000000  0.630792  0.166327\n",
       "PEP      0.190546  0.630792  1.000000  0.176827\n",
       "TM       0.230602  0.166327  0.176827  1.000000"
      ]
     },
     "execution_count": 45,
     "metadata": {},
     "output_type": "execute_result"
    }
   ],
   "source": [
    "df_corr = df_returns_monthly.corr()\n",
    "df_corr"
   ]
  },
  {
   "cell_type": "code",
   "execution_count": 46,
   "metadata": {},
   "outputs": [],
   "source": [
    "dict_corr = {}\n",
    "\n",
    "for i, asset1 in enumerate(df_corr.index):\n",
    "    for j, asset2 in enumerate(df_corr.columns):\n",
    "        dict_corr[(i,j)] = df_corr.loc[asset1, asset2]"
   ]
  },
  {
   "cell_type": "code",
   "execution_count": 47,
   "metadata": {},
   "outputs": [],
   "source": [
    "dict_sd = dict(enumerate(series_montly_std.values))\n",
    "\n",
    "def calc_var(w):\n",
    "    dict_w = dict(enumerate(w))\n",
    "    var = 0\n",
    "    for i in range(4):\n",
    "        for j in range(4):\n",
    "            w_i = dict_w[i]\n",
    "            w_j = dict_w[j]\n",
    "            sigma_i = dict_sd[i]\n",
    "            sigma_j = dict_sd[j]\n",
    "            rho_ij = dict_corr[(i,j)]\n",
    "            val = w_i*w_j*sigma_i*sigma_j*rho_ij\n",
    "            var += val\n",
    "    return var"
   ]
  },
  {
   "cell_type": "code",
   "execution_count": 48,
   "metadata": {},
   "outputs": [],
   "source": [
    "df_weights['variance'] = df_weights[['w1','w2','w3','w4']].apply(calc_var, axis=1)"
   ]
  },
  {
   "cell_type": "markdown",
   "metadata": {},
   "source": [
    "### Let's annualize these returns and variances so they make a bit more sense"
   ]
  },
  {
   "cell_type": "code",
   "execution_count": 59,
   "metadata": {},
   "outputs": [],
   "source": [
    "df_weights['mean return annual'] = (df_weights['mean return']**12)-1\n",
    "df_weights['variance annual'] = df_weights['variance']*12"
   ]
  },
  {
   "cell_type": "code",
   "execution_count": 60,
   "metadata": {},
   "outputs": [
    {
     "data": {
      "text/plain": [
       "<matplotlib.axes._subplots.AxesSubplot at 0x1ca0bb18518>"
      ]
     },
     "execution_count": 60,
     "metadata": {},
     "output_type": "execute_result"
    },
    {
     "data": {
      "image/png": "[encoded data removed]",
      "text/plain": [
       "<Figure size 720x720 with 1 Axes>"
      ]
     },
     "metadata": {},
     "output_type": "display_data"
    }
   ],
   "source": [
    "df_weights.plot.scatter(x='variance annual', y='mean return annual')"
   ]
  },
  {
   "cell_type": "markdown",
   "metadata": {},
   "source": [
    "### We can include the Sharpe Ratio is our analysis and superimpose it over our plot\n",
    "\n",
    "### Let's assume an RFR of 5%"
   ]
  },
  {
   "cell_type": "code",
   "execution_count": 64,
   "metadata": {},
   "outputs": [],
   "source": [
    "df_weights['Sharpe Ratio'] = (df_weights['mean return annual']-0.05)/np.sqrt(df_weights['variance annual'])"
   ]
  },
  {
   "cell_type": "code",
   "execution_count": 74,
   "metadata": {},
   "outputs": [
    {
     "data": {
      "image/png": "[encoded data removed]",
      "text/plain": [
       "<Figure size 720x720 with 2 Axes>"
      ]
     },
     "metadata": {},
     "output_type": "display_data"
    }
   ],
   "source": [
    "df_weights.plot.scatter(x='variance annual', y='mean return annual', c = 'Sharpe Ratio', colormap = cm.jet)\n",
    "plt.show()"
   ]
  }
 ],
 "metadata": {
  "kernelspec": {
   "display_name": "Python 3",
   "language": "python",
   "name": "python3"
  },
  "language_info": {
   "codemirror_mode": {
    "name": "ipython",
    "version": 3
   },
   "file_extension": ".py",
   "mimetype": "text/x-python",
   "name": "python",
   "nbconvert_exporter": "python",
   "pygments_lexer": "ipython3",
   "version": "3.6.5"
  }
 },
 "nbformat": 4,
 "nbformat_minor": 2
}
