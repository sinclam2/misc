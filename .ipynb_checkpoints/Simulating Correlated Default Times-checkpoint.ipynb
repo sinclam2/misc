{
 "cells": [
  {
   "cell_type": "code",
   "execution_count": 92,
   "metadata": {},
   "outputs": [],
   "source": [
    "import numpy as np\n",
    "import pandas as pd\n",
    "from scipy.stats import norm\n",
    "import matplotlib.pyplot as plt\n",
    "%matplotlib inline"
   ]
  },
  {
   "cell_type": "code",
   "execution_count": 93,
   "metadata": {},
   "outputs": [],
   "source": [
    "plt.rcParams['figure.figsize'] = 10, 10"
   ]
  },
  {
   "cell_type": "code",
   "execution_count": 94,
   "metadata": {},
   "outputs": [],
   "source": [
    "np.random.seed(0)"
   ]
  },
  {
   "cell_type": "markdown",
   "metadata": {},
   "source": [
    "____\n",
    "\n",
    "# Setting up model parameters"
   ]
  },
  {
   "cell_type": "code",
   "execution_count": 95,
   "metadata": {},
   "outputs": [],
   "source": [
    "corr_same_ind_same_region = 0.2\n",
    "corr_same_ind_diff_region = 0.15\n",
    "corr_diff_ind_same_region = 0.1\n",
    "corr_diff_ind_diff_region = 0.05"
   ]
  },
  {
   "cell_type": "code",
   "execution_count": 96,
   "metadata": {},
   "outputs": [],
   "source": [
    "n_trials = 100000"
   ]
  },
  {
   "cell_type": "code",
   "execution_count": 97,
   "metadata": {},
   "outputs": [
    {
     "name": "stderr",
     "output_type": "stream",
     "text": [
      "C:\\Anaconda\\lib\\site-packages\\ipykernel_launcher.py:4: RuntimeWarning: invalid value encountered in sqrt\n",
      "  after removing the cwd from sys.path.\n"
     ]
    }
   ],
   "source": [
    "A = np.sqrt(corr_diff_ind_diff_region)\n",
    "B = np.sqrt(corr_same_ind_diff_region - corr_diff_ind_diff_region)\n",
    "C = np.sqrt(corr_diff_ind_same_region - corr_diff_ind_diff_region)\n",
    "D = np.sqrt(corr_same_ind_same_region - corr_same_ind_diff_region - corr_diff_ind_same_region - corr_diff_ind_diff_region)\n",
    "E = np.sqrt(1 - corr_same_ind_same_region)"
   ]
  },
  {
   "cell_type": "markdown",
   "metadata": {},
   "source": [
    "____\n",
    "\n",
    "# Setting up the pool"
   ]
  },
  {
   "cell_type": "code",
   "execution_count": 98,
   "metadata": {},
   "outputs": [],
   "source": [
    "n_obligors = 10\n",
    "list_regions = ['R1','R2','R3','R4']\n",
    "list_industries = ['I1','I2','I3']\n",
    "dict_ratings = {'A':0.01,\n",
    "                'B':0.02,\n",
    "                'C':0.05}"
   ]
  },
  {
   "cell_type": "code",
   "execution_count": 99,
   "metadata": {},
   "outputs": [],
   "source": [
    "df = pd.DataFrame({'Obligor_ID':range(n_obligors), \n",
    "                   'Par':100*np.random.randint(1,10, size = n_obligors), \n",
    "                  'Region': np.random.choice(list_regions, size = n_obligors),\n",
    "                  'Industry': np.random.choice(list_industries, size = n_obligors),\n",
    "                  'Rating': np.random.choice(list(dict_ratings.keys()), size = n_obligors)})"
   ]
  },
  {
   "cell_type": "code",
   "execution_count": 100,
   "metadata": {},
   "outputs": [
    {
     "data": {
      "text/html": [
       "<div>\n",
       "<style scoped>\n",
       "    .dataframe tbody tr th:only-of-type {\n",
       "        vertical-align: middle;\n",
       "    }\n",
       "\n",
       "    .dataframe tbody tr th {\n",
       "        vertical-align: top;\n",
       "    }\n",
       "\n",
       "    .dataframe thead th {\n",
       "        text-align: right;\n",
       "    }\n",
       "</style>\n",
       "<table border=\"1\" class=\"dataframe\">\n",
       "  <thead>\n",
       "    <tr style=\"text-align: right;\">\n",
       "      <th></th>\n",
       "      <th>Obligor_ID</th>\n",
       "      <th>Par</th>\n",
       "      <th>Region</th>\n",
       "      <th>Industry</th>\n",
       "      <th>Rating</th>\n",
       "    </tr>\n",
       "  </thead>\n",
       "  <tbody>\n",
       "    <tr>\n",
       "      <th>0</th>\n",
       "      <td>0</td>\n",
       "      <td>600</td>\n",
       "      <td>R3</td>\n",
       "      <td>I1</td>\n",
       "      <td>C</td>\n",
       "    </tr>\n",
       "    <tr>\n",
       "      <th>1</th>\n",
       "      <td>1</td>\n",
       "      <td>100</td>\n",
       "      <td>R1</td>\n",
       "      <td>I2</td>\n",
       "      <td>A</td>\n",
       "    </tr>\n",
       "    <tr>\n",
       "      <th>2</th>\n",
       "      <td>2</td>\n",
       "      <td>400</td>\n",
       "      <td>R1</td>\n",
       "      <td>I2</td>\n",
       "      <td>C</td>\n",
       "    </tr>\n",
       "    <tr>\n",
       "      <th>3</th>\n",
       "      <td>3</td>\n",
       "      <td>400</td>\n",
       "      <td>R1</td>\n",
       "      <td>I2</td>\n",
       "      <td>A</td>\n",
       "    </tr>\n",
       "    <tr>\n",
       "      <th>4</th>\n",
       "      <td>4</td>\n",
       "      <td>800</td>\n",
       "      <td>R3</td>\n",
       "      <td>I2</td>\n",
       "      <td>B</td>\n",
       "    </tr>\n",
       "    <tr>\n",
       "      <th>5</th>\n",
       "      <td>5</td>\n",
       "      <td>400</td>\n",
       "      <td>R2</td>\n",
       "      <td>I1</td>\n",
       "      <td>B</td>\n",
       "    </tr>\n",
       "    <tr>\n",
       "      <th>6</th>\n",
       "      <td>6</td>\n",
       "      <td>600</td>\n",
       "      <td>R3</td>\n",
       "      <td>I2</td>\n",
       "      <td>C</td>\n",
       "    </tr>\n",
       "    <tr>\n",
       "      <th>7</th>\n",
       "      <td>7</td>\n",
       "      <td>300</td>\n",
       "      <td>R4</td>\n",
       "      <td>I1</td>\n",
       "      <td>A</td>\n",
       "    </tr>\n",
       "    <tr>\n",
       "      <th>8</th>\n",
       "      <td>8</td>\n",
       "      <td>500</td>\n",
       "      <td>R4</td>\n",
       "      <td>I1</td>\n",
       "      <td>B</td>\n",
       "    </tr>\n",
       "    <tr>\n",
       "      <th>9</th>\n",
       "      <td>9</td>\n",
       "      <td>800</td>\n",
       "      <td>R3</td>\n",
       "      <td>I2</td>\n",
       "      <td>B</td>\n",
       "    </tr>\n",
       "  </tbody>\n",
       "</table>\n",
       "</div>"
      ],
      "text/plain": [
       "   Obligor_ID  Par Region Industry Rating\n",
       "0           0  600     R3       I1      C\n",
       "1           1  100     R1       I2      A\n",
       "2           2  400     R1       I2      C\n",
       "3           3  400     R1       I2      A\n",
       "4           4  800     R3       I2      B\n",
       "5           5  400     R2       I1      B\n",
       "6           6  600     R3       I2      C\n",
       "7           7  300     R4       I1      A\n",
       "8           8  500     R4       I1      B\n",
       "9           9  800     R3       I2      B"
      ]
     },
     "execution_count": 100,
     "metadata": {},
     "output_type": "execute_result"
    }
   ],
   "source": [
    "df"
   ]
  },
  {
   "cell_type": "markdown",
   "metadata": {},
   "source": [
    "____\n",
    "\n",
    "# Randomly simulating shocks and assigning them"
   ]
  },
  {
   "cell_type": "code",
   "execution_count": 101,
   "metadata": {},
   "outputs": [],
   "source": [
    "global_shocks = np.random.standard_normal((n_trials,1))"
   ]
  },
  {
   "cell_type": "code",
   "execution_count": 102,
   "metadata": {},
   "outputs": [],
   "source": [
    "n_industries = len(list_industries)\n",
    "industry_shocks = np.random.standard_normal((n_trials, n_industries))"
   ]
  },
  {
   "cell_type": "code",
   "execution_count": 103,
   "metadata": {},
   "outputs": [],
   "source": [
    "list_industry_broadcast = [list_industries.index(x) for x in df['Industry']]\n",
    "industry_shocks_mapped = industry_shocks[:,list_industry_broadcast]"
   ]
  },
  {
   "cell_type": "code",
   "execution_count": 104,
   "metadata": {},
   "outputs": [],
   "source": [
    "obligor_shocks = np.random.standard_normal((n_trials, n_obligors))"
   ]
  },
  {
   "cell_type": "code",
   "execution_count": 105,
   "metadata": {},
   "outputs": [],
   "source": [
    "total_shocks = A*global_shocks + B*industry_shocks_mapped + E*obligor_shocks"
   ]
  },
  {
   "cell_type": "markdown",
   "metadata": {},
   "source": [
    "____\n",
    "\n",
    "# Mapping to default flag"
   ]
  },
  {
   "cell_type": "code",
   "execution_count": 106,
   "metadata": {},
   "outputs": [],
   "source": [
    "array_pd_normed = norm.ppf([dict_ratings[x] for x in df['Rating']])[np.newaxis,:]"
   ]
  },
  {
   "cell_type": "code",
   "execution_count": 107,
   "metadata": {},
   "outputs": [],
   "source": [
    "array_defaulted = total_shocks < array_pd_normed"
   ]
  },
  {
   "cell_type": "markdown",
   "metadata": {},
   "source": [
    "____\n",
    "\n",
    "# Assigning losses"
   ]
  },
  {
   "cell_type": "code",
   "execution_count": 108,
   "metadata": {},
   "outputs": [],
   "source": [
    "array_par = df['Par'].values[np.newaxis,:]\n",
    "total_par = np.sum(array_par)"
   ]
  },
  {
   "cell_type": "code",
   "execution_count": 109,
   "metadata": {},
   "outputs": [],
   "source": [
    "array_loss = np.sum(array_par*array_defaulted, axis = 1)"
   ]
  },
  {
   "cell_type": "code",
   "execution_count": 110,
   "metadata": {},
   "outputs": [],
   "source": [
    "array_loss_pct = array_loss/total_par"
   ]
  },
  {
   "cell_type": "code",
   "execution_count": 111,
   "metadata": {},
   "outputs": [
    {
     "data": {
      "text/plain": [
       "<matplotlib.axes._subplots.AxesSubplot at 0x28a766d0a90>"
      ]
     },
     "execution_count": 111,
     "metadata": {},
     "output_type": "execute_result"
    },
    {
     "data": {
      "image/png": "[encoded data removed]",
      "text/plain": [
       "<Figure size 720x720 with 1 Axes>"
      ]
     },
     "metadata": {},
     "output_type": "display_data"
    }
   ],
   "source": [
    "pd.DataFrame(array_loss_pct).quantile(np.arange(0.8,1,0.001)).plot()"
   ]
  }
 ],
 "metadata": {
  "kernelspec": {
   "display_name": "Python 3",
   "language": "python",
   "name": "python3"
  },
  "language_info": {
   "codemirror_mode": {
    "name": "ipython",
    "version": 3
   },
   "file_extension": ".py",
   "mimetype": "text/x-python",
   "name": "python",
   "nbconvert_exporter": "python",
   "pygments_lexer": "ipython3",
   "version": "3.6.5"
  }
 },
 "nbformat": 4,
 "nbformat_minor": 2
}
