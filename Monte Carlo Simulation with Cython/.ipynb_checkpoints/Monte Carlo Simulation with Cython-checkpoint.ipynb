{
 "cells": [
  {
   "cell_type": "markdown",
   "metadata": {},
   "source": [
    "Source: http://hplgit.github.io/teamods/MC_cython/sphinx/main_MC_cython.html"
   ]
  },
  {
   "cell_type": "markdown",
   "metadata": {},
   "source": [
    "# Problem\n",
    "\n",
    "- If we roll a single die $m$ times, what is the probability of getting at least $n$ sixes?"
   ]
  },
  {
   "cell_type": "markdown",
   "metadata": {},
   "source": [
    "## Scalar Python Implementation"
   ]
  },
  {
   "cell_type": "code",
   "execution_count": null,
   "metadata": {},
   "outputs": [],
   "source": [
    "import random"
   ]
  },
  {
   "cell_type": "code",
   "execution_count": null,
   "metadata": {},
   "outputs": [],
   "source": [
    "def scalar_python(n_trials, n_dice, n_sixes):\n",
    "    total = 0\n",
    "    for trial in range(n_trials):\n",
    "        count = 0\n",
    "        for d in range(n_dice):\n",
    "            roll = random.randint(1, 6)\n",
    "            if roll == 6:\n",
    "                count += 1\n",
    "        if count >= n_sixes:\n",
    "            total += 1\n",
    "    p = float(total) / n_trials\n",
    "    return p"
   ]
  },
  {
   "cell_type": "code",
   "execution_count": null,
   "metadata": {},
   "outputs": [],
   "source": [
    "scalar_python(100000, 10, 6)"
   ]
  },
  {
   "cell_type": "markdown",
   "metadata": {},
   "source": [
    "- We can make this way faster"
   ]
  },
  {
   "cell_type": "markdown",
   "metadata": {},
   "source": [
    "## Vectorized Python Implementation"
   ]
  },
  {
   "cell_type": "code",
   "execution_count": null,
   "metadata": {},
   "outputs": [],
   "source": [
    "import numpy as np"
   ]
  },
  {
   "cell_type": "code",
   "execution_count": null,
   "metadata": {},
   "outputs": [],
   "source": [
    "def vectorized_python(n_trials, n_dice, n_sixes):\n",
    "    rolls = np.random.randint(1, 7, size=(n_trials, n_dice))\n",
    "    return np.sum(np.sum(rolls==6, axis=1) == n_sixes)/n_trials"
   ]
  },
  {
   "cell_type": "code",
   "execution_count": null,
   "metadata": {},
   "outputs": [],
   "source": [
    "vectorized_python(100000, 10, 6)"
   ]
  },
  {
   "cell_type": "markdown",
   "metadata": {},
   "source": [
    "- Much better, but can still be improved"
   ]
  },
  {
   "cell_type": "markdown",
   "metadata": {},
   "source": [
    "## Plain Cython Implementation"
   ]
  },
  {
   "cell_type": "markdown",
   "metadata": {},
   "source": [
    "- We need to create a `.pyx` file with the following function"
   ]
  },
  {
   "cell_type": "markdown",
   "metadata": {},
   "source": [
    "```\n",
    "import random\n",
    "\n",
    "def plain_cython(int n_trials, int n_dice, int n_sixes):\n",
    "    cdef int total = 0\n",
    "    cdef int count, roll\n",
    "    cdef double p\n",
    "    for trial in range(n_trials):\n",
    "        count = 0\n",
    "        for d in range(n_dice):\n",
    "            roll = random.randint(1, 6)\n",
    "            if roll == 6:\n",
    "                count += 1\n",
    "        if count >= n_sixes:\n",
    "            total += 1\n",
    "    p = float(total) / n_trials\n",
    "    return p\n",
    "```"
   ]
  },
  {
   "cell_type": "markdown",
   "metadata": {},
   "source": [
    "- Then, we need to create the following `setup.py` script"
   ]
  },
  {
   "cell_type": "markdown",
   "metadata": {},
   "source": [
    "```\n",
    "from distutils.core import setup\n",
    "from distutils.extension import Extension\n",
    "from Cython.Distutils import build_ext\n",
    "\n",
    "setup(\n",
    "name='Monte Carlo Simulation',\n",
    "ext_modules = [Extension('_plain_cython', ['plain_cython.pyx'],)],\n",
    "cmdclass={'build_ext':build_ext},\n",
    ")\n",
    "```"
   ]
  },
  {
   "cell_type": "markdown",
   "metadata": {},
   "source": [
    "- Finally, we run the following cmd\n",
    "\n",
    "```\n",
    "python setup.py build_ext --inplace\n",
    "```"
   ]
  },
  {
   "cell_type": "markdown",
   "metadata": {},
   "source": [
    "- Now, we can call the module `_plain_cython`"
   ]
  },
  {
   "cell_type": "code",
   "execution_count": null,
   "metadata": {},
   "outputs": [],
   "source": [
    "from _plain_cython import plain_cython"
   ]
  },
  {
   "cell_type": "code",
   "execution_count": null,
   "metadata": {},
   "outputs": [],
   "source": [
    "plain_cython(100000, 10, 6)"
   ]
  },
  {
   "cell_type": "markdown",
   "metadata": {},
   "source": [
    "- This code is slowed down by using the `random` module\n",
    "    - This calls the python package instead of running in C"
   ]
  },
  {
   "cell_type": "markdown",
   "metadata": {},
   "source": [
    "## Improved Cython Implementation: Preprocessed Random Numbers\n",
    "\n",
    "- New script: `plain_cython.pyx`"
   ]
  },
  {
   "cell_type": "markdown",
   "metadata": {},
   "source": [
    "```\n",
    "import numpy as np\n",
    "cimport numpy as np\n",
    "import cython\n",
    "@cython.boundscheck(False)\n",
    "\n",
    "def preprocessed_cython(int n_trials, int n_dice, int n_sixes):\n",
    "    cdef int total = 0\n",
    "    cdef int count, roll\n",
    "    cdef double p\n",
    "    cdef np.ndarray[np.int_t, \n",
    "                    ndim=2, \n",
    "                    negative_indices=False, \n",
    "                    mode='c'] rolls = np.random.randint(1, 7, (n_trials, n_dice))\n",
    "    \n",
    "    for trial in range(n_trials):\n",
    "        count = 0\n",
    "        for d in range(n_dice):\n",
    "            roll = rolls[trial, d]\n",
    "            if roll == 6:\n",
    "                count += 1\n",
    "        if count >= n_sixes:\n",
    "            total += 1\n",
    "    p = float(total) / n_trials\n",
    "    return p\n",
    "```"
   ]
  },
  {
   "cell_type": "markdown",
   "metadata": {},
   "source": [
    "- We created `setup2.py` and now we can call the module"
   ]
  },
  {
   "cell_type": "code",
   "execution_count": null,
   "metadata": {},
   "outputs": [],
   "source": [
    "from _preprocessed_cython import preprocessed_cython"
   ]
  },
  {
   "cell_type": "markdown",
   "metadata": {},
   "source": [
    "# This isn't working rn, will fix later"
   ]
  },
  {
   "cell_type": "markdown",
   "metadata": {},
   "source": [
    "_____\n",
    "\n",
    "## Improved Cython Implementation: Generating Random Numbers Using `rand()`"
   ]
  },
  {
   "cell_type": "markdown",
   "metadata": {},
   "source": [
    "- We define the following function in `rand_cython.pyx`"
   ]
  },
  {
   "cell_type": "markdown",
   "metadata": {},
   "source": [
    "```\n",
    "from libc.stdlib cimport rand, RAND_MAX\n",
    "def rand_cython(int n_trials, int n_dice, int n_sixes):\n",
    "    cdef int total = 0\n",
    "    cdef int count, roll\n",
    "    cdef double p\n",
    "    for trial in range(n_trials):\n",
    "        count = 0\n",
    "        for d in range(n_dice):\n",
    "            roll = int(rand()/(RAND_MAX*6.0))\n",
    "            if roll == 6:\n",
    "                count += 1\n",
    "        if count >= n_sixes:\n",
    "            total += 1\n",
    "    p = float(total) / n_trials\n",
    "    return p\n",
    "```"
   ]
  },
  {
   "cell_type": "markdown",
   "metadata": {},
   "source": [
    "- This code will be as fast as the preprocessed one"
   ]
  },
  {
   "cell_type": "markdown",
   "metadata": {},
   "source": [
    "- Need to run `setup3.py` before we can import the new module"
   ]
  },
  {
   "cell_type": "code",
   "execution_count": 1,
   "metadata": {},
   "outputs": [],
   "source": [
    "from _rand_cython import rand_cython"
   ]
  },
  {
   "cell_type": "code",
   "execution_count": 2,
   "metadata": {},
   "outputs": [
    {
     "data": {
      "text/plain": [
       "0.00225"
      ]
     },
     "execution_count": 2,
     "metadata": {},
     "output_type": "execute_result"
    }
   ],
   "source": [
    "rand_cython(100000, 10, 6)"
   ]
  }
 ],
 "metadata": {
  "kernelspec": {
   "display_name": "Python 3",
   "language": "python",
   "name": "python3"
  },
  "language_info": {
   "codemirror_mode": {
    "name": "ipython",
    "version": 3
   },
   "file_extension": ".py",
   "mimetype": "text/x-python",
   "name": "python",
   "nbconvert_exporter": "python",
   "pygments_lexer": "ipython3",
   "version": "3.6.8"
  }
 },
 "nbformat": 4,
 "nbformat_minor": 2
}
