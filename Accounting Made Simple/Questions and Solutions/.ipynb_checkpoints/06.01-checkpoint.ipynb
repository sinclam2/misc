{
 "cells": [
  {
   "cell_type": "markdown",
   "metadata": {},
   "source": [
    "**Income Statement**\n",
    "\n",
    "- Sales: 130\n",
    "- COGS: 26\n",
    "- Profit Margin: 104\n",
    "- Salaries and Wages: 15\n",
    "- Rent Expense: 5\n",
    "- Licensing Exenses: 20\n",
    "- Advertising Expense: 4\n",
    "- **Total Expenses**: 44\n",
    "\n",
    "\n",
    "- **Net Income**: 60\n",
    "\n",
    "\n",
    "**Balance Sheet**\n",
    "\n",
    "*Assets*\n",
    "\n",
    "- Cash: 10\n",
    "- Inventory: 15\n",
    "- PP&E: 250\n",
    "- Accounts Receivable: 5\n",
    "- **Total Assets**: 280\n",
    "\n",
    "\n",
    "*Liabilities*\n",
    "\n",
    "- Accounts Payable: 20\n",
    "- Notes Payable: 40\n",
    "- **Total Liabilities**: 60\n",
    "\n",
    "\n",
    "*Owners' Equity*\n",
    "\n",
    "- Common Stock: 120\n",
    "- Retained Earnings: 100\n",
    "- **Total Owners' Equity**: 220"
   ]
  },
  {
   "cell_type": "markdown",
   "metadata": {},
   "source": [
    "*Calculate the company's: i. Current Ratio and  ii. Quick Ratio*"
   ]
  },
  {
   "cell_type": "markdown",
   "metadata": {},
   "source": [
    "**i. Current Ratio**\n",
    "\n",
    "$$\n",
    "\\text{Current Ratio} = \\frac{\\text{Current Assets}}{\\text{Current Liabilities}}\n",
    "$$\n",
    "\n",
    "$$\n",
    "\\text{Current Assets} = \\text{Cash} + \\text{Inventory} + \\text{Accounts Receivable}= 10 + 15 + 5 = 30\n",
    "$$\n",
    "\n",
    "$$\n",
    "\\text{Current Liabilities} = \\text{Accounts Payable} = 20\n",
    "$$\n",
    "\n",
    "$$\n",
    "\\implies \\text{Current Ratio} = \\frac{30}{20} = 1.5\n",
    "$$"
   ]
  },
  {
   "cell_type": "markdown",
   "metadata": {},
   "source": [
    "**ii. Quick Ratio**\n",
    "\n",
    "$$\n",
    "\\text{Quick Ratio} = \\frac{\\text{Current Assets} - \\text{Inventory}}{\\text{Current Liabilities}} = \\frac{30 - 15}{20} = 0.75\n",
    "$$"
   ]
  }
 ],
 "metadata": {
  "kernelspec": {
   "display_name": "Python 3",
   "language": "python",
   "name": "python3"
  },
  "language_info": {
   "codemirror_mode": {
    "name": "ipython",
    "version": 3
   },
   "file_extension": ".py",
   "mimetype": "text/x-python",
   "name": "python",
   "nbconvert_exporter": "python",
   "pygments_lexer": "ipython3",
   "version": "3.6.8"
  }
 },
 "nbformat": 4,
 "nbformat_minor": 2
}
