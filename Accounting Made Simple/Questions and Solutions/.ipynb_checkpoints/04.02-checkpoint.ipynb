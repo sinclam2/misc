{
 "cells": [
  {
   "cell_type": "markdown",
   "metadata": {},
   "source": [
    "- **Calculate Net Income given the following information**:\n",
    "    - Consulting Revenue = 50\n",
    "    - Rent Expense = 5\n",
    "    - Software Licensing Fees = 3\n",
    "    - Dividends Paid = 6\n",
    "    - Advertising Expense = 20"
   ]
  },
  {
   "cell_type": "markdown",
   "metadata": {},
   "source": [
    "____\n",
    "\n",
    "$$\n",
    "\\text{Net Income} = \\text{Revenue} - \\text{Expenses}\n",
    "$$\n",
    "\n",
    "$$\n",
    "= \\left (50 \\right ) - \\left (5 + 3 + 20 \\right ) = 50 - 28 = 22\n",
    "$$"
   ]
  }
 ],
 "metadata": {
  "kernelspec": {
   "display_name": "Python 3",
   "language": "python",
   "name": "python3"
  },
  "language_info": {
   "codemirror_mode": {
    "name": "ipython",
    "version": 3
   },
   "file_extension": ".py",
   "mimetype": "text/x-python",
   "name": "python",
   "nbconvert_exporter": "python",
   "pygments_lexer": "ipython3",
   "version": "3.6.8"
  }
 },
 "nbformat": 4,
 "nbformat_minor": 2
}
