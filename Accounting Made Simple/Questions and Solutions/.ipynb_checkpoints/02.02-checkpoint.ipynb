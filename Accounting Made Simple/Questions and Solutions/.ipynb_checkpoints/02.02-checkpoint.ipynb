{
 "cells": [
  {
   "cell_type": "markdown",
   "metadata": {},
   "source": [
    "- **For each of the following assets or liabilities, state whether it is current or non-current:**\n",
    "    - Accounts Payable\n",
    "    - Cash\n",
    "    - Property, Plant, and Equipment\n",
    "    - Note Payable\n",
    "    - Inventory"
   ]
  },
  {
   "cell_type": "markdown",
   "metadata": {},
   "source": [
    "___\n",
    "\n",
    "**Current Assets**\n",
    "- Cash\n",
    "- Inventory\n",
    "\n",
    "**Long-term Assets**\n",
    "- Property, Plant, and Equipment\n",
    "\n",
    "**Current Liabilities**\n",
    "- Accounts Payable\n",
    "- Portion of Note Payable due within 12 months\n",
    "\n",
    "**Long-term Liabilities**\n",
    "- Portion of Note Payable due after 12 months"
   ]
  }
 ],
 "metadata": {
  "kernelspec": {
   "display_name": "Python 3",
   "language": "python",
   "name": "python3"
  },
  "language_info": {
   "codemirror_mode": {
    "name": "ipython",
    "version": 3
   },
   "file_extension": ".py",
   "mimetype": "text/x-python",
   "name": "python",
   "nbconvert_exporter": "python",
   "pygments_lexer": "ipython3",
   "version": "3.6.8"
  }
 },
 "nbformat": 4,
 "nbformat_minor": 2
}
