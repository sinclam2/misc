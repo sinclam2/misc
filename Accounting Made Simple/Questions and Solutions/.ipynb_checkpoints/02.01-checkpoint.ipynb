{
 "cells": [
  {
   "cell_type": "markdown",
   "metadata": {},
   "source": [
    "- **Categorize the following accounts as to whether they’re Asset, Liability, of Owners’ Equity accounts**:\n",
    "    - Common Stock\n",
    "    - Accounts Receivable\n",
    "    - Retained Earnings\n",
    "    - Cash\n",
    "    - Notes Payable"
   ]
  },
  {
   "cell_type": "markdown",
   "metadata": {},
   "source": [
    "____\n",
    "\n",
    "**Assets**\n",
    "\n",
    "- Cash\n",
    "- Accounts Receivable\n",
    "\n",
    "**Liabilities**\n",
    "\n",
    "- Notes Payable\n",
    "\n",
    "**Owners' Equity**\n",
    "\n",
    "- Common Stock\n",
    "- Retained Earnings"
   ]
  }
 ],
 "metadata": {
  "kernelspec": {
   "display_name": "Python 3",
   "language": "python",
   "name": "python3"
  },
  "language_info": {
   "codemirror_mode": {
    "name": "ipython",
    "version": 3
   },
   "file_extension": ".py",
   "mimetype": "text/x-python",
   "name": "python",
   "nbconvert_exporter": "python",
   "pygments_lexer": "ipython3",
   "version": "3.6.8"
  }
 },
 "nbformat": 4,
 "nbformat_minor": 2
}
