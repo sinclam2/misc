{
 "cells": [
  {
   "cell_type": "markdown",
   "metadata": {},
   "source": [
    "**Given the following information, calculate ABC Corp’s Gross Profit:**\n",
    "- Sales = 260\n",
    "- CoGS = 100\n",
    "- Salaries and Wages = 20\n",
    "- Rent = 15\n",
    "- Advertising Expense = 35\n",
    "- Cost of repairs due to fire = 50"
   ]
  },
  {
   "cell_type": "markdown",
   "metadata": {},
   "source": [
    "___\n",
    "\n",
    "$$\n",
    "\\text{Gross Profit} = 260 - 100 = 160\n",
    "$$"
   ]
  }
 ],
 "metadata": {
  "kernelspec": {
   "display_name": "Python 3",
   "language": "python",
   "name": "python3"
  },
  "language_info": {
   "codemirror_mode": {
    "name": "ipython",
    "version": 3
   },
   "file_extension": ".py",
   "mimetype": "text/x-python",
   "name": "python",
   "nbconvert_exporter": "python",
   "pygments_lexer": "ipython3",
   "version": "3.6.8"
  }
 },
 "nbformat": 4,
 "nbformat_minor": 2
}
