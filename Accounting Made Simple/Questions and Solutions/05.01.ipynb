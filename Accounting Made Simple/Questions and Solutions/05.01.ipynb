{
 "cells": [
  {
   "cell_type": "markdown",
   "metadata": {},
   "source": [
    "- **Calculate cash flow from operating activities using the following information:**\n",
    "    - Cash sales = 10\n",
    "    - Credit sales = 15\n",
    "    - Cash received from prior credit sales = 8\n",
    "    - Rent paid = 3\n",
    "    - Inventory purchased = 6\n",
    "    - Wages paid = 5"
   ]
  },
  {
   "cell_type": "markdown",
   "metadata": {},
   "source": [
    "____\n",
    "\n",
    "$$\n",
    "CFO = \\text{Cash Received} - \\text{Cash Paid} = (10+8) - (3+6+5) = 4\n",
    "$$"
   ]
  }
 ],
 "metadata": {
  "kernelspec": {
   "display_name": "Python 3",
   "language": "python",
   "name": "python3"
  },
  "language_info": {
   "codemirror_mode": {
    "name": "ipython",
    "version": 3
   },
   "file_extension": ".py",
   "mimetype": "text/x-python",
   "name": "python",
   "nbconvert_exporter": "python",
   "pygments_lexer": "ipython3",
   "version": "3.6.8"
  }
 },
 "nbformat": 4,
 "nbformat_minor": 2
}
