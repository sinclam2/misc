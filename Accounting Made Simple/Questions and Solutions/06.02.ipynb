{
 "cells": [
  {
   "cell_type": "markdown",
   "metadata": {},
   "source": [
    "**Income Statement**\n",
    "\n",
    "- Sales: 130\n",
    "- COGS: 26\n",
    "- Profit Margin: 104\n",
    "- Salaries and Wages: 15\n",
    "- Rent Expense: 5\n",
    "- Licensing Exenses: 20\n",
    "- Advertising Expense: 4\n",
    "- **Total Expenses**: 44\n",
    "\n",
    "\n",
    "- **Net Income**: 60\n",
    "\n",
    "\n",
    "**Balance Sheet**\n",
    "\n",
    "*Assets*\n",
    "\n",
    "- Cash: 10\n",
    "- Inventory: 15\n",
    "- PP&E: 250\n",
    "- Accounts Receivable: 5\n",
    "- **Total Assets**: 280\n",
    "\n",
    "\n",
    "*Liabilities*\n",
    "\n",
    "- Accounts Payable: 20\n",
    "- Notes Payable: 40\n",
    "- **Total Liabilities**: 60\n",
    "\n",
    "\n",
    "*Owners' Equity*\n",
    "\n",
    "- Common Stock: 120\n",
    "- Retained Earnings: 100\n",
    "- **Total Owners' Equity**: 220"
   ]
  },
  {
   "cell_type": "markdown",
   "metadata": {},
   "source": [
    "*Calculate the company's: i. Return on Assets and  ii. Return on Equity*"
   ]
  },
  {
   "cell_type": "markdown",
   "metadata": {},
   "source": [
    "**i. Return on Assets**\n",
    "\n",
    "$$\n",
    "\\text{Return on Assets} = \\frac{\\text{Net Income}}{\\text{Total Assets}} = \\frac{60}{280} \\approx 0.2143\n",
    "$$\n"
   ]
  },
  {
   "cell_type": "markdown",
   "metadata": {},
   "source": [
    "**ii. Return on Equity**\n",
    "\n",
    "$$\n",
    "\\text{Return on Equity} = \\frac{\\text{Net Income}}{\\text{Total Owners' Equity}} = \\frac{60}{220} \\approx 0.273\n",
    "$$\n"
   ]
  }
 ],
 "metadata": {
  "kernelspec": {
   "display_name": "Python 3",
   "language": "python",
   "name": "python3"
  },
  "language_info": {
   "codemirror_mode": {
    "name": "ipython",
    "version": 3
   },
   "file_extension": ".py",
   "mimetype": "text/x-python",
   "name": "python",
   "nbconvert_exporter": "python",
   "pygments_lexer": "ipython3",
   "version": "3.6.8"
  }
 },
 "nbformat": 4,
 "nbformat_minor": 2
}
