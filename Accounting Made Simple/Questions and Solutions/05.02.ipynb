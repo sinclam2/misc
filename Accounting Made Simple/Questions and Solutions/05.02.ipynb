{
 "cells": [
  {
   "cell_type": "markdown",
   "metadata": {},
   "source": [
    "- **Categorize the following cash flows as to whether they are operating, investing, or financing activities:**\n",
    "    - Taxes paid\n",
    "    - Dividends paid to shareholders\n",
    "    - Interest paid on loans\n",
    "    - Dividends received on investments\n",
    "    - Cash sales\n",
    "    - Purchase of new office furniture"
   ]
  }
 ],
 "metadata": {
  "kernelspec": {
   "display_name": "Python 3",
   "language": "python",
   "name": "python3"
  },
  "language_info": {
   "codemirror_mode": {
    "name": "ipython",
    "version": 3
   },
   "file_extension": ".py",
   "mimetype": "text/x-python",
   "name": "python",
   "nbconvert_exporter": "python",
   "pygments_lexer": "ipython3",
   "version": "3.6.8"
  }
 },
 "nbformat": 4,
 "nbformat_minor": 2
}
