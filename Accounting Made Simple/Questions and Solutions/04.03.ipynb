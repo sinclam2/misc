{
 "cells": [
  {
   "cell_type": "markdown",
   "metadata": {},
   "source": [
    "- **Using the following information, calculate how much was paid out in dividends during the year**:\n",
    "    - Beginning Retained Earnings = 40\n",
    "    - Net Income = 15\n",
    "    - Ending Retained Earnings = 30"
   ]
  },
  {
   "cell_type": "markdown",
   "metadata": {},
   "source": [
    "____\n",
    "\n",
    "$$\n",
    "\\text{Ending Retained Earnings} = \\text{Beginning Retained Earnings} + \\text{Net Income} - \\text{Dividends Paid}\n",
    "$$"
   ]
  },
  {
   "cell_type": "markdown",
   "metadata": {},
   "source": [
    "$$\n",
    "\\implies \\text{Dividends Paid} = \\text{Beginning Retained Earnings} + \\text{Net Income} - \\text{Ending Retained Earnings}\n",
    "$$"
   ]
  },
  {
   "cell_type": "markdown",
   "metadata": {},
   "source": [
    "$$\n",
    "= 40 + 15 - 30 = 25\n",
    "$$"
   ]
  }
 ],
 "metadata": {
  "kernelspec": {
   "display_name": "Python 3",
   "language": "python",
   "name": "python3"
  },
  "language_info": {
   "codemirror_mode": {
    "name": "ipython",
    "version": 3
   },
   "file_extension": ".py",
   "mimetype": "text/x-python",
   "name": "python",
   "nbconvert_exporter": "python",
   "pygments_lexer": "ipython3",
   "version": "3.6.8"
  }
 },
 "nbformat": 4,
 "nbformat_minor": 2
}
