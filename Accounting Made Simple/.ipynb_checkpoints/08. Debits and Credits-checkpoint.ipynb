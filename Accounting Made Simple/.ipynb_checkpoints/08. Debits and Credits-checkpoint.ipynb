{
 "cells": [
  {
   "cell_type": "markdown",
   "metadata": {},
   "source": [
    "- As we've already seen, whenever a transaction occurs, we make two entries\n",
    "\n",
    "\n",
    "**E.g.**\n",
    "\n",
    "- A company uses 40k of cash to buy a new piece of equipment\n",
    "    - As a result, we'll record the following entries:\n",
    "        1. Cash will decrease by 40k\n",
    "        2. Equipment will increase by 40k\n",
    "        \n",
    "- As a result, the company's total assets will remain constant\n",
    "\n",
    "\n",
    "**E.g. 2**\n",
    "\n",
    "- In this scenario, the company uses a loan to buy the equipment\n",
    "    - As a result, the entries will be:\n",
    "        1. Equipment will increase by 40k        2. Notes Payable wil increase by 40k\n",
    "        \n",
    "- As a result, both our assets AND liabilities will increase by 40k\n",
    "\n",
    "\n",
    "- From the two examples, we can see that regardless of how the purchase is financed (cash vs. loan), Assets always equals Liabilities + Owners' Equity\n",
    "    - **The accounting equation always balances**"
   ]
  },
  {
   "cell_type": "markdown",
   "metadata": {},
   "source": [
    "___\n",
    "\n",
    "# So what are debits and credits?\n",
    "\n",
    "- Debits and credits are what we call **the two parts of each transaction**\n",
    "    - A debit **increases asset accounts**, or **decreases liability or owners' equity accounts**\n",
    "        - In E.g. 1 and 2 above, we debited equipment 40k\n",
    "    - A credit **decreases asset accounts**, or **increases liability or owners' equity accounts**\n",
    "        - In E.g. 1 above, we credited Cash 40k\n",
    "        - In E.g. 2 above, we credited Notes Payable 40k"
   ]
  }
 ],
 "metadata": {
  "kernelspec": {
   "display_name": "Python 3",
   "language": "python",
   "name": "python3"
  },
  "language_info": {
   "codemirror_mode": {
    "name": "ipython",
    "version": 3
   },
   "file_extension": ".py",
   "mimetype": "text/x-python",
   "name": "python",
   "nbconvert_exporter": "python",
   "pygments_lexer": "ipython3",
   "version": "3.6.8"
  }
 },
 "nbformat": 4,
 "nbformat_minor": 2
}
