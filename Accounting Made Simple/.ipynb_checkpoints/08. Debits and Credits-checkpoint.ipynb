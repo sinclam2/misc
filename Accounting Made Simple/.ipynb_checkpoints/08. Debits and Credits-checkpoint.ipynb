{
 "cells": [
  {
   "cell_type": "markdown",
   "metadata": {},
   "source": [
    "- As we've already seen, whenever a transaction occurs, we make two entries\n",
    "\n",
    "\n",
    "**E.g.**\n",
    "\n",
    "- A company uses 40k of cash to buy a new piece of equipment\n",
    "    - As a result, we'll record the following entries:\n",
    "        1. Cash will decrease by 40k\n",
    "        2. Equipment will increase by 40k\n",
    "        \n",
    "- As a result, the company's total assets will remain constant\n",
    "\n",
    "\n",
    "**E.g. 2**\n",
    "\n",
    "- In this scenario, the company uses a loan to buy the equipment\n",
    "    - As a result, the entries will be:\n",
    "        1. Equipment will increase by 40k        2. Notes Payable wil increase by 40k\n",
    "        \n",
    "- As a result, both our assets AND liabilities will increase by 40k\n",
    "\n",
    "\n",
    "- From the two examples, we can see that regardless of how the purchase is financed (cash vs. loan), Assets always equals Liabilities + Owners' Equity\n",
    "    - **The accounting equation always balances**"
   ]
  },
  {
   "cell_type": "markdown",
   "metadata": {},
   "source": [
    "___\n",
    "\n",
    "# So what are debits and credits?\n",
    "\n",
    "- Debits and credits are what we call **the two parts of each transaction**\n",
    "    - A debit **increases asset accounts**, or **decreases liability or owners' equity accounts**\n",
    "        - In E.g. 1 and 2 above, we debited equipment 40k\n",
    "    - A credit **decreases asset accounts**, or **increases liability or owners' equity accounts**\n",
    "        - In E.g. 1 above, we credited Cash 40k\n",
    "        - In E.g. 2 above, we credited Notes Payable 40k"
   ]
  },
  {
   "cell_type": "markdown",
   "metadata": {},
   "source": [
    "- From E.g. 2 above, the way the entry recorded is:\n",
    "\n",
    "```\n",
    "DR. Equipment     40,000\n",
    "     CR. Equipment     40,000\n",
    "```"
   ]
  },
  {
   "cell_type": "markdown",
   "metadata": {},
   "source": [
    "- As we can see, the debit comes first, then the credit comes second with an indent\n",
    "    - A simple way to keep things straight is to think: *DEBIT IS LEFT, CREDIT IS RIGHT*\n",
    "        - This is because the debit affects the left side of the T table (assets), and the credit affects the right side (liabilities and owners equity)\n",
    "- From the perspective of the company's balance sheet, **a debit is a plus** and **a credit is a negative**"
   ]
  },
  {
   "cell_type": "markdown",
   "metadata": {},
   "source": [
    "**E.g. 3**\n",
    "\n",
    "- Chris' Construction takes out a 50k loan with a local bank\n",
    "    - As a result:\n",
    "        - Cash increases by 50k\n",
    "            - Since this is a positive to the company, **it is a debit**\n",
    "        - Notes Payable increases by 50k\n",
    "            - Since this is a negative to the company, **it is a credit**\n",
    "- Therefore, the entry is recorded as:\n",
    "\n",
    "```\n",
    "DR. Cash     50,000\n",
    "     CR. Notes Payable     50,000\n",
    "```"
   ]
  },
  {
   "cell_type": "markdown",
   "metadata": {},
   "source": [
    "**E.g. 4**\n",
    "\n",
    "- Last month, Chris' Construction purchased 10k work of building supplies using credit to make the purchase\n",
    "    - The Building Supplies increases by 10k, and Accounts Payable increases by 10k\n",
    "    \n",
    "    \n",
    "- The entry is recorded as:\n",
    "\n",
    "```\n",
    "DR. Building Supplies     10,000\n",
    "     CR. Accounts Payable     10,000\n",
    "```"
   ]
  },
  {
   "cell_type": "markdown",
   "metadata": {},
   "source": [
    "**E.g. 5**\n",
    "\n",
    "- Eventually, Chris' Construction pays the vendor for the supplies\n",
    "    - This decreases Cash by 10k and correspondingly reduces Accounts Payable by 10\n",
    "    \n",
    "- The entry is recorded as:\n",
    "\n",
    "```\n",
    "DR. Accounts Payable     10,000\n",
    "     CR. Cash     10,000\n",
    "```"
   ]
  },
  {
   "cell_type": "markdown",
   "metadata": {},
   "source": [
    "___\n",
    "\n",
    "# Revenue and expense accounts\n",
    "\n",
    "- So far, all the examples have dealt with the balance sheet\n",
    "    - But we also need to record these entries on the incometatement\n",
    "    \n",
    "- Generally, anything affecting revenue is a credit, and anything affecting an expense account is a debit\n",
    "    - *But wait a minute! I thought debits are a plus and credits are a negative! So since revenue is a positive for the company, it should be a debit (not a credit)!*\n",
    "        - Revenues increase the Owners' Equity, which is on the right side of the T table"
   ]
  }
 ],
 "metadata": {
  "kernelspec": {
   "display_name": "Python 3",
   "language": "python",
   "name": "python3"
  },
  "language_info": {
   "codemirror_mode": {
    "name": "ipython",
    "version": 3
   },
   "file_extension": ".py",
   "mimetype": "text/x-python",
   "name": "python",
   "nbconvert_exporter": "python",
   "pygments_lexer": "ipython3",
   "version": "3.6.8"
  }
 },
 "nbformat": 4,
 "nbformat_minor": 2
}
