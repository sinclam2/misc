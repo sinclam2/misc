{
 "cells": [
  {
   "cell_type": "markdown",
   "metadata": {},
   "source": [
    "- Reports\n",
    "    1. Cash Inflows\n",
    "    2. Cash Outflows"
   ]
  },
  {
   "cell_type": "markdown",
   "metadata": {},
   "source": [
    "___\n",
    "\n",
    "# Cash Flow Statement vs. Income Statement\n",
    "\n",
    "- *Why do we even need the Cash Flow statement if we have the Income Statement?*\n",
    "    - There are some important differences:\n",
    "        1. Timing Issues\n",
    "            - Sometimes cash is paid or received in a different period than when the expense or revenue is recorded\n",
    "                - This is covered in a later section\n",
    "        2. Cash Flow statement includes transactions not included in the Income Statement"
   ]
  },
  {
   "cell_type": "markdown",
   "metadata": {},
   "source": [
    "### Example 1\n",
    "\n",
    "- In September, XYZ Consulting performs marketing services for a customer who doesn't pay until the beginning of October\n",
    "    - This is recorded on the September Income Statement and Balance Sheet\n",
    "        - Listed in Sales (under Revenue) on the Income Statement\n",
    "        - Listed in Accounts Receivable (under Assets) on the Balance Sheet\n",
    "    - The cash doesn't appear on the Cash Flow Statement until October\n",
    "        - **Note**: \n",
    "            - October's Balance Sheet have reduced Accounts Receivable, and increased Cash\n",
    "            - October's Income Statement would say nothing about the transaction"
   ]
  },
  {
   "cell_type": "markdown",
   "metadata": {},
   "source": [
    "### Example 2\n",
    "\n",
    "- XYZ Consulting takes out a loan from the bank\n",
    "    - Even though they receive cash from the loan, **this isn't listed on the Income Statement**\n",
    "        - Because it's not a revenue or expense item\n",
    "    - This appears on the Balance Sheet as an Asset under Cash, and a Liability under Notes Payable\n",
    "    - This appears on the Cash Flow statement as a cash inflow"
   ]
  },
  {
   "cell_type": "markdown",
   "metadata": {},
   "source": [
    "### Example 3\n",
    "\n",
    "- XYZ Consulting pays its shareholders a 30k dividend\n",
    "    - Since dividends aren't an expense (as we saw in the last chapter), this isn't listed on the Income Statement\n",
    "        - This is listed on the statement of Retained Earnings\n",
    "    - This appears on the Cash Flow Statement as a cash outflow"
   ]
  },
  {
   "cell_type": "markdown",
   "metadata": {},
   "source": [
    "____\n",
    "\n",
    "# Categories of Cash Flow\n",
    "\n",
    "- There are 3 types of cash flows:\n",
    "    1. Cash flow from operating activities (CFO)\n",
    "    2. Cash flow from investing activites (CFI)\n",
    "    3. Cash flow from financing activities (CFF)"
   ]
  },
  {
   "cell_type": "markdown",
   "metadata": {},
   "source": [
    "____\n",
    "\n",
    "# 1. Cash Flow from Operating Activities\n",
    "\n",
    "- Technically, this is al cash flows that aren't listed as either CFI or CFF\n",
    "- **General Idea**: reflects cash transactions that help determine Net Income\n",
    "\n",
    "**Common CFO Items**\n",
    "\n",
    "*Inflows*\n",
    "\n",
    "- Receipts from sale of goods or services\n",
    "- Interest or dividends receivd from investments\n",
    "\n",
    "*Outflows*\n",
    "\n",
    "- Payments made to suppliers\n",
    "- Payments made to employees\n",
    "- Interest payments made to lenders\n",
    "- Tax payments"
   ]
  },
  {
   "cell_type": "markdown",
   "metadata": {},
   "source": [
    "___\n",
    "\n",
    "# 2. Cash Flow from Investing Activities\n",
    "\n",
    "- Cash flows from:\n",
    "    - Investments in financial securities\n",
    "        - E.g. stocks, bonds, etc.\n",
    "    - Sale of capital assets\n",
    "        - i.e. assets expected to last longer than one year\n",
    "\n",
    "**Common CFI Items**\n",
    "\n",
    "- Purchase/sale of property, plant, or equipment\n",
    "- Purchase/sale of stocks or bonds"
   ]
  },
  {
   "cell_type": "markdown",
   "metadata": {},
   "source": [
    "____\n",
    "\n",
    "# 3. Cash Flow from Financing Activities\n",
    "\n",
    "- Cash flows from **transactions with the company's owners and creditors**\n",
    "\n",
    "**Common CFF Items**\n",
    "\n",
    "- Cash received from investors from issue of new stock\n",
    "- Dividends paid to shareholders\n",
    "- Cash received from taking out a loan\n",
    "- Cash paid for principal repayment of loan\n",
    "    - **Note**: interest repayments are classified as CFO"
   ]
  }
 ],
 "metadata": {
  "kernelspec": {
   "display_name": "Python 3",
   "language": "python",
   "name": "python3"
  },
  "language_info": {
   "codemirror_mode": {
    "name": "ipython",
    "version": 3
   },
   "file_extension": ".py",
   "mimetype": "text/x-python",
   "name": "python",
   "nbconvert_exporter": "python",
   "pygments_lexer": "ipython3",
   "version": "3.6.8"
  }
 },
 "nbformat": 4,
 "nbformat_minor": 2
}
