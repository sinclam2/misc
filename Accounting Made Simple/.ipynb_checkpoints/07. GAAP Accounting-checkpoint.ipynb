{
 "cells": [
  {
   "cell_type": "markdown",
   "metadata": {},
   "source": [
    "# What is GAAP?\n",
    "\n",
    "- **Generally Accepted Accounting Principles**\n",
    "    - In the US, GAAP is the framework used to prepare financial statements\n",
    "- **What is the goal of GAAP?**\n",
    "    - To allow investors to compare the financial statements of different companies\n",
    "        - Uniform reporting standards make it easier to compare"
   ]
  },
  {
   "cell_type": "markdown",
   "metadata": {},
   "source": [
    "___\n",
    "\n",
    "# Who is Required to Follow GAAP?\n",
    "\n",
    "- If a company is publicly traded, the SEC requires that it follows GAAP\n",
    "    - Many companies follow GAAP *even when they don't need to*\n",
    "        - This is because it's so common that they may as well\n",
    "- Government entities are also required to follow GAAP\n",
    "    - **Note**: the GAAP rules are different between companies and government entities\n",
    "        - i.e. it's hard to compare a company's financials to a government entity's (even if they're both following GAAP rules)"
   ]
  }
 ],
 "metadata": {
  "kernelspec": {
   "display_name": "Python 3",
   "language": "python",
   "name": "python3"
  },
  "language_info": {
   "codemirror_mode": {
    "name": "ipython",
    "version": 3
   },
   "file_extension": ".py",
   "mimetype": "text/x-python",
   "name": "python",
   "nbconvert_exporter": "python",
   "pygments_lexer": "ipython3",
   "version": "3.6.8"
  }
 },
 "nbformat": 4,
 "nbformat_minor": 2
}
