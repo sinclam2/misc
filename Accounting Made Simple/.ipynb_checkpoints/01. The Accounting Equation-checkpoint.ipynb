{
 "cells": [
  {
   "cell_type": "markdown",
   "metadata": {},
   "source": [
    "- The accounting equation is the **most fundamental concept of accounting**:\n",
    "\n",
    "$$\n",
    "\\left ( \\text{Assets} \\right ) = \\left ( \\text{Liabilities} \\right ) + \\left ( \\text{Owners' Equity} \\right )\n",
    "$$"
   ]
  },
  {
   "cell_type": "markdown",
   "metadata": {},
   "source": [
    "**Assets**\n",
    "\n",
    "- all the property owned by the company\n",
    "    - **Note**: here, property doesn't mean only real estate\n",
    "        - Means any useful or valuable thing, person, or quality\n",
    "        \n",
    "**Liabilities**\n",
    "\n",
    "- all the debts that the company currently has outstanding to lenders\n",
    "    - i.e. a financial obligation\n",
    "\n",
    "**Owners' Equity**\n",
    "\n",
    "- a.k.a. Shareholders' Equity\n",
    "- all assets left over after liabilities have been repaid"
   ]
  },
  {
   "cell_type": "markdown",
   "metadata": {},
   "source": [
    "### Example\n",
    "\n",
    "- Lisa owns a 300k home\n",
    "    - To pay for the home, she took out a mortgage\n",
    "        - On this mortgage, she still owes 270k\n",
    "        \n",
    "- This means Lisa has *70k equity in the home*\n",
    "    - Plugging these values into the accounting equation:\n",
    "\n",
    "$$\n",
    "300k = 230k + 70k\n",
    "$$"
   ]
  },
  {
   "cell_type": "markdown",
   "metadata": {},
   "source": [
    "- As we can see, the owners' equity is simply a \"plug figure\"\n",
    "    - i.e. it's whatever number makes the equation balance\n",
    "        - This means it may be simpler to rewrite the equation as:\n",
    "        \n",
    "$$\n",
    "\\left ( \\text{Owners' Equity} \\right ) = \\left ( \\text{Assets} \\right ) -\\left ( \\text{Liabilities} \\right )\n",
    "$$"
   ]
  },
  {
   "cell_type": "markdown",
   "metadata": {},
   "source": [
    "### Example cont'd...\n",
    "\n",
    "- Now, let's say Lisa has paid off 15k of the mortgage one year later\n",
    "    - This means her liabilities have been reduced by 15k\n",
    "    - We can calculate the her equity as:\n",
    "    \n",
    "$$\n",
    "\\left ( \\text{Owner's Equity} \\right ) = 300k - (230k - 15k) = 300k - 215k = 85k\n",
    "$$\n",
    "\n",
    "- As we can see, her equity in the home has increased by 15k (exactly the reduction in her liabilities)"
   ]
  },
  {
   "cell_type": "markdown",
   "metadata": {},
   "source": [
    "### *My Asset is Your Liability*\n",
    "\n",
    "- **Confusing idea**: one person's asset is another's liability\n",
    "    - E.g. if I take out a loan with the bank:\n",
    "        - The loan is a **liability to me**\n",
    "            - This is because I need to pay the bank back\n",
    "        - The loan is an **asset to the bank**\n",
    "            - This is because they can expect to receive my loan payments in the future\n",
    "    - Likewise, my deposits in the bank are an asset since I can spend them, but they're a liability to the bank since they ower them to me"
   ]
  }
 ],
 "metadata": {
  "kernelspec": {
   "display_name": "Python 3",
   "language": "python",
   "name": "python3"
  },
  "language_info": {
   "codemirror_mode": {
    "name": "ipython",
    "version": 3
   },
   "file_extension": ".py",
   "mimetype": "text/x-python",
   "name": "python",
   "nbconvert_exporter": "python",
   "pygments_lexer": "ipython3",
   "version": "3.6.8"
  }
 },
 "nbformat": 4,
 "nbformat_minor": 2
}
