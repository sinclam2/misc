{
 "cells": [
  {
   "cell_type": "markdown",
   "metadata": {},
   "source": [
    "- A company's income statement shows the financial performance **over a period of time**\n",
    "    - Usually a year\n",
    "- **Note**: the balance sheet shows the position **at a point in time**\n",
    "    - **Common analogy**:\n",
    "        - Balance Sheet -> photo\n",
    "        - Income Statement -> video\n",
    "- Sometimes the income statement is called th **profit and loss (P&L) statement**\n",
    "- The income statement is split into two sections:\n",
    "    1. Revenues\n",
    "    2. Expenses"
   ]
  },
  {
   "cell_type": "markdown",
   "metadata": {},
   "source": [
    "___\n",
    "\n",
    "# Gross Profit and Cost of Goods Sold\n",
    "\n",
    "$$\n",
    "\\text{Gross Profit} = \\text{Revenue} - \\text{Cost of Goods Sold}\n",
    "$$\n",
    "\n",
    "### Example\n",
    "\n",
    "- Laura runs a small business selling t-shirts\n",
    "    - At the beginning of the month, Laura ordered 100 shirts for 12 dollars each\n",
    "        - By the end of the month, she had sold all the shirts for 2500 dollars\n",
    "        \n",
    "$$\n",
    "\\text{Gross Profit} = 2,500 - (100 \\cdot 12) = 2,500 - 1,200 = 1,300\n",
    "$$"
   ]
  },
  {
   "cell_type": "markdown",
   "metadata": {},
   "source": [
    "___\n",
    "\n",
    "# Operating Income vs. Net Income\n",
    "\n",
    "- Sometimes income statements are split between operating revenues/expenses and non-operating revenues/expenses\n",
    "    - **Operating revenues**: from the sale of the business's **primary** products or services\n",
    "    - **Operating expenses**: from the core operation of the business\n",
    "        - E.g. wages, rent, insurance premiums\n",
    "    - **Non-operating revenues/expenses**: everything else\n",
    "        - E.g. interest income, interest expense, gains/losses on investments\n",
    "        \n",
    "**Why split operating from non-operating?**\n",
    "- Allows for the calculation of operating income\n",
    "    - More meaningful number than net income\n",
    "        - Measures how well the company runs its core business\n",
    "            - Excludes financing and investment impacts\n",
    "            \n",
    "$$\n",
    "\\text{Operating Income} = \\text{Gross Profit} - \\text{Operating Expenses}\n",
    "$$\n",
    "\n",
    "$$\n",
    "\\text{Net Income} = \\left (\\text{Revenues} + \\text{Gains}\\right ) - \\left (\\text{Expenses} + \\text{Losses} \\right )\n",
    "$$"
   ]
  }
 ],
 "metadata": {
  "kernelspec": {
   "display_name": "Python 3",
   "language": "python",
   "name": "python3"
  },
  "language_info": {
   "codemirror_mode": {
    "name": "ipython",
    "version": 3
   },
   "file_extension": ".py",
   "mimetype": "text/x-python",
   "name": "python",
   "nbconvert_exporter": "python",
   "pygments_lexer": "ipython3",
   "version": "3.6.8"
  }
 },
 "nbformat": 4,
 "nbformat_minor": 2
}
