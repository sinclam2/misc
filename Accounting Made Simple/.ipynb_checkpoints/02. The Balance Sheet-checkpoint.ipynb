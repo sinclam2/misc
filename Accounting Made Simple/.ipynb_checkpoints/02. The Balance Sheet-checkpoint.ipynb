{
 "cells": [
  {
   "cell_type": "markdown",
   "metadata": {},
   "source": [
    "- The balance sheet gives a point-in-time measurement of a company's financial situation\n",
    "    - Essentially a formal presentation of the accounting equation\n",
    "        - The three sections are:\n",
    "            1. Assets\n",
    "            2. Liabilities\n",
    "            3. Owners' Equity"
   ]
  },
  {
   "cell_type": "markdown",
   "metadata": {},
   "source": [
    "___\n",
    "\n",
    "# Assets\n",
    "\n",
    "## Cash and Cash Equivalents\n",
    "\n",
    "- Composed of:\n",
    "    - Checking account balance\n",
    "    - Savings account balance\n",
    "    - Investments **that mature within 3 months**\n",
    "    \n",
    "## Inventory\n",
    "\n",
    "- Stock that is available for sale\n",
    "\n",
    "## Accounts Receivable\n",
    "\n",
    "- Amounts that haven't been received yet for goods/services **that have already been provided**\n",
    "\n",
    "## Property, Plant, and Equipment\n",
    "\n",
    "- Assets that are hard to convert to cash\n",
    "    - E.g. computers, equipment, vehicles, furniture, etc."
   ]
  },
  {
   "cell_type": "markdown",
   "metadata": {},
   "source": [
    "___\n",
    "\n",
    "# Liabilities\n",
    "\n",
    "## Accounts Payable\n",
    "\n",
    "- Amounts that haven't been paid yet to suppliers for goods/services **that have already been received**\n",
    "\n",
    "## Notes Payable\n",
    "\n",
    "- Contractual obligations due to lenders\n",
    "    - E.g. the repayment of a loan that a business took out"
   ]
  },
  {
   "cell_type": "markdown",
   "metadata": {},
   "source": [
    "___\n",
    "\n",
    "# Owners' Equity\n",
    "\n",
    "## Common Stock\n",
    "\n",
    "- Amounts invested by owners of the business\n",
    "    - If it's a publicly traded company, owners implies shareholders\n",
    "    \n",
    "## Retained Earnings\n",
    "\n",
    "- Any net income to the business that hasn't been distributed to the business owners\n",
    "    - **Note**: distributions are made by dividends\n",
    "        - These will be covered in a later chapter"
   ]
  },
  {
   "cell_type": "markdown",
   "metadata": {},
   "source": [
    "____\n",
    "\n",
    "# Current vs. Long-term\n",
    "\n",
    "- Assets and liabilities are often broken up by current and long-term\n",
    "    - **Current Assets**: expected to be converted to cash **within 12 months**\n",
    "        - Typically includes: cash, accounts receivable, and inventory\n",
    "    - **Long-term Assets**: all other assets are long-term\n",
    "        - Typically includes: PP&E\n",
    "    - **Current Liabilties**: expected to be paid off **within 12 months**\n",
    "        - Typically includes: accounts payable, the portion of notes payable due in the next 12 months\n",
    "    - **Long-term Liabilities**: the portion of notes payable due after 12 months, and all other liabilities"
   ]
  },
  {
   "cell_type": "markdown",
   "metadata": {},
   "source": [
    "____\n",
    "\n",
    "# Multiple-period Balance Sheets\n",
    "\n",
    "- Balance sheets often have two columns:\n",
    "    1. Balances as of the end of the **most recent accounting period**\n",
    "    2. Balances at the end of the **prior period**\n",
    "    \n",
    "- This helps show how each line has changed over time\n",
    "\n",
    "### Example\n",
    "\n",
    "- Let's say we have a balance sheet that looks fairly similar between the current period and the previous period\n",
    "    - One thing we notice, however, it that the **accounts receivable has grown**\n",
    "        - This could mean one of two things:\n",
    "            1. Trouble getting clients to pay on time\n",
    "                - Bad sign\n",
    "            2. Simply an increase in sales\n",
    "                - Good sign"
   ]
  }
 ],
 "metadata": {
  "kernelspec": {
   "display_name": "Python 3",
   "language": "python",
   "name": "python3"
  },
  "language_info": {
   "codemirror_mode": {
    "name": "ipython",
    "version": 3
   },
   "file_extension": ".py",
   "mimetype": "text/x-python",
   "name": "python",
   "nbconvert_exporter": "python",
   "pygments_lexer": "ipython3",
   "version": "3.6.8"
  }
 },
 "nbformat": 4,
 "nbformat_minor": 2
}
