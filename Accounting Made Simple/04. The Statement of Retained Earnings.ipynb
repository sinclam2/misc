{
 "cells": [
  {
   "cell_type": "markdown",
   "metadata": {},
   "source": [
    "- Very brief financial statement\n",
    "- **Purpose**: outline the changes in a company's retained earnings over time\n",
    "    - *Recall*: retained earnings are **undistributed profits**\n",
    "        - The reason we call them *undistributed* profits is because *distributed* profits are dividends"
   ]
  },
  {
   "cell_type": "markdown",
   "metadata": {},
   "source": [
    "### Example\n",
    "\n",
    "- ABC Construction is formed on Jan 1, 2013\n",
    "    - Naturally, at initiation, the Retained Earnings balance is zero\n",
    "        - Because it hasn't even made any profits yet\n",
    "- By the end of 2013, ABC's Net Income is 50k\n",
    "    - In December 2013, it pays a dividend of 20k to its shareholders\n",
    "        - Therefore, the end of year balance of Retained Earnings is equal to:\n",
    "        \n",
    "$$\n",
    "\\text{Retained Earnings} = 50k - 20k = 30k\n",
    "$$"
   ]
  },
  {
   "cell_type": "markdown",
   "metadata": {},
   "source": [
    "### Example cont'd...\n",
    "\n",
    "- Then, by the end of 2014, the Net Income for the year is 70k\n",
    "    - Again, the company pays a 20k dividend to the shareholders\n",
    "        - Now, the end of year balance of Retained Earnings is equal to:\n",
    "        \n",
    "$$\n",
    "\\text{2014 Retained Earnings} = \\text{2013 Retained Earnings} + \\text{2014 Net Income} - \\text{2014 Dividends Paid}\n",
    "$$\n",
    "\n",
    "$$\n",
    "= 30k + 70k - 20k = 80k\n",
    "$$"
   ]
  },
  {
   "cell_type": "markdown",
   "metadata": {},
   "source": [
    "____\n",
    "\n",
    "# The Bridge Between Financial Statements\n",
    "\n",
    "- The statement of Retained Earnings acts as a bridge between:\n",
    "    1. The Income Statement\n",
    "    2. The Balance Sheet\n",
    "- It takes information from the Income Statement (i.e. Net Income) and provides it to the Balance Sheet (i.e. Retained Earnings becomes a component of Owners' Equity)"
   ]
  },
  {
   "cell_type": "markdown",
   "metadata": {},
   "source": [
    "___\n",
    "\n",
    "# Dividends: Not an Expense!\n",
    "\n",
    "- They do look like an expense\n",
    "    - They are paid in cash\n",
    "- However, dividends are a **distribution of company profits**\n",
    "    - **Expenses, on the other hand, reduce company profits**\n",
    "        - This is why dividends aren't listed on the Income Statement\n",
    "            - They're listed on the statement of Retained Earnings"
   ]
  },
  {
   "cell_type": "markdown",
   "metadata": {},
   "source": [
    "____\n",
    "\n",
    "# Retained Earnings: Not the Same as Cash\n",
    "\n",
    "- The way we've described retained earnings so far, it seems like they're simply a cash balance sitting in a checking account\n",
    "    - In all likelihood, this isn't the case\n",
    "        - Often, they've already been put to some other use\n",
    "            - Usually reinvested into the company (buying more equipment, investing in more inventory, etc.)"
   ]
  }
 ],
 "metadata": {
  "kernelspec": {
   "display_name": "Python 3",
   "language": "python",
   "name": "python3"
  },
  "language_info": {
   "codemirror_mode": {
    "name": "ipython",
    "version": 3
   },
   "file_extension": ".py",
   "mimetype": "text/x-python",
   "name": "python",
   "nbconvert_exporter": "python",
   "pygments_lexer": "ipython3",
   "version": "3.6.8"
  }
 },
 "nbformat": 4,
 "nbformat_minor": 2
}
