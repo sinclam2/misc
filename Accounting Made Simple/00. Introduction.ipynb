{
 "cells": [
  {
   "cell_type": "markdown",
   "metadata": {},
   "source": [
    "# What is accounting?\n",
    "\n",
    "- *\"Accounting is the language of business\"*\n",
    "\n",
    "- At its funndamental level: accounting is a system of tracking a business's:\n",
    "    - income\n",
    "    - expenses\n",
    "    - assets\n",
    "    - debts\n",
    "    \n",
    "- Using just a business's \"books\" (i.e. accounting records), you can determine:\n",
    "    - whether the business is growing or shrinking\n",
    "    - whether the business is healthy or in trouble\n",
    "    - what potential threats lie ahead\n",
    "    \n",
    "- The book is broken into two parts:\n",
    "    1. Financial Statements\n",
    "        - this section explains how to read the different financial statements, and the lessons you can learn from each\n",
    "    2. GAAP Accounting\n",
    "        - this section outlines topics such as:\n",
    "            - double-entry bookkeeping\n",
    "            - debits and credits\n",
    "            - cash vs. accrual methods\n",
    "        - we'll also see how to account for more messy transactions\n",
    "            - E.g. depreciation expense, gains/losses on sales of property, inventory and cost of goods sold, etc."
   ]
  }
 ],
 "metadata": {
  "kernelspec": {
   "display_name": "Python 3",
   "language": "python",
   "name": "python3"
  },
  "language_info": {
   "codemirror_mode": {
    "name": "ipython",
    "version": 3
   },
   "file_extension": ".py",
   "mimetype": "text/x-python",
   "name": "python",
   "nbconvert_exporter": "python",
   "pygments_lexer": "ipython3",
   "version": "3.6.8"
  }
 },
 "nbformat": 4,
 "nbformat_minor": 2
}
