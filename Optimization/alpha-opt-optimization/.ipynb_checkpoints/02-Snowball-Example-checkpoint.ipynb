{
 "cells": [
  {
   "cell_type": "markdown",
   "metadata": {},
   "source": [
    "Youtube link: https://youtu.be/hBcYXqRq500"
   ]
  },
  {
   "cell_type": "markdown",
   "metadata": {},
   "source": [
    "# Question: how big does a snowball need to be to roll down a hill for 30s and knock down a tree?"
   ]
  },
  {
   "cell_type": "markdown",
   "metadata": {},
   "source": [
    "- From Rodolfo Diaz's 2003 paper about snowball kinetics has the following differential equations:\n",
    "\n",
    "### 1. Change in mass\n",
    "\n",
    "$$\n",
    "\\frac{dm}{dt} = \\beta K_{0}e^{-\\beta t}\n",
    "$$"
   ]
  },
  {
   "cell_type": "markdown",
   "metadata": {},
   "source": [
    "### 2. Change in radius\n",
    "\n",
    "$$\n",
    "\\frac{dr}{dt} = \\frac{\\beta K_{0}e^{-\\beta t}}{4\\pi \\rho r^{2}}\n",
    "$$"
   ]
  },
  {
   "cell_type": "markdown",
   "metadata": {},
   "source": [
    "### 3. Change in position\n",
    "\n",
    "$$\n",
    "\\frac{ds}{dt} = v\n",
    "$$"
   ]
  },
  {
   "cell_type": "markdown",
   "metadata": {},
   "source": [
    "### 4. Change in velocity\n",
    "\n",
    "$$\n",
    "\\frac{dv}{dt} = \\frac{-15}{56}\\frac{\\rho_{a}C_{d}}{\\rho}\\frac{1}{r}v^{2} - \\frac{23}{7}\\frac{1}{r}\\frac{\\beta K_{0}e^{-\\beta t}}{4\\pi\\rho r^{2}}v + \\frac{5}{7}gsin(\\theta)\n",
    "$$"
   ]
  },
  {
   "cell_type": "markdown",
   "metadata": {},
   "source": [
    "- For this example, we'll set the constants as:\n",
    "\n",
    "$$\n",
    "K_{0} = 85\n",
    "$$\n",
    "$$\n",
    "\\beta = 0.07\n",
    "$$\n",
    "$$\n",
    "C_{d} = 0.3\n",
    "$$\n",
    "$$\n",
    "g = 9.81\n",
    "$$\n",
    "$$\n",
    "\\rho = 350\n",
    "$$\n",
    "$$\n",
    "\\rho_{a} = 0.9\n",
    "$$\n",
    "$$\n",
    "\\theta = 10\n",
    "$$"
   ]
  },
  {
   "cell_type": "code",
   "execution_count": 1,
   "metadata": {},
   "outputs": [],
   "source": [
    "import numpy as np\n",
    "from scipy.integrate import odeint\n",
    "from scipy.optimize import minimize\n",
    "import matplotlib.pyplot as plt\n",
    "%matplotlib inline"
   ]
  },
  {
   "cell_type": "code",
   "execution_count": 2,
   "metadata": {},
   "outputs": [],
   "source": [
    "K0 = 85\n",
    "beta = 0.07\n",
    "Cd = 0.3\n",
    "g = 9.8\n",
    "rho = 350\n",
    "rho_a = 0.9\n",
    "theta = np.radians(5)"
   ]
  },
  {
   "cell_type": "markdown",
   "metadata": {},
   "source": [
    "- We'll set our inial conditions as:\n",
    "    - Mass: $m_{0} = 10$\n",
    "    - Velocity: $v_{0} = 0$\n",
    "    - Radius: $r_{0} = \\left (\\frac{m_{0}}{(4/3)\\pi \\rho} \\right )^{1/3} \\approx 0.189648$\n",
    "    - Position: $s_{0} = 0$"
   ]
  },
  {
   "cell_type": "code",
   "execution_count": 3,
   "metadata": {},
   "outputs": [],
   "source": [
    "m0 = 10\n",
    "v0 = 0\n",
    "r0 = (m0/(4/3.0*np.pi*rho))**(1/3.0)\n",
    "s0 = 0"
   ]
  },
  {
   "cell_type": "code",
   "execution_count": 4,
   "metadata": {},
   "outputs": [
    {
     "data": {
      "text/plain": [
       "0.18964778823564554"
      ]
     },
     "execution_count": 4,
     "metadata": {},
     "output_type": "execute_result"
    }
   ],
   "source": [
    "r0"
   ]
  },
  {
   "cell_type": "markdown",
   "metadata": {},
   "source": [
    "- We assume it takes 25,000 N to knock over a tree"
   ]
  },
  {
   "cell_type": "code",
   "execution_count": 5,
   "metadata": {},
   "outputs": [],
   "source": [
    "Fd = 25000"
   ]
  },
  {
   "cell_type": "markdown",
   "metadata": {},
   "source": [
    "- Recall that the question says that the ball rolls for 30 s"
   ]
  },
  {
   "cell_type": "code",
   "execution_count": 6,
   "metadata": {},
   "outputs": [],
   "source": [
    "t = np.linspace(0,30)"
   ]
  },
  {
   "cell_type": "markdown",
   "metadata": {},
   "source": [
    "- Next, we define a function that calculates our snowball dynamics"
   ]
  },
  {
   "cell_type": "code",
   "execution_count": 7,
   "metadata": {},
   "outputs": [],
   "source": [
    "def snowball_dynamics(state_variables, t):\n",
    "    \n",
    "    M,r,s,v = state_variables\n",
    "    \n",
    "    #change in mass\n",
    "    dm_dt = beta*K0*np.exp(-beta*t)\n",
    "    \n",
    "    #change in radius\n",
    "    dr_dt = (beta * K0 * np.exp(-beta*t))/(4*np.pi*rho*r**2)\n",
    "    \n",
    "    #change in position\n",
    "    ds_dt = v\n",
    "    \n",
    "    #change in velocity\n",
    "    dv_dt = (-15*rho_a*Cd)/(56*rho)*1/r*v**2 - 23/7*1/r*beta*K0*np.exp(-beta*t)/(4*np.pi*rho*r**2)*v+5/7*g*np.sin(theta)\n",
    "    \n",
    "    return [dm_dt, dr_dt, ds_dt, dv_dt]"
   ]
  },
  {
   "cell_type": "markdown",
   "metadata": {},
   "source": [
    "- Now, we need to define the objective function that we're trying to solve\n",
    "    - since we're trying to get the initial mass, our variable will be $m_{0}$"
   ]
  },
  {
   "cell_type": "code",
   "execution_count": 8,
   "metadata": {},
   "outputs": [],
   "source": [
    "def objective(m0):\n",
    "    \n",
    "    #since we're tweaking m0, we need to recalculate r0 each time\n",
    "    r0 = (m0/(4/3.0*np.pi*rho))**(1/3.0)\n",
    "    \n",
    "    #set our inital guess\n",
    "    guess = [m0, r0, s0, v0]\n",
    "    \n",
    "    #integrate our snowball dynamics function forward\n",
    "    integral = odeint(snowball_dynamics, guess, t)\n",
    "    \n",
    "    \n",
    "    m = integral[:,0][-1]\n",
    "    r = integral[:,1][-1]\n",
    "    s = integral[:,2][-1]\n",
    "    v = integral[:,3][-1]\n",
    "    \n",
    "    #recall: kinetic energy = (1/2)mv^2\n",
    "    KE = 0.5*m*v**2\n",
    "    \n",
    "    # if the snowball comes to a stop, it loses all its kinetic energy\n",
    "    # therefore, we calculate the force required to take away all the kinetic \n",
    "    #energy\n",
    "    F = KE/r\n",
    "    \n",
    "    return (F-Fd)**2"
   ]
  },
  {
   "cell_type": "code",
   "execution_count": 11,
   "metadata": {},
   "outputs": [
    {
     "name": "stdout",
     "output_type": "stream",
     "text": [
      "Optimization terminated successfully.\n",
      "         Current function value: 0.000000\n",
      "         Iterations: 7\n",
      "         Function evaluations: 27\n",
      "         Gradient evaluations: 9\n"
     ]
    }
   ],
   "source": [
    "solution = minimize(objective,m0,options={'disp':True})    "
   ]
  },
  {
   "cell_type": "code",
   "execution_count": 12,
   "metadata": {},
   "outputs": [
    {
     "data": {
      "text/plain": [
       "array([46.51960082])"
      ]
     },
     "execution_count": 12,
     "metadata": {},
     "output_type": "execute_result"
    }
   ],
   "source": [
    "solution.x"
   ]
  }
 ],
 "metadata": {
  "kernelspec": {
   "display_name": "Python 3",
   "language": "python",
   "name": "python3"
  },
  "language_info": {
   "codemirror_mode": {
    "name": "ipython",
    "version": 3
   },
   "file_extension": ".py",
   "mimetype": "text/x-python",
   "name": "python",
   "nbconvert_exporter": "python",
   "pygments_lexer": "ipython3",
   "version": "3.6.5"
  }
 },
 "nbformat": 4,
 "nbformat_minor": 2
}
