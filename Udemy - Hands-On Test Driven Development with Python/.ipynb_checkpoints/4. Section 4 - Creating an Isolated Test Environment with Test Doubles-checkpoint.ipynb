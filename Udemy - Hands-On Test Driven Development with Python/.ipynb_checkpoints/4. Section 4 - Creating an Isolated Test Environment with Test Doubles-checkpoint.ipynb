{
 "cells": [
  {
   "cell_type": "markdown",
   "metadata": {},
   "source": [
    "# Test Doubles and the `unittest.mock` framework"
   ]
  },
  {
   "cell_type": "markdown",
   "metadata": {},
   "source": [
    "#### What are test doubles?\n",
    "\n",
    "- Test doubles are objects that can be used in unit tests in the place of a real thing\n",
    "    - E.g. if our unit test queries a rest API, the test may fail not because of a problem with the code, but because the rest API is down for some reason\n",
    "        - Instead of relying on the API, we can create a replacement for the results of the query, and feed those into the test"
   ]
  },
  {
   "cell_type": "markdown",
   "metadata": {},
   "source": [
    "#### Types of test doubles\n",
    "\n",
    "1. Dummy objects\n",
    "    - Simplest form\n",
    "    - Simply placeholders; never actually used in the test\n",
    "2. Fake objects\n",
    "    - A simplified version of the object used in production code\n",
    "    - This is good enough for testing \n",
    "3. Stub objects\n",
    "    - Are actually callable, but return \"canned\" responses\n",
    "4. Spy objects\n",
    "    - Records the values passed in, that can then be used in the test for validation\n",
    "5. Mock objects\n",
    "    - Pre-programmed to expect specific calls and parameters\n",
    "    - Can throw exceptions where necessary"
   ]
  },
  {
   "cell_type": "markdown",
   "metadata": {},
   "source": [
    "#### Mock frameworks\n",
    "\n",
    "- Provide an easy way to create test doubles at runtime\n",
    "- Provide a fast means for creating mocking expectations for tests\n",
    "- Can be much more efficient than creating custom mock objects\n",
    "    - Can be error prone and time consuming"
   ]
  },
  {
   "cell_type": "markdown",
   "metadata": {},
   "source": [
    "#### `unittest.mock`\n",
    "\n",
    "- Built-in for python 3.3+\n",
    "\n",
    "- Provides the `Mock` class to create mock objects"
   ]
  },
  {
   "cell_type": "markdown",
   "metadata": {},
   "source": [
    "#### `Mock` - initialization\n",
    "\n",
    "- `Mock` provides many initialization parameters to control the behaviour of the mock object\n",
    "    - `spec` specifies the interface that the mock object is implementing\n",
    "        - If we call an attribute that isn't specified in the spec, an error will be raised\n",
    "    - `side_effect` specifies a function that should be called when the mock object is called\n",
    "    - `return_value` specified the value that is returned when the mock object is called"
   ]
  },
  {
   "cell_type": "markdown",
   "metadata": {},
   "source": [
    "#### `Mock` - verification\n",
    "\n",
    "- `Mock` provides built-in functions to verify how the mock object was used\n",
    "    - `assert_called` verifies whether the mock object was called\n",
    "    - `assert_called_once` verifies whether the mock object was called only once\n",
    "    - `assert_called_with` verifies whether the mock object was called with the specified parameters\n",
    "    - `assert_called_once_with` verifies the combination of the two above\n",
    "    - `assert_not_called` verifies whether the mock object wasn't called at all\n",
    "    - `assert_has_calls` verifies whether a list of mock objects was called with the specified parameters\n",
    "    - `called` returns a boolean indicating whether the mock object was ever called\n",
    "    - `call_count` returns the number of times a mock object was called\n",
    "    - `call_args` returns the arguments the mock was most recently called with\n",
    "    - `call_args_list` returns a list of arguments for all calls to the mock object"
   ]
  },
  {
   "cell_type": "markdown",
   "metadata": {},
   "source": [
    "#### `MagicMock` class\n",
    "\n",
    "- Derived from the `Mock` class\n",
    "- Provides a default implementation of the default magic methods in python\n",
    "    - E.g. `__str__`\n",
    "- This class simplifies test setup"
   ]
  },
  {
   "cell_type": "markdown",
   "metadata": {},
   "source": [
    "#### pytest monkeypath test fixture\n",
    "\n",
    "- Allows a test to dynamically replace:\n",
    "    - Module and class attributes\n",
    "    - Dictionary entries\n",
    "    - Environment variables"
   ]
  }
 ],
 "metadata": {
  "kernelspec": {
   "display_name": "Python 3",
   "language": "python",
   "name": "python3"
  },
  "language_info": {
   "codemirror_mode": {
    "name": "ipython",
    "version": 3
   },
   "file_extension": ".py",
   "mimetype": "text/x-python",
   "name": "python",
   "nbconvert_exporter": "python",
   "pygments_lexer": "ipython3",
   "version": "3.6.8"
  }
 },
 "nbformat": 4,
 "nbformat_minor": 2
}
