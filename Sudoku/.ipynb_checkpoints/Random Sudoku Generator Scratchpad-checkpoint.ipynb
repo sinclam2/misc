{
 "cells": [
  {
   "cell_type": "code",
   "execution_count": 1,
   "metadata": {},
   "outputs": [],
   "source": [
    "import pandas as pd\n",
    "import numpy as np"
   ]
  },
  {
   "cell_type": "code",
   "execution_count": 99,
   "metadata": {},
   "outputs": [],
   "source": [
    "def generate_sudoku():\n",
    "    df_sudoku = pd.DataFrame(index=range(1,10), columns=range(1,10))\n",
    "    list_random_first_col = list(np.random.permutation(range(1,10)))\n",
    "    first_val = list_random_first_col[0]\n",
    "    list_random_first_row = [first_val] + [x for x in list(np.random.permutation(range(1,10))) if x != first_val]\n",
    "    df_sudoku.loc[:,1] = list_random_first_col\n",
    "    df_sudoku.loc[1,:] = list_random_first_row\n",
    "    \n",
    "    dict_possible_values = {(i,j):list(range(1,10)) for i in range(1, 10) for j in range(1,10)}\n",
    "    \n",
    "    for row, val in df_sudoku.loc[:, 1].iteritems():\n",
    "        dict_possible_values[row, 1] = val\n",
    "    \n",
    "    for col, val in df_sudoku.loc[1, :].iteritems():\n",
    "        dict_possible_values[1, col] = val\n",
    "    \n",
    "    for row in range(2,10):\n",
    "        row_val = df_sudoku.loc[row, 1]\n",
    "        for col in range(2,10):\n",
    "            list_temp = dict_possible_values[(row, col)]\n",
    "            if row_val in list_temp:\n",
    "                list_temp.remove(row_val)\n",
    "            \n",
    "    for col in range(2,10):\n",
    "        col_val = df_sudoku.loc[1, col]\n",
    "        for row in range(2,10):\n",
    "            list_temp = dict_possible_values[(row, col)] \n",
    "            if col_val in list_temp:\n",
    "                list_temp.remove(col_val)\n",
    "                \n",
    "    return df_sudoku, dict_possible_values"
   ]
  },
  {
   "cell_type": "code",
   "execution_count": 100,
   "metadata": {},
   "outputs": [],
   "source": [
    "df_sudoku, dict_possible_values = generate_sudoku()"
   ]
  }
 ],
 "metadata": {
  "kernelspec": {
   "display_name": "Python 3",
   "language": "python",
   "name": "python3"
  },
  "language_info": {
   "codemirror_mode": {
    "name": "ipython",
    "version": 3
   },
   "file_extension": ".py",
   "mimetype": "text/x-python",
   "name": "python",
   "nbconvert_exporter": "python",
   "pygments_lexer": "ipython3",
   "version": "3.6.8"
  }
 },
 "nbformat": 4,
 "nbformat_minor": 2
}
