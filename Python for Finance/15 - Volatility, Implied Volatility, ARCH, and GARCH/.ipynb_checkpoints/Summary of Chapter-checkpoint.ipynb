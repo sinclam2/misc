{
 "cells": [
  {
   "cell_type": "markdown",
   "metadata": {},
   "source": [
    "# Introduction"
   ]
  },
  {
   "cell_type": "markdown",
   "metadata": {},
   "source": [
    "- We typically assume that the volatility of returns for a security is a good measurement of risk\n",
    "    - The standard deviation or variance are both good measures of volatility\n",
    "        - The term \"volatility\" often refers to standard deviation"
   ]
  },
  {
   "cell_type": "markdown",
   "metadata": {},
   "source": [
    "- If we model returns using a normal distribution, it will treat a positive deviation similarly to a negative deviation because the distribution is symmetrical\n",
    "    - This goes against our conventional wisdom; a negative deviation has a bigger impact than a positive deviation of the same amount\n",
    "        - To account for this asymmetry, the **Sortino measure** suggests a lower partial deviation"
   ]
  },
  {
   "cell_type": "markdown",
   "metadata": {},
   "source": [
    "- Another assumption for the basic measurement of volatility is that it is constant over time\n",
    "    - This is not true; periods of high/low volatility are sticky but not constant\n",
    "        - To account for the inconsistency, we can use the **Auto Regressive Conditional Heteroskedasticity (ARCH)** process\n",
    "            - This process is expanded further using the **Generalized Auto Regressive Conditional Heteroskedasticity (GARCH)** process"
   ]
  },
  {
   "cell_type": "markdown",
   "metadata": {},
   "source": [
    "_____\n",
    "\n",
    "# Conventional volatility measure - standard deviation"
   ]
  },
  {
   "cell_type": "markdown",
   "metadata": {},
   "source": [
    "- The term *volatility* usually refers to the standard deviation of returns for a security\n",
    "    - E.g. \"The volatility of IBM is 20%\" means the annualized standard deviation for the returns of IBM's stock was 0.2\n",
    "\n",
    "- Let's calculate the volatility for acutal IBM data"
   ]
  },
  {
   "cell_type": "code",
   "execution_count": 6,
   "metadata": {},
   "outputs": [],
   "source": [
    "import pandas as pd\n",
    "import numpy as np\n",
    "import fix_yahoo_finance as yf"
   ]
  },
  {
   "cell_type": "code",
   "execution_count": 7,
   "metadata": {},
   "outputs": [
    {
     "name": "stdout",
     "output_type": "stream",
     "text": [
      "[*********************100%***********************]  1 of 1 downloaded\n"
     ]
    }
   ],
   "source": [
    "df_IBM = yf.download('IBM', start = '2009-01-01', end='2013-12-31')"
   ]
  },
  {
   "cell_type": "code",
   "execution_count": 9,
   "metadata": {},
   "outputs": [
    {
     "data": {
      "text/html": [
       "<div>\n",
       "<style scoped>\n",
       "    .dataframe tbody tr th:only-of-type {\n",
       "        vertical-align: middle;\n",
       "    }\n",
       "\n",
       "    .dataframe tbody tr th {\n",
       "        vertical-align: top;\n",
       "    }\n",
       "\n",
       "    .dataframe thead th {\n",
       "        text-align: right;\n",
       "    }\n",
       "</style>\n",
       "<table border=\"1\" class=\"dataframe\">\n",
       "  <thead>\n",
       "    <tr style=\"text-align: right;\">\n",
       "      <th></th>\n",
       "      <th>Open</th>\n",
       "      <th>High</th>\n",
       "      <th>Low</th>\n",
       "      <th>Close</th>\n",
       "      <th>Adj Close</th>\n",
       "      <th>Volume</th>\n",
       "    </tr>\n",
       "    <tr>\n",
       "      <th>Date</th>\n",
       "      <th></th>\n",
       "      <th></th>\n",
       "      <th></th>\n",
       "      <th></th>\n",
       "      <th></th>\n",
       "      <th></th>\n",
       "    </tr>\n",
       "  </thead>\n",
       "  <tbody>\n",
       "    <tr>\n",
       "      <th>2009-01-02</th>\n",
       "      <td>83.889999</td>\n",
       "      <td>87.589996</td>\n",
       "      <td>83.889999</td>\n",
       "      <td>87.370003</td>\n",
       "      <td>66.577576</td>\n",
       "      <td>7558200</td>\n",
       "    </tr>\n",
       "    <tr>\n",
       "      <th>2009-01-05</th>\n",
       "      <td>86.419998</td>\n",
       "      <td>87.669998</td>\n",
       "      <td>86.180000</td>\n",
       "      <td>86.820000</td>\n",
       "      <td>66.158447</td>\n",
       "      <td>8315700</td>\n",
       "    </tr>\n",
       "    <tr>\n",
       "      <th>2009-01-06</th>\n",
       "      <td>87.110001</td>\n",
       "      <td>90.410004</td>\n",
       "      <td>86.370003</td>\n",
       "      <td>89.230003</td>\n",
       "      <td>67.994942</td>\n",
       "      <td>9649500</td>\n",
       "    </tr>\n",
       "    <tr>\n",
       "      <th>2009-01-07</th>\n",
       "      <td>87.830002</td>\n",
       "      <td>88.800003</td>\n",
       "      <td>87.120003</td>\n",
       "      <td>87.790001</td>\n",
       "      <td>66.897629</td>\n",
       "      <td>8455100</td>\n",
       "    </tr>\n",
       "    <tr>\n",
       "      <th>2009-01-08</th>\n",
       "      <td>87.809998</td>\n",
       "      <td>88.139999</td>\n",
       "      <td>85.980003</td>\n",
       "      <td>87.180000</td>\n",
       "      <td>66.432793</td>\n",
       "      <td>7231800</td>\n",
       "    </tr>\n",
       "  </tbody>\n",
       "</table>\n",
       "</div>"
      ],
      "text/plain": [
       "                 Open       High        Low      Close  Adj Close   Volume\n",
       "Date                                                                      \n",
       "2009-01-02  83.889999  87.589996  83.889999  87.370003  66.577576  7558200\n",
       "2009-01-05  86.419998  87.669998  86.180000  86.820000  66.158447  8315700\n",
       "2009-01-06  87.110001  90.410004  86.370003  89.230003  67.994942  9649500\n",
       "2009-01-07  87.830002  88.800003  87.120003  87.790001  66.897629  8455100\n",
       "2009-01-08  87.809998  88.139999  85.980003  87.180000  66.432793  7231800"
      ]
     },
     "execution_count": 9,
     "metadata": {},
     "output_type": "execute_result"
    }
   ],
   "source": [
    "df_IBM.head()"
   ]
  },
  {
   "cell_type": "markdown",
   "metadata": {},
   "source": [
    "- Calculating returns"
   ]
  },
  {
   "cell_type": "code",
   "execution_count": 16,
   "metadata": {},
   "outputs": [],
   "source": [
    "df_IBM['return'] = df_IBM['Adj Close'].shift(1)/df_IBM['Adj Close']-1"
   ]
  },
  {
   "cell_type": "markdown",
   "metadata": {},
   "source": [
    "### Aside\n",
    "\n",
    "- Recall that if we have $n$ observations of daily returns, then the mean daily return is $\\frac{\\sum{r_{i}}}{n}$\n",
    "    - Similarly, the standard error of the mean is equal to $\\frac{\\sigma_{r}}{\\sqrt{n}}$\n",
    "\n",
    "- In this scenario, we can calculate the standard error of the mean by simply calculating the $\\sigma$ of our return column\n",
    "    - Therefore, to calculate the volatility of returns, we need to multiply the standard error by $\\sqrt{n}$\n",
    "    \n",
    "- We'll assume that there are 252 trading days in a year"
   ]
  },
  {
   "cell_type": "code",
   "execution_count": 17,
   "metadata": {},
   "outputs": [],
   "source": [
    "standard_error = np.std(df_IBM['return'])\n",
    "volatility = standard_error*np.sqrt(252)"
   ]
  },
  {
   "cell_type": "code",
   "execution_count": 18,
   "metadata": {},
   "outputs": [
    {
     "data": {
      "text/plain": [
       "0.20868237077512763"
      ]
     },
     "execution_count": 18,
     "metadata": {},
     "output_type": "execute_result"
    }
   ],
   "source": [
    "volatility"
   ]
  },
  {
   "cell_type": "markdown",
   "metadata": {},
   "source": [
    "- So, based on this data, we could say that the volatility of IBM over the 5-year period was about 21%"
   ]
  }
 ],
 "metadata": {
  "kernelspec": {
   "display_name": "Python 3",
   "language": "python",
   "name": "python3"
  },
  "language_info": {
   "codemirror_mode": {
    "name": "ipython",
    "version": 3
   },
   "file_extension": ".py",
   "mimetype": "text/x-python",
   "name": "python",
   "nbconvert_exporter": "python",
   "pygments_lexer": "ipython3",
   "version": "3.6.5"
  }
 },
 "nbformat": 4,
 "nbformat_minor": 2
}
