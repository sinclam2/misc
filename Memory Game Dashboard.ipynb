{
 "cells": [
  {
   "cell_type": "code",
   "execution_count": 1,
   "metadata": {
    "collapsed": false,
    "nbpresent": {
     "id": "c1a6d2f6-61ae-440a-bed9-b91361760d6c"
    }
   },
   "outputs": [],
   "source": [
    "import warnings\n",
    "warnings.simplefilter('ignore')\n",
    "\n",
    "import matplotlib.pyplot as plt\n",
    "%matplotlib inline\n",
    "plt.rcParams[\"figure.figsize\"] = [7,7]\n",
    "import time\n",
    "from IPython.display import clear_output, display, HTML\n",
    "from ipywidgets import widgets, HBox, Label\n",
    "import random\n",
    "import traitlets\n",
    "\n",
    "import pandas as pd"
   ]
  },
  {
   "cell_type": "code",
   "execution_count": 2,
   "metadata": {
    "collapsed": true
   },
   "outputs": [],
   "source": [
    "df_table = pd.DataFrame(columns = ['N_shapes', 'N_guess','Correct', 'Shape', 'Color'])"
   ]
  },
  {
   "cell_type": "code",
   "execution_count": 3,
   "metadata": {
    "collapsed": true
   },
   "outputs": [],
   "source": [
    "def hide_code():\n",
    "    return HTML('''<script>\n",
    "    code_show=true; \n",
    "    function code_toggle() {\n",
    "     if (code_show){\n",
    "     $(\"div.input\").hide();\n",
    "     } else {\n",
    "     $(\"div.input\").show();\n",
    "     }\n",
    "     code_show = !code_show\n",
    "    } \n",
    "    $( document ).ready(code_toggle);\n",
    "    </script>\n",
    "    <a href=\"javascript:code_toggle()\">Toggle Code</a>.''')"
   ]
  },
  {
   "cell_type": "code",
   "execution_count": 4,
   "metadata": {
    "collapsed": false
   },
   "outputs": [
    {
     "data": {
      "text/html": [
       "<script>\n",
       "    code_show=true; \n",
       "    function code_toggle() {\n",
       "     if (code_show){\n",
       "     $(\"div.input\").hide();\n",
       "     } else {\n",
       "     $(\"div.input\").show();\n",
       "     }\n",
       "     code_show = !code_show\n",
       "    } \n",
       "    $( document ).ready(code_toggle);\n",
       "    </script>\n",
       "    <a href=\"javascript:code_toggle()\">Toggle Code</a>."
      ],
      "text/plain": [
       "<IPython.core.display.HTML object>"
      ]
     },
     "execution_count": 4,
     "metadata": {},
     "output_type": "execute_result"
    }
   ],
   "source": [
    "hide_code()"
   ]
  },
  {
   "cell_type": "code",
   "execution_count": 5,
   "metadata": {
    "collapsed": true
   },
   "outputs": [],
   "source": [
    "def transform3(max_val):\n",
    "    return list(range(1, max_val))"
   ]
  },
  {
   "cell_type": "code",
   "execution_count": 6,
   "metadata": {
    "collapsed": true
   },
   "outputs": [],
   "source": [
    "def transform4(min_val):\n",
    "    return list(range(min_val, 16))"
   ]
  },
  {
   "cell_type": "code",
   "execution_count": 7,
   "metadata": {
    "collapsed": false
   },
   "outputs": [],
   "source": [
    "max_shapes_dropdown = widgets.Dropdown(options=list(range(1,16)),value=10)\n",
    "min_shapes_dropdown = widgets.Dropdown(options=list(range(1,16)),value=1)\n",
    "c3 = traitlets.directional_link((max_shapes_dropdown, 'value'), (min_shapes_dropdown, 'options'), transform3)\n",
    "c4 = traitlets.directional_link((min_shapes_dropdown, 'value'), (max_shapes_dropdown, 'options'), transform4)\n",
    "n_seconds_dropdown = widgets.Dropdown(options=list(range(1,3)),value=1)\n",
    "display(HBox([Label('Max Number of Shapes in Game:'),max_shapes_dropdown]))\n",
    "display(HBox([Label('Min Number of Shapes in Game:'),min_shapes_dropdown]))\n",
    "display(HBox([Label('Number of Seconds:'),n_seconds_dropdown]))"
   ]
  },
  {
   "cell_type": "code",
   "execution_count": 8,
   "metadata": {
    "collapsed": true,
    "nbpresent": {
     "id": "ee72cf26-2eb9-4b27-ae2c-58ff6a20a0c8"
    }
   },
   "outputs": [],
   "source": [
    "def game2():\n",
    "    max_n_shapes = max_shapes_dropdown.value\n",
    "    min_n_shapes = min_shapes_dropdown.value\n",
    "    n_seconds = n_seconds_dropdown.value\n",
    "    list_of_shapes = ['o','^','<','>','s']\n",
    "    list_of_colors = ['b', 'g', 'r']\n",
    "    set_of_points = [(x,y) for x in range(2,8) for y in range(2,8)]\n",
    "    \n",
    "    n_shapes = random.randint(min_n_shapes,max_n_shapes)\n",
    "    \n",
    "    shape = random.choice(list_of_shapes)\n",
    "    color = random.choice(list_of_colors)\n",
    "    \n",
    "    indices = random.sample(range(len(set_of_points)), n_shapes)\n",
    "    points = [set_of_points[i] for i in indices]\n",
    "    \n",
    "    x_vals = [point[0] for point in points]\n",
    "    y_vals = [point[1] for point in points]\n",
    "    \n",
    "    return x_vals, y_vals, color, shape"
   ]
  },
  {
   "cell_type": "code",
   "execution_count": 9,
   "metadata": {
    "collapsed": false,
    "nbpresent": {
     "id": "33d4325a-101c-462f-bb6d-b66b462d1c6d"
    }
   },
   "outputs": [],
   "source": [
    "def on_button_clicked(b):    \n",
    "    global x_vals, y_vals, color, shape\n",
    "    x_vals, y_vals, color, shape= game2()\n",
    "    \n",
    "    \n",
    "    plt.xlim([0,10])\n",
    "    plt.ylim([0,10])    \n",
    "    plt.scatter(x_vals, y_vals, s=500, facecolors=color, marker = shape)        \n",
    "    plt.show()\n",
    "    \n",
    "    time.sleep(1)\n",
    "    \n",
    "    clear_output()"
   ]
  },
  {
   "cell_type": "code",
   "execution_count": 10,
   "metadata": {
    "collapsed": false,
    "nbpresent": {
     "id": "d09b3dcd-8c8c-4648-9642-28568210bf01"
    }
   },
   "outputs": [],
   "source": [
    "button = widgets.Button(description = 'Play', height = '100%', width = '100%')\n",
    "display(button)\n",
    "button.on_click(on_button_clicked)"
   ]
  },
  {
   "cell_type": "code",
   "execution_count": 11,
   "metadata": {
    "collapsed": true
   },
   "outputs": [],
   "source": [
    "def transform(max_val):\n",
    "    return list(range(min_shapes_dropdown.value,max_val+1))"
   ]
  },
  {
   "cell_type": "code",
   "execution_count": 12,
   "metadata": {
    "collapsed": true
   },
   "outputs": [],
   "source": [
    "def transform2(min_val):\n",
    "    return list(range(min_val,max_shapes_dropdown.value+1))"
   ]
  },
  {
   "cell_type": "code",
   "execution_count": 13,
   "metadata": {
    "collapsed": false
   },
   "outputs": [],
   "source": [
    "n_shapes_dropdown = widgets.Dropdown(options=list(range(min_shapes_dropdown.value,\n",
    "                                                        max_shapes_dropdown.value+1)),value=1, continuous_update=True)\n",
    "c = traitlets.directional_link((max_shapes_dropdown, 'value'), (n_shapes_dropdown, 'options'), transform)\n",
    "c2 = traitlets.directional_link((min_shapes_dropdown, 'value'), (n_shapes_dropdown, 'options'), transform2)"
   ]
  },
  {
   "cell_type": "code",
   "execution_count": 14,
   "metadata": {
    "collapsed": false
   },
   "outputs": [],
   "source": [
    "display(HBox([Label('How many shapes did you see?:'),n_shapes_dropdown]))"
   ]
  },
  {
   "cell_type": "code",
   "execution_count": 15,
   "metadata": {
    "collapsed": false
   },
   "outputs": [],
   "source": [
    "def on_button_clicked2(b):\n",
    "    clear_output()\n",
    "    n_shapes_user = n_shapes_dropdown.value\n",
    "    if int(n_shapes_user)==len(x_vals):\n",
    "        print('Correct!')\n",
    "\n",
    "    else:\n",
    "        print('False! Your answer was '+str(n_shapes_user)+'. The correct number was '+str(len(x_vals)))\n",
    "        \n",
    "    plt.scatter(x_vals, y_vals, s=500, facecolors=color, marker = shape)  \n",
    "    plt.xlim([0,10])\n",
    "    plt.ylim([0,10])\n",
    "    plt.show()\n",
    "    \n",
    "    global df_table\n",
    "    series = pd.Series([len(x_vals), n_shapes_user, (len(x_vals)==n_shapes_user)*1, shape, color], index = df_table.columns)\n",
    "    df_table = df_table.append(series, ignore_index = True)\n",
    "    print('Cumulative Score: '+str(int(df_table.Correct.sum()))+'/'+str(len(df_table)))"
   ]
  },
  {
   "cell_type": "code",
   "execution_count": 16,
   "metadata": {
    "collapsed": false
   },
   "outputs": [
    {
     "name": "stdout",
     "output_type": "stream",
     "text": [
      "Correct!\n"
     ]
    },
    {
     "data": {
      "image/png": "[encoded data removed]",
      "text/plain": [
       "<matplotlib.figure.Figure at 0x7fecd0c0dba8>"
      ]
     },
     "metadata": {},
     "output_type": "display_data"
    },
    {
     "name": "stdout",
     "output_type": "stream",
     "text": [
      "Cumulative Score: 25/28\n"
     ]
    }
   ],
   "source": [
    "button2 = widgets.Button(description = 'Check')\n",
    "display(button2)\n",
    "button2.on_click(on_button_clicked2)"
   ]
  },
  {
   "cell_type": "code",
   "execution_count": 17,
   "metadata": {
    "collapsed": false
   },
   "outputs": [
    {
     "data": {
      "text/html": [
       "<div>\n",
       "<table border=\"1\" class=\"dataframe\">\n",
       "  <thead>\n",
       "    <tr style=\"text-align: right;\">\n",
       "      <th></th>\n",
       "      <th>N_shapes</th>\n",
       "      <th>N_guess</th>\n",
       "      <th>Correct</th>\n",
       "      <th>Shape</th>\n",
       "      <th>Color</th>\n",
       "    </tr>\n",
       "  </thead>\n",
       "  <tbody>\n",
       "  </tbody>\n",
       "</table>\n",
       "</div>"
      ],
      "text/plain": [
       "Empty DataFrame\n",
       "Columns: [N_shapes, N_guess, Correct, Shape, Color]\n",
       "Index: []"
      ]
     },
     "execution_count": 17,
     "metadata": {},
     "output_type": "execute_result"
    }
   ],
   "source": [
    "df_table"
   ]
  }
 ],
 "metadata": {
  "anaconda-cloud": {},
  "kernelspec": {
   "display_name": "Python [default]",
   "language": "python",
   "name": "python3"
  },
  "language_info": {
   "codemirror_mode": {
    "name": "ipython",
    "version": 3
   },
   "file_extension": ".py",
   "mimetype": "text/x-python",
   "name": "python",
   "nbconvert_exporter": "python",
   "pygments_lexer": "ipython3",
   "version": "3.5.2"
  },
  "nbpresent": {
   "slides": {},
   "themes": {}
  },
  "widgets": {
   "state": {
    "2f6be1ed3df64324b730564055189b8d": {
     "views": [
      {
       "cell_index": 6
      }
     ]
    },
    "5c7e0791bc0c4df88f1bb89b36185992": {
     "views": [
      {
       "cell_index": 15
      }
     ]
    },
    "888e1cbf43394a35803e7326998ee1e7": {
     "views": [
      {
       "cell_index": 9
      }
     ]
    },
    "966de3b70c0740649a362a57dfda6247": {
     "views": [
      {
       "cell_index": 6
      }
     ]
    },
    "b373f3fc51ba424d906a0f7202fd354c": {
     "views": [
      {
       "cell_index": 13
      }
     ]
    },
    "cb9a9561c9e44c44aee6237397d6164c": {
     "views": [
      {
       "cell_index": 6
      }
     ]
    }
   },
   "version": "1.2.0"
  }
 },
 "nbformat": 4,
 "nbformat_minor": 1
}
