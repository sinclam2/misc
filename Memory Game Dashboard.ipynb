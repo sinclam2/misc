{
 "cells": [
  {
   "cell_type": "code",
   "execution_count": 1,
   "metadata": {
    "collapsed": false,
    "nbpresent": {
     "id": "c1a6d2f6-61ae-440a-bed9-b91361760d6c"
    }
   },
   "outputs": [
    {
     "name": "stderr",
     "output_type": "stream",
     "text": [
      "/usr/local/anaconda3/lib/python3.5/site-packages/matplotlib/font_manager.py:273: UserWarning: Matplotlib is building the font cache using fc-list. This may take a moment.\n",
      "  warnings.warn('Matplotlib is building the font cache using fc-list. This may take a moment.')\n",
      "/usr/local/anaconda3/lib/python3.5/site-packages/matplotlib/font_manager.py:273: UserWarning: Matplotlib is building the font cache using fc-list. This may take a moment.\n",
      "  warnings.warn('Matplotlib is building the font cache using fc-list. This may take a moment.')\n"
     ]
    }
   ],
   "source": [
    "import matplotlib.pyplot as plt\n",
    "%matplotlib inline\n",
    "plt.rcParams[\"figure.figsize\"] = [7,7]\n",
    "import time\n",
    "from IPython.display import clear_output\n",
    "from ipywidgets import widgets\n",
    "from IPython.display import display\n",
    "import random\n",
    "from ipywidgets import HBox, Label\n",
    "from IPython.display import HTML"
   ]
  },
  {
   "cell_type": "code",
   "execution_count": 2,
   "metadata": {
    "collapsed": true
   },
   "outputs": [],
   "source": [
    "def hide_code():\n",
    "    return HTML('''<script>\n",
    "    code_show=true; \n",
    "    function code_toggle() {\n",
    "     if (code_show){\n",
    "     $(\"div.input\").hide();\n",
    "     } else {\n",
    "     $(\"div.input\").show();\n",
    "     }\n",
    "     code_show = !code_show\n",
    "    } \n",
    "    $( document ).ready(code_toggle);\n",
    "    </script>\n",
    "    The raw code for this IPython notebook is by default hidden for easier reading.\n",
    "    To toggle on/off the raw code, click <a href=\"javascript:code_toggle()\">here</a>.''')"
   ]
  },
  {
   "cell_type": "code",
   "execution_count": 3,
   "metadata": {
    "collapsed": false
   },
   "outputs": [
    {
     "data": {
      "text/html": [
       "<script>\n",
       "    code_show=true; \n",
       "    function code_toggle() {\n",
       "     if (code_show){\n",
       "     $(\"div.input\").hide();\n",
       "     } else {\n",
       "     $(\"div.input\").show();\n",
       "     }\n",
       "     code_show = !code_show\n",
       "    } \n",
       "    $( document ).ready(code_toggle);\n",
       "    </script>\n",
       "    The raw code for this IPython notebook is by default hidden for easier reading.\n",
       "    To toggle on/off the raw code, click <a href=\"javascript:code_toggle()\">here</a>."
      ],
      "text/plain": [
       "<IPython.core.display.HTML object>"
      ]
     },
     "execution_count": 3,
     "metadata": {},
     "output_type": "execute_result"
    }
   ],
   "source": [
    "hide_code()"
   ]
  },
  {
   "cell_type": "code",
   "execution_count": 4,
   "metadata": {
    "collapsed": false
   },
   "outputs": [],
   "source": [
    "max_shapes_dropdown = widgets.Dropdown(options=list(range(1,16)),value=10)\n",
    "min_shapes_dropdown = widgets.Dropdown(options=list(range(1,16)),value=1)\n",
    "n_seconds_dropdown = widgets.Dropdown(options=list(range(1,3)),value=1)\n",
    "display(HBox([Label('Max Number of Shapes in Game:'),max_shapes_dropdown]))\n",
    "display(HBox([Label('Min Number of Shapes in Game:'),min_shapes_dropdown]))\n",
    "display(HBox([Label('Number of Seconds:'),n_seconds_dropdown]))"
   ]
  },
  {
   "cell_type": "code",
   "execution_count": 5,
   "metadata": {
    "collapsed": true,
    "nbpresent": {
     "id": "ee72cf26-2eb9-4b27-ae2c-58ff6a20a0c8"
    }
   },
   "outputs": [],
   "source": [
    "def game2():\n",
    "    max_n_shapes = max_shapes_dropdown.value\n",
    "    min_n_shapes = min_shapes_dropdown.value\n",
    "    n_seconds = n_seconds_dropdown.value\n",
    "    list_of_shapes = ['o','^','<','>','s']\n",
    "    list_of_colors = ['b', 'g', 'r']\n",
    "    set_of_points = [(x,y) for x in range(2,8) for y in range(2,8)]\n",
    "    \n",
    "    n_shapes = random.randint(min_n_shapes,max_n_shapes+1)\n",
    "    \n",
    "    shape = random.choice(list_of_shapes)\n",
    "    color = random.choice(list_of_colors)\n",
    "    \n",
    "    indices = random.sample(range(len(set_of_points)), n_shapes)\n",
    "    points = [set_of_points[i] for i in indices]\n",
    "    \n",
    "    x_vals = [point[0] for point in points]\n",
    "    y_vals = [point[1] for point in points]\n",
    "    \n",
    "    return x_vals, y_vals, color, shape"
   ]
  },
  {
   "cell_type": "code",
   "execution_count": 6,
   "metadata": {
    "collapsed": false,
    "nbpresent": {
     "id": "33d4325a-101c-462f-bb6d-b66b462d1c6d"
    }
   },
   "outputs": [],
   "source": [
    "def on_button_clicked(b):    \n",
    "    global x_vals, y_vals, color, shape\n",
    "    x_vals, y_vals, color, shape= game2()\n",
    "    \n",
    "    \n",
    "    plt.xlim([0,10])\n",
    "    plt.ylim([0,10])    \n",
    "    plt.scatter(x_vals, y_vals, s=500, facecolors=color, marker = shape)        \n",
    "    plt.show()\n",
    "    \n",
    "    time.sleep(1)\n",
    "    \n",
    "    clear_output()"
   ]
  },
  {
   "cell_type": "code",
   "execution_count": 7,
   "metadata": {
    "collapsed": false,
    "nbpresent": {
     "id": "d09b3dcd-8c8c-4648-9642-28568210bf01"
    }
   },
   "outputs": [],
   "source": [
    "button = widgets.Button(description = 'Run')\n",
    "display(button)\n",
    "button.on_click(on_button_clicked)"
   ]
  },
  {
   "cell_type": "code",
   "execution_count": 8,
   "metadata": {
    "collapsed": false
   },
   "outputs": [],
   "source": [
    "n_shapes_dropdown = widgets.Dropdown(options=list(range(1,max_shapes_dropdown.value+1)),value=1)\n",
    "display(HBox([Label('How many shapes did you see?:'),n_shapes_dropdown]))"
   ]
  },
  {
   "cell_type": "code",
   "execution_count": 9,
   "metadata": {
    "collapsed": false
   },
   "outputs": [],
   "source": [
    "def on_button_clicked2(b):\n",
    "    clear_output()\n",
    "    n_shapes_user = n_shapes_dropdown.value\n",
    "    if int(n_shapes_user)==len(x_vals):\n",
    "        print('Correct!')\n",
    "\n",
    "    else:\n",
    "        print('False! Your answer was '+str(n_shapes_user)+'. The correct number was '+str(len(x_vals)))\n",
    "        \n",
    "    plt.scatter(x_vals, y_vals, s=500, facecolors=color, marker = shape)  \n",
    "    plt.xlim([0,10])\n",
    "    plt.ylim([0,10])\n",
    "    plt.show()"
   ]
  },
  {
   "cell_type": "code",
   "execution_count": 10,
   "metadata": {
    "collapsed": false
   },
   "outputs": [
    {
     "name": "stdout",
     "output_type": "stream",
     "text": [
      "Correct!\n"
     ]
    },
    {
     "data": {
      "image/png": "[encoded data removed]",
      "text/plain": [
       "<matplotlib.figure.Figure at 0x7f16bc0872e8>"
      ]
     },
     "metadata": {},
     "output_type": "display_data"
    }
   ],
   "source": [
    "button2 = widgets.Button(description = 'Check')\n",
    "display(button2)\n",
    "button2.on_click(on_button_clicked2)"
   ]
  }
 ],
 "metadata": {
  "anaconda-cloud": {},
  "kernelspec": {
   "display_name": "Python [default]",
   "language": "python",
   "name": "python3"
  },
  "language_info": {
   "codemirror_mode": {
    "name": "ipython",
    "version": 3
   },
   "file_extension": ".py",
   "mimetype": "text/x-python",
   "name": "python",
   "nbconvert_exporter": "python",
   "pygments_lexer": "ipython3",
   "version": "3.5.2"
  },
  "nbpresent": {
   "slides": {},
   "themes": {}
  },
  "widgets": {
   "state": {
    "242b83a6b5934e77b6b404addcf80ac5": {
     "views": [
      {
       "cell_index": 3
      }
     ]
    },
    "5ecafbc161ae4162ab406379ffe89675": {
     "views": [
      {
       "cell_index": 6
      }
     ]
    },
    "7084a1919c34475aae55a80b1ff79bed": {
     "views": [
      {
       "cell_index": 3
      }
     ]
    },
    "ad99be68398841cb897ed37dde868f5d": {
     "views": [
      {
       "cell_index": 9
      }
     ]
    },
    "c23d1cbdc69c492e8b92052b61efb193": {
     "views": [
      {
       "cell_index": 7
      }
     ]
    },
    "fd4835eba2fa42c9b7e4ab6080751a6b": {
     "views": [
      {
       "cell_index": 3
      }
     ]
    }
   },
   "version": "1.2.0"
  }
 },
 "nbformat": 4,
 "nbformat_minor": 1
}
