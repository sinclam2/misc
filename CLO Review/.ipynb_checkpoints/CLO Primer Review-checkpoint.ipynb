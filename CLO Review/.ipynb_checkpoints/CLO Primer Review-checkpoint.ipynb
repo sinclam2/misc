{
 "cells": [
  {
   "cell_type": "markdown",
   "metadata": {},
   "source": [
    "# Intro\n",
    "\n",
    "**Middle Market Loan**\n",
    "\n",
    "- Typically defined as:\n",
    "    - Loan of less than 500m\n",
    "    - Loan made to a business with EBITDA < 50m"
   ]
  },
  {
   "cell_type": "markdown",
   "metadata": {},
   "source": [
    "**Collateralized Loan Obligation (CLO)**\n",
    "\n",
    "- A pool of loans organized by maturity and risk"
   ]
  },
  {
   "cell_type": "markdown",
   "metadata": {},
   "source": [
    "**MM CLO**\n",
    "- A floating-rate CLO containing MM loans"
   ]
  },
  {
   "cell_type": "markdown",
   "metadata": {},
   "source": [
    "**MM Loans vs. Normal Corporate Loans**\n",
    "\n",
    "- Lower avg. default rate\n",
    "- Higher cum. returns\n",
    "- Higher recovery rates"
   ]
  },
  {
   "cell_type": "markdown",
   "metadata": {},
   "source": [
    "**Types of MM CLOs**\n",
    "\n",
    "1. Financing CLOs\n",
    "    - Issued by specialty finance companies\n",
    "    - Usually the same company that originated the loan\n",
    "    - *Reason for issuing CLO*: they're trying to get the loans off their balance sheet\n",
    "2. Arbitrage CLOs\n",
    "    - Issued by asset managers\n",
    "    - Don't originate the loans\n",
    "        - Bought from the specialty finance company that originated the loan, or bough on the secondary market\n",
    "    - *Reason for issuing CLO*: they're trying to make money"
   ]
  },
  {
   "cell_type": "markdown",
   "metadata": {},
   "source": [
    "___\n",
    "\n",
    "# Product Overview\n",
    "\n",
    "- Arbitrage CLOs are usually composed of a mix of larger MM loans, and broadly syndicated loans (BSLs)\n",
    "    - **Broadly Syndicated Loans**: when a group of investors all pitch in to make a large loan\n",
    "    \n",
    "- To create the CLO, loans are sold to a trust that makes a separate entity called a special purpose vehicle (SPV)\n",
    "- The trust issues notes that entitle the investor to the payments received from the loans\n",
    "    - The notes that are issued aren't all the same - some are more risky (hence return more) while others are less risky, but have higher priority\n",
    "        - These different notes are called tranches\n",
    "        \n",
    "**Waterfall**\n",
    "\n",
    "- The process followed to assign payments to noteholders"
   ]
  },
  {
   "cell_type": "markdown",
   "metadata": {},
   "source": [
    "- Since the highest tranche, called the senior tranche, has first priority (and lower risk), it receives a lower coupon\n",
    "- Next, the mezzanine tranche are paid\n",
    "- Finally, the most junior tranche is paid\n",
    "    - This tranche is usually structured as princpal-only\n",
    "        - This means that the tranche doesn't receive a slice of interest payments from the loans, only principal repayments\n",
    "        \n",
    "*But what if there's extra cash coming in? What if all the tranches are paid?*\n",
    "\n",
    "- The remaining cash flows to the **resodual certificates**\n",
    "- The issuer of the CLO notes usually keeps the junior tranche and residual certificates for themselves\n",
    "    - These two combined make up the **equity tranche**"
   ]
  },
  {
   "cell_type": "markdown",
   "metadata": {},
   "source": [
    "- Most MM CLOs have 5-7 tranches\n",
    "    - The most senior tranches will have a rating of AAA\n",
    "    \n",
    "![](images/exhibit_1.PNG)"
   ]
  },
  {
   "cell_type": "markdown",
   "metadata": {},
   "source": [
    "# Market Overview\n",
    "\n",
    "*Why did demand for MM CLOs increase in the lead up to the recession?*\n",
    "\n",
    "- During this period, interest rates were low and investors were looking for yield\n",
    "- People started to get more familiar with structured products, and issuers got more sophisticated issuing notes collateralized by a wider variety of assets\n",
    "- Soon, as demand for structured products increased, credit spreads tightened\n",
    "    - This means that since more people were looking to buy the notes, issuers didn't need to offer as big of a coupon to entice them\n",
    "- As spreads tightened on other products, MM CLOs looked more appealing (since they offered higher returns)"
   ]
  },
  {
   "cell_type": "markdown",
   "metadata": {},
   "source": [
    "*Why were credit spreads wider for MM CLO notes (vs. subprime auto, BSL CLOs, etc.)?*\n",
    "\n",
    "- Lack of investor familiarity in MM loan collateral\n",
    "- Less liquidity in the secondary market\n",
    "- Counterparty risk concerns with the specialty finance companies\n",
    "    - E.g. If the company that issued the loans defaulted, what would happen to the notes?"
   ]
  },
  {
   "cell_type": "markdown",
   "metadata": {},
   "source": [
    "*Why did CLO issuance dry up during the recession?*\n",
    "\n",
    "- Naturally, as the economy tanked, companies struggled to keep up with loan payments\n",
    "    - This caused CLO noteholders to receive lower returns\n",
    "- Since so many investors (that normally would buy CLO notes) got burned on other structured products (CMBS, RMBS, etc.), they couldn't buy new CLO notes"
   ]
  },
  {
   "cell_type": "markdown",
   "metadata": {},
   "source": [
    "- As the market recovered, many CLOs cured collateral performance triggers (i.e. got back on track)\n",
    "    - In general, MM CLOs performed pretty well through the recession\n",
    "    - The strucutral protections embedded in the CLO structure worked as designed"
   ]
  },
  {
   "cell_type": "markdown",
   "metadata": {},
   "source": [
    "*Why would an investor want a floating-rate note?*\n",
    "\n",
    "- Consider the scenario where inflation goes up\n",
    "    - The relative value of a fixed coupon goes down, while the relative value of a floating coupon will stay roughly the same\n",
    "- Therefore, floating rate notes reduce interest rate risk"
   ]
  },
  {
   "cell_type": "markdown",
   "metadata": {},
   "source": [
    "___\n",
    "\n",
    "# The Collateral"
   ]
  },
  {
   "cell_type": "markdown",
   "metadata": {},
   "source": [
    "*Why can't MM firms get a regular loan?*\n",
    "\n",
    "- They're too big to get regular small business loans\n",
    "- They're too small to have the same access to capital markets as normal corporations"
   ]
  },
  {
   "cell_type": "markdown",
   "metadata": {},
   "source": [
    "- Middle market loans can be divided into sponsored and non-sponsored loans"
   ]
  },
  {
   "cell_type": "markdown",
   "metadata": {},
   "source": [
    "**Non-sponsored loans**\n",
    "\n",
    "- Essentially relationship lending by regional banks\n",
    "    - Company Y goes to their local bank, talks to the team they've worked with in the past, and gets a new loan\n",
    "- Usually, these loans are revolving, and are used to fund capex"
   ]
  },
  {
   "cell_type": "markdown",
   "metadata": {},
   "source": [
    "**Sponsored loans**\n",
    "\n",
    "- Loans originated by a group of investors, including specialty finance companies"
   ]
  }
 ],
 "metadata": {
  "kernelspec": {
   "display_name": "Python 3",
   "language": "python",
   "name": "python3"
  },
  "language_info": {
   "codemirror_mode": {
    "name": "ipython",
    "version": 3
   },
   "file_extension": ".py",
   "mimetype": "text/x-python",
   "name": "python",
   "nbconvert_exporter": "python",
   "pygments_lexer": "ipython3",
   "version": "3.6.8"
  }
 },
 "nbformat": 4,
 "nbformat_minor": 2
}
