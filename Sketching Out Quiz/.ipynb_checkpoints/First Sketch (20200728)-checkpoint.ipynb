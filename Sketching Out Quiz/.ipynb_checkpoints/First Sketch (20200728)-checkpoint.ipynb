{
 "cells": [
  {
   "cell_type": "markdown",
   "metadata": {},
   "source": [
    "Working off of https://levelup.gitconnected.com/deploy-simple-and-instant-online-quizzes-with-jupyter-notebook-tools-5e10f37da531"
   ]
  },
  {
   "cell_type": "code",
   "execution_count": 1,
   "metadata": {},
   "outputs": [],
   "source": [
    "from ipywidgets import widgets, Layout, Box, GridspecLayout"
   ]
  },
  {
   "cell_type": "code",
   "execution_count": 10,
   "metadata": {},
   "outputs": [],
   "source": [
    "def create_multipleChoice_widget(description, options, correct_answer, img_filepath = None):\n",
    "    if correct_answer not in options:\n",
    "        options.append(correct_answer)\n",
    "    \n",
    "    correct_answer_index = options.index(correct_answer)\n",
    "    \n",
    "    radio_options = [(words, i) for i, words in enumerate(options)]\n",
    "    \n",
    "    alternativ = widgets.RadioButtons(\n",
    "        options = radio_options,\n",
    "        description = '',\n",
    "        disabled = False,\n",
    "        indent = False,\n",
    "        align = 'center',\n",
    "    )\n",
    "    \n",
    "    description_out = widgets.Output(layout=Layout(width='auto'))\n",
    "    \n",
    "    if img_filepath:\n",
    "        image = open(img_filepath, 'rb').read()\n",
    "        image_out = widgets.Image(value=image, \n",
    "                                  format='png', \n",
    "                                  width='500px', \n",
    "                                  height='auto',\n",
    "                                 )\n",
    "    \n",
    "    with description_out:\n",
    "        print(description)\n",
    "        \n",
    "    feedback_out = widgets.Output()\n",
    "\n",
    "    def check_selection(b):\n",
    "        a = int(alternativ.value)\n",
    "        if a==correct_answer_index:\n",
    "            s = '\\x1b[6;30;42m' + \"correct\" + '\\x1b[0m' +\"\\n\"\n",
    "        else:\n",
    "            s = '\\x1b[5;30;41m' + \"try again\" + '\\x1b[0m' +\"\\n\"\n",
    "        with feedback_out:\n",
    "            feedback_out.clear_output()\n",
    "            print(s)\n",
    "        return\n",
    "    \n",
    "    check = widgets.Button(description=\"check\")\n",
    "    check.on_click(check_selection)\n",
    "    \n",
    "    if img_filepath:\n",
    "            return widgets.VBox([description_out, \n",
    "                         image_out,\n",
    "                         alternativ, \n",
    "                         widgets.HBox([check]), feedback_out], \n",
    "                        layout=Layout(display='flex',\n",
    "                                     flex_flow='column',\n",
    "                                     align_items='stretch',\n",
    "                                     width='auto')) \n",
    "    \n",
    "    return widgets.VBox([description_out, \n",
    "                         alternativ, \n",
    "                         widgets.HBox([check]), feedback_out], \n",
    "                        layout=Layout(display='flex',\n",
    "                                     flex_flow='column',\n",
    "                                     align_items='stretch',\n",
    "                                     width='auto')) "
   ]
  },
  {
   "cell_type": "code",
   "execution_count": 11,
   "metadata": {},
   "outputs": [
    {
     "data": {
      "application/vnd.jupyter.widget-view+json": {
       "model_id": "960b411260a2434db15ee572d0c45a47",
       "version_major": 2,
       "version_minor": 0
      },
      "text/plain": [
       "VBox(children=(Output(layout=Layout(width='auto')), RadioButtons(options=(('a', 0), ('b', 1)), value=0), HBox(…"
      ]
     },
     "metadata": {},
     "output_type": "display_data"
    }
   ],
   "source": [
    "create_multipleChoice_widget(\"a or b\", ['a','b'], 'b')"
   ]
  },
  {
   "cell_type": "code",
   "execution_count": 12,
   "metadata": {},
   "outputs": [
    {
     "data": {
      "application/vnd.jupyter.widget-view+json": {
       "model_id": "33d8b8a19c674508b33df88d49bd7083",
       "version_major": 2,
       "version_minor": 0
      },
      "text/plain": [
       "VBox(children=(Output(layout=Layout(width='auto')), Image(value=b'\\x89PNG\\r\\n\\x1a\\n\\x00\\x00\\x00\\rIHDR\\x00\\x00\\…"
      ]
     },
     "metadata": {},
     "output_type": "display_data"
    }
   ],
   "source": [
    "create_multipleChoice_widget(\"a or b\", ['a','b'], 'b', 'test.png')"
   ]
  },
  {
   "cell_type": "markdown",
   "metadata": {},
   "source": [
    "- Alright, seems to be working\n",
    "    - Next, we need to come up with a way to keep track of results instead of saying \"try again\" vs. \"correct\""
   ]
  },
  {
   "cell_type": "markdown",
   "metadata": {},
   "source": [
    "- We can define a global variable to do this\n",
    "    - Also need to delete check button after it's answered"
   ]
  },
  {
   "cell_type": "code",
   "execution_count": 41,
   "metadata": {},
   "outputs": [],
   "source": [
    "quiz_results = []\n",
    "\n",
    "def create_multipleChoice_widget(description, options, correct_answer, img_filepath = None):\n",
    "    if correct_answer not in options:\n",
    "        options.append(correct_answer)\n",
    "    \n",
    "    correct_answer_index = options.index(correct_answer)\n",
    "    \n",
    "    alphabet = 'abcdefghijklmnopqrstuvwxyz'\n",
    "    options_w_letters = [f'{alphabet[i]}) {option}' for i, option in enumerate(options)]\n",
    "    \n",
    "    radio_options = [(words, i) for i, words in enumerate(options_w_letters)]\n",
    "    \n",
    "    alternativ = widgets.RadioButtons(\n",
    "        options = radio_options,\n",
    "        description = '',\n",
    "        disabled = False,\n",
    "        indent = False,\n",
    "        align = 'center',\n",
    "    )\n",
    "    \n",
    "    description_out = widgets.Output(layout=Layout(width='auto'))\n",
    "    \n",
    "    if img_filepath:\n",
    "        image = open(img_filepath, 'rb').read()\n",
    "        image_out = widgets.Image(value=image, \n",
    "                                  format='png', \n",
    "                                  width='500px', \n",
    "                                  height='auto',\n",
    "                                 )\n",
    "    \n",
    "    with description_out:\n",
    "        print(description)\n",
    "        \n",
    "    feedback_out = widgets.Output()\n",
    "\n",
    "    def check_selection(b):\n",
    "        a = int(alternativ.value)\n",
    "        if a==correct_answer_index:\n",
    "            s = '\\x1b[6;30;42m' + \"correct\" + '\\x1b[0m' +\"\\n\"\n",
    "        else:\n",
    "            correct_answer_letter = alphabet[correct_answer_index]\n",
    "            s = '\\x1b[5;30;41m' + f\"incorrect, the correct answer was {correct_answer_letter}\" + '\\x1b[0m' +\"\\n\"\n",
    "        with feedback_out:\n",
    "            print(s)\n",
    "            global quiz_results\n",
    "            tuple_results = (s, a==correct_answer_index)\n",
    "            quiz_results.append(tuple_results)\n",
    "            alternativ.close()\n",
    "            check.layout.display = 'none'\n",
    "        return\n",
    "    \n",
    "    check = widgets.Button(description=\"check\")\n",
    "    check.on_click(check_selection)\n",
    "    \n",
    "    check_out = widgets.HBox([check])\n",
    "    \n",
    "    if img_filepath:\n",
    "            return widgets.VBox([description_out, \n",
    "                         image_out,\n",
    "                         alternativ, \n",
    "                         widgets.HBox([check]), feedback_out], \n",
    "                        layout=Layout(display='flex',\n",
    "                                     flex_flow='column',\n",
    "                                     align_items='stretch',\n",
    "                                     width='auto')) \n",
    "    \n",
    "    return widgets.VBox([description_out, \n",
    "                         alternativ, \n",
    "                         check_out, \n",
    "                         feedback_out], \n",
    "                        layout=Layout(\n",
    "                            display='flex',\n",
    "                            flex_flow='column',\n",
    "                            align_items='stretch',\n",
    "                            width='auto')) "
   ]
  },
  {
   "cell_type": "code",
   "execution_count": 42,
   "metadata": {},
   "outputs": [
    {
     "data": {
      "application/vnd.jupyter.widget-view+json": {
       "model_id": "e0d641252004444cbed0b7827079af2a",
       "version_major": 2,
       "version_minor": 0
      },
      "text/plain": [
       "VBox(children=(Output(layout=Layout(width='auto')), Image(value=b'\\x89PNG\\r\\n\\x1a\\n\\x00\\x00\\x00\\rIHDR\\x00\\x00\\…"
      ]
     },
     "metadata": {},
     "output_type": "display_data"
    }
   ],
   "source": [
    "create_multipleChoice_widget(\"a or b\", ['a','b'], 'b', 'test.png')"
   ]
  },
  {
   "cell_type": "markdown",
   "metadata": {},
   "source": [
    "- Alright, looks like we got the essential parts\n",
    "    - We'll start a new version in the next notebook"
   ]
  }
 ],
 "metadata": {
  "kernelspec": {
   "display_name": "Python 3",
   "language": "python",
   "name": "python3"
  },
  "language_info": {
   "codemirror_mode": {
    "name": "ipython",
    "version": 3
   },
   "file_extension": ".py",
   "mimetype": "text/x-python",
   "name": "python",
   "nbconvert_exporter": "python",
   "pygments_lexer": "ipython3",
   "version": "3.6.8"
  }
 },
 "nbformat": 4,
 "nbformat_minor": 2
}
