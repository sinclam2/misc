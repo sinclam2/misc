{
 "cells": [
  {
   "cell_type": "markdown",
   "metadata": {},
   "source": [
    "# What do we want?\n",
    "\n",
    "1. To create a CSV of questions\n",
    "    - Each question will have a subject\n",
    "    - There will be a folder called `images` to hold any pictures related to the question\n",
    "2. We want to be able to keep track of some data points about each quiz\n",
    "3. We want to have an email sent to us each day with a link to a page\n",
    "    - On the page, we'll answer the questions\n",
    "    - Once done, the quiz results will be saved and persisted"
   ]
  },
  {
   "cell_type": "markdown",
   "metadata": {},
   "source": [
    "# Step 1: Creating questions\n",
    "\n",
    "- This will be easy\n",
    "    - Will do it in Excel and save to folder"
   ]
  },
  {
   "cell_type": "code",
   "execution_count": 1,
   "metadata": {},
   "outputs": [],
   "source": [
    "import pandas as pd"
   ]
  },
  {
   "cell_type": "code",
   "execution_count": 15,
   "metadata": {},
   "outputs": [],
   "source": [
    "df_test_questions = pd.read_csv('test_quiz.csv')"
   ]
  },
  {
   "cell_type": "code",
   "execution_count": 16,
   "metadata": {},
   "outputs": [
    {
     "data": {
      "text/html": [
       "<div>\n",
       "<style scoped>\n",
       "    .dataframe tbody tr th:only-of-type {\n",
       "        vertical-align: middle;\n",
       "    }\n",
       "\n",
       "    .dataframe tbody tr th {\n",
       "        vertical-align: top;\n",
       "    }\n",
       "\n",
       "    .dataframe thead th {\n",
       "        text-align: right;\n",
       "    }\n",
       "</style>\n",
       "<table border=\"1\" class=\"dataframe\">\n",
       "  <thead>\n",
       "    <tr style=\"text-align: right;\">\n",
       "      <th></th>\n",
       "      <th>Category</th>\n",
       "      <th>Question</th>\n",
       "      <th>Options</th>\n",
       "      <th>Correct Answer</th>\n",
       "      <th>Image Filename</th>\n",
       "    </tr>\n",
       "  </thead>\n",
       "  <tbody>\n",
       "    <tr>\n",
       "      <th>0</th>\n",
       "      <td>Math</td>\n",
       "      <td>What is 1 + 1?</td>\n",
       "      <td>1, 2, 3, 4, 5</td>\n",
       "      <td>2</td>\n",
       "      <td>1.png</td>\n",
       "    </tr>\n",
       "    <tr>\n",
       "      <th>1</th>\n",
       "      <td>Math</td>\n",
       "      <td>What is 2+2?</td>\n",
       "      <td>1, 2, 3, 4, 5</td>\n",
       "      <td>4</td>\n",
       "      <td>2.png</td>\n",
       "    </tr>\n",
       "    <tr>\n",
       "      <th>2</th>\n",
       "      <td>Geography</td>\n",
       "      <td>What is the capital of Ontario?</td>\n",
       "      <td>Toronto, Ottawa, Vancouver</td>\n",
       "      <td>Toronto</td>\n",
       "      <td>NaN</td>\n",
       "    </tr>\n",
       "  </tbody>\n",
       "</table>\n",
       "</div>"
      ],
      "text/plain": [
       "    Category                         Question                     Options  \\\n",
       "0       Math                   What is 1 + 1?               1, 2, 3, 4, 5   \n",
       "1       Math                     What is 2+2?               1, 2, 3, 4, 5   \n",
       "2  Geography  What is the capital of Ontario?  Toronto, Ottawa, Vancouver   \n",
       "\n",
       "  Correct Answer Image Filename  \n",
       "0              2          1.png  \n",
       "1              4          2.png  \n",
       "2        Toronto            NaN  "
      ]
     },
     "execution_count": 16,
     "metadata": {},
     "output_type": "execute_result"
    }
   ],
   "source": [
    "df_test_questions"
   ]
  },
  {
   "cell_type": "markdown",
   "metadata": {},
   "source": [
    "# Step 2: Writing function to read in questions from CSV and create question widgets"
   ]
  },
  {
   "cell_type": "markdown",
   "metadata": {},
   "source": [
    "- First, we define our `create_multipleChoice_widget` function"
   ]
  },
  {
   "cell_type": "code",
   "execution_count": 8,
   "metadata": {},
   "outputs": [],
   "source": [
    "from ipywidgets import widgets, Layout, Box"
   ]
  },
  {
   "cell_type": "code",
   "execution_count": 9,
   "metadata": {},
   "outputs": [],
   "source": [
    "def create_multipleChoice_widget(description, options, correct_answer, img_filepath = None):\n",
    "    if correct_answer not in options:\n",
    "        options.append(correct_answer)\n",
    "    \n",
    "    correct_answer_index = options.index(correct_answer)\n",
    "    \n",
    "    alphabet = 'abcdefghijklmnopqrstuvwxyz'\n",
    "    options_w_letters = [f'{alphabet[i]}) {option}' for i, option in enumerate(options)]\n",
    "    \n",
    "    radio_options = [(words, i) for i, words in enumerate(options_w_letters)]\n",
    "    \n",
    "    alternativ = widgets.RadioButtons(\n",
    "        options = radio_options,\n",
    "        description = '',\n",
    "        disabled = False,\n",
    "        indent = False,\n",
    "        align = 'center',\n",
    "    )\n",
    "    \n",
    "    description_out = widgets.Output(layout=Layout(width='auto'))\n",
    "    \n",
    "    if img_filepath:\n",
    "        image = open(img_filepath, 'rb').read()\n",
    "        image_out = widgets.Image(value=image, \n",
    "                                  format='png', \n",
    "                                  width='500px', \n",
    "                                  height='auto',\n",
    "                                 )\n",
    "    \n",
    "    with description_out:\n",
    "        print(description)\n",
    "        \n",
    "    feedback_out = widgets.Output()\n",
    "\n",
    "    def check_selection(b):\n",
    "        a = int(alternativ.value)\n",
    "        if a==correct_answer_index:\n",
    "            s = '\\x1b[6;30;42m' + \"correct\" + '\\x1b[0m' +\"\\n\"\n",
    "        else:\n",
    "            correct_answer_letter = alphabet[correct_answer_index]\n",
    "            s = '\\x1b[5;30;41m' + f\"incorrect, the correct answer was {correct_answer_letter}\" + '\\x1b[0m' +\"\\n\"\n",
    "        with feedback_out:\n",
    "            print(s)\n",
    "            global quiz_results\n",
    "            tuple_results = (s, a==correct_answer_index)\n",
    "            quiz_results.append(tuple_results)\n",
    "            alternativ.close()\n",
    "            check.layout.display = 'none'\n",
    "        return\n",
    "    \n",
    "    check = widgets.Button(description=\"check\")\n",
    "    check.on_click(check_selection)\n",
    "    \n",
    "    check_out = widgets.HBox([check])\n",
    "    \n",
    "    if img_filepath:\n",
    "            return widgets.VBox([description_out, \n",
    "                         image_out,\n",
    "                         alternativ, \n",
    "                         widgets.HBox([check]), feedback_out], \n",
    "                        layout=Layout(display='flex',\n",
    "                                     flex_flow='column',\n",
    "                                     align_items='stretch',\n",
    "                                     width='auto')) \n",
    "    \n",
    "    return widgets.VBox([description_out, \n",
    "                         alternativ, \n",
    "                         check_out, \n",
    "                         feedback_out], \n",
    "                        layout=Layout(\n",
    "                            display='flex',\n",
    "                            flex_flow='column',\n",
    "                            align_items='stretch',\n",
    "                            width='auto')) "
   ]
  },
  {
   "cell_type": "markdown",
   "metadata": {},
   "source": [
    "- Next, we define a function whose parameter is the CSV of questions"
   ]
  },
  {
   "cell_type": "code",
   "execution_count": 24,
   "metadata": {},
   "outputs": [],
   "source": [
    "def create_questions(df_questions):\n",
    "    list_widgets = []\n",
    "    for question_idx, s_question in df_questions.iterrows():\n",
    "        description = s_question.loc['Question']\n",
    "        options = s_question.loc['Options'].split(',')\n",
    "        correct_answer = s_question.loc['Correct Answer']\n",
    "        image_filename = s_question.loc['Image Filename']\n",
    "        \n",
    "        if '.png' in str(image_filename):\n",
    "            image_filepath = f'images/{image_filename}'\n",
    "        else:\n",
    "            image_filepath = None\n",
    "        \n",
    "        question_widget = create_multipleChoice_widget(description, options, correct_answer)\n",
    "        list_widgets.append(question_widget)\n",
    "    return list_widgets"
   ]
  },
  {
   "cell_type": "code",
   "execution_count": 26,
   "metadata": {},
   "outputs": [],
   "source": [
    "list_widgets = create_questions(df_test_questions)"
   ]
  }
 ],
 "metadata": {
  "kernelspec": {
   "display_name": "Python 3",
   "language": "python",
   "name": "python3"
  },
  "language_info": {
   "codemirror_mode": {
    "name": "ipython",
    "version": 3
   },
   "file_extension": ".py",
   "mimetype": "text/x-python",
   "name": "python",
   "nbconvert_exporter": "python",
   "pygments_lexer": "ipython3",
   "version": "3.6.8"
  }
 },
 "nbformat": 4,
 "nbformat_minor": 2
}
