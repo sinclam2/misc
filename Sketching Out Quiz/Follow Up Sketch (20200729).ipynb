{
 "cells": [
  {
   "cell_type": "markdown",
   "metadata": {},
   "source": [
    "# What do we want?\n",
    "\n",
    "1. To create a CSV of questions\n",
    "    - Each question will have a subject\n",
    "    - There will be a folder called `images` to hold any pictures related to the question\n",
    "2. We want to be able to keep track of some data points about each quiz\n",
    "3. We want to have an email sent to us each day with a link to a page\n",
    "    - On the page, we'll answer the questions\n",
    "    - Once done, the quiz results will be saved and persisted"
   ]
  },
  {
   "cell_type": "markdown",
   "metadata": {},
   "source": [
    "# Step 1: Creating questions\n",
    "\n",
    "- This will be easy\n",
    "    - Will do it in Excel and save to folder"
   ]
  },
  {
   "cell_type": "code",
   "execution_count": 1,
   "metadata": {},
   "outputs": [],
   "source": [
    "from datetime import datetime\n",
    "import pandas as pd\n",
    "import time"
   ]
  },
  {
   "cell_type": "code",
   "execution_count": 2,
   "metadata": {},
   "outputs": [],
   "source": [
    "df_test_questions = pd.read_csv('test_quiz.csv')"
   ]
  },
  {
   "cell_type": "markdown",
   "metadata": {},
   "source": [
    "# Step 2: Writing function to read in questions from CSV and create question widgets"
   ]
  },
  {
   "cell_type": "markdown",
   "metadata": {},
   "source": [
    "- First, we define our `create_multipleChoice_widget` function"
   ]
  },
  {
   "cell_type": "code",
   "execution_count": 3,
   "metadata": {},
   "outputs": [],
   "source": [
    "from ipywidgets import widgets, Layout, Box\n",
    "from IPython.display import display, clear_output"
   ]
  },
  {
   "cell_type": "code",
   "execution_count": 4,
   "metadata": {},
   "outputs": [],
   "source": [
    "def create_multipleChoice_widget(category, description, options, correct_answer, img_filepath = None):\n",
    "    if correct_answer not in options:\n",
    "        options.append(correct_answer)\n",
    "    \n",
    "    correct_answer_index = options.index(correct_answer)\n",
    "    \n",
    "    alphabet = 'abcdefghijklmnopqrstuvwxyz'\n",
    "    options_w_letters = [f'{alphabet[i]}) {option}' for i, option in enumerate(options)]\n",
    "    \n",
    "    radio_options = [(words, i) for i, words in enumerate(options_w_letters)]\n",
    "    \n",
    "    alternativ = widgets.RadioButtons(\n",
    "        options = radio_options,\n",
    "        description = '',\n",
    "        disabled = False,\n",
    "        indent = False,\n",
    "        align = 'center',\n",
    "    )\n",
    "    \n",
    "    description_out = widgets.Output(layout=Layout(width='auto'))\n",
    "    \n",
    "    if img_filepath:\n",
    "        image = open(img_filepath, 'rb').read()\n",
    "        image_out = widgets.Image(value=image, \n",
    "                                  format='png', \n",
    "                                  width='200px', \n",
    "                                  height='auto',\n",
    "                                 )\n",
    "    \n",
    "    with description_out:\n",
    "        print(description)\n",
    "        \n",
    "    feedback_out = widgets.Output()\n",
    "\n",
    "    def check_selection(b):\n",
    "        a = int(alternativ.value)\n",
    "        flag = a==correct_answer_index\n",
    "        if flag:\n",
    "            s = '\\x1b[6;30;42m' + \"correct\" + '\\x1b[0m' +\"\\n\"\n",
    "        else:\n",
    "            correct_answer_letter = alphabet[correct_answer_index]\n",
    "            s = '\\x1b[5;30;41m' + f\"incorrect, the correct answer was {correct_answer_letter}\" + '\\x1b[0m' +\"\\n\"\n",
    "        with feedback_out:\n",
    "            global n_questions_answered\n",
    "            n_questions_answered += 1\n",
    "            print(s)\n",
    "            s_results = pd.Series({'Category':category, \n",
    "                                   'Question':description, \n",
    "                                   'Correct Answer':correct_answer, \n",
    "                                   'Submitted Answer':options[a], \n",
    "                                   'Score':int(flag)})\n",
    "            global quiz_results\n",
    "            quiz_results.append(s_results)\n",
    "            alternativ.close()\n",
    "            check.layout.display = 'none'\n",
    "        return\n",
    "    \n",
    "    check = widgets.Button(description=\"check\")\n",
    "    check.on_click(check_selection)\n",
    "    \n",
    "    check_out = widgets.HBox([check])\n",
    "    \n",
    "    if img_filepath:\n",
    "            return widgets.VBox([description_out, \n",
    "                         image_out,\n",
    "                         alternativ, \n",
    "                         widgets.HBox([check]), feedback_out], \n",
    "                        layout=Layout(display='flex',\n",
    "                                     flex_flow='column',\n",
    "                                     align_items='stretch',\n",
    "                                     width='auto')) \n",
    "    \n",
    "    return widgets.VBox([description_out, \n",
    "                         alternativ, \n",
    "                         check_out, \n",
    "                         feedback_out], \n",
    "                        layout=Layout(\n",
    "                            display='flex',\n",
    "                            flex_flow='column',\n",
    "                            align_items='stretch',\n",
    "                            width='auto')) "
   ]
  },
  {
   "cell_type": "markdown",
   "metadata": {},
   "source": [
    "- Next, we define a function whose parameter is the CSV of questions"
   ]
  },
  {
   "cell_type": "code",
   "execution_count": 5,
   "metadata": {},
   "outputs": [],
   "source": [
    "def create_questions(df_questions):\n",
    "    list_widgets = []\n",
    "    for question_idx, s_question in df_questions.iterrows():\n",
    "        category = s_question.loc['Category']\n",
    "        description = s_question.loc['Question']\n",
    "        options = s_question.loc['Options'].split(', ')\n",
    "        correct_answer = s_question.loc['Correct Answer']\n",
    "        image_filename = s_question.loc['Image Filename']\n",
    "        \n",
    "        if '.png' in str(image_filename):\n",
    "            image_filepath = f'images/{image_filename}'\n",
    "        else:\n",
    "            image_filepath = None\n",
    "        \n",
    "        question_widget = create_multipleChoice_widget(category, description, options, correct_answer, image_filepath)\n",
    "        list_widgets.append(question_widget)\n",
    "    return list_widgets"
   ]
  },
  {
   "cell_type": "code",
   "execution_count": 6,
   "metadata": {},
   "outputs": [],
   "source": [
    "list_widgets = create_questions(df_test_questions)"
   ]
  },
  {
   "cell_type": "markdown",
   "metadata": {},
   "source": [
    "# Step 3: Writing function to create quiz"
   ]
  },
  {
   "cell_type": "code",
   "execution_count": 7,
   "metadata": {},
   "outputs": [],
   "source": [
    "def create_quiz(list_widgets):\n",
    "    quiz_timestamp = datetime.now().strftime('%Y%m%d%M%S')\n",
    "    n_questions = len(list_widgets)\n",
    "    global n_questions_answered\n",
    "    n_questions_answered = 0    \n",
    "    global quiz_results\n",
    "    quiz_results = []\n",
    "    \n",
    "    def on_button_clicked(b):\n",
    "        if n_questions_answered == n_questions:\n",
    "            df_final_results = pd.DataFrame(quiz_results)\n",
    "            df_final_results['quiz'] = quiz_timestamp\n",
    "            time.sleep(2)\n",
    "            clear_output()\n",
    "            final_score = df_final_results['Score'].sum()\n",
    "            final_score_pct = round(100 * (final_score / float(n_questions)), 2)\n",
    "            final_score_message = f'Final Score: {final_score}/{n_questions} ({final_score_pct}%) \\n'\n",
    "            print(final_score_message)\n",
    "            print(df_final_results)\n",
    "    \n",
    "    for widget in list_widgets:\n",
    "        display(widget)\n",
    "        for child in widget.children:\n",
    "            if type(child)==widgets.widget_box.HBox:\n",
    "                child.children[0].on_click(on_button_clicked)"
   ]
  },
  {
   "cell_type": "code",
   "execution_count": 8,
   "metadata": {},
   "outputs": [
    {
     "name": "stdout",
     "output_type": "stream",
     "text": [
      "Final Score: 1/3 (33.33%) \n",
      "\n",
      "    Category                         Question Correct Answer Submitted Answer  \\\n",
      "0       Math                   What is 1 + 1?              2                5   \n",
      "1       Math                     What is 2+2?              4                1   \n",
      "2  Geography  What is the capital of Ontario?        Toronto          Toronto   \n",
      "\n",
      "   Score          quiz  \n",
      "0      0  202007294850  \n",
      "1      0  202007294850  \n",
      "2      1  202007294850  \n"
     ]
    }
   ],
   "source": [
    "create_quiz(list_widgets)"
   ]
  },
  {
   "cell_type": "markdown",
   "metadata": {},
   "source": [
    "# Follow ups"
   ]
  },
  {
   "cell_type": "markdown",
   "metadata": {},
   "source": [
    "- Seems like everything is working\n",
    "    - Now we just need to:\n",
    "        1. Determine ow the questions are selected to create the quiz\n",
    "            - I assume I'll make it be random\n",
    "        2. Figure out how to use `voila` to turn this into a dashboard\n",
    "        3. Create an actual list of questions\n",
    "        4. Write the code to persist `df_final_results` into a massive dataframe\n",
    "        5. Figure out how to automatically send the email"
   ]
  }
 ],
 "metadata": {
  "kernelspec": {
   "display_name": "Python 3",
   "language": "python",
   "name": "python3"
  },
  "language_info": {
   "codemirror_mode": {
    "name": "ipython",
    "version": 3
   },
   "file_extension": ".py",
   "mimetype": "text/x-python",
   "name": "python",
   "nbconvert_exporter": "python",
   "pygments_lexer": "ipython3",
   "version": "3.8.3"
  }
 },
 "nbformat": 4,
 "nbformat_minor": 2
}
