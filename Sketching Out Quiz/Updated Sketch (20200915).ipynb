{
 "cells": [
  {
   "cell_type": "code",
   "execution_count": 1,
   "metadata": {},
   "outputs": [],
   "source": [
    "n_questions_answered = 0\n",
    "test_filename = 'test_quiz.csv'"
   ]
  },
  {
   "cell_type": "code",
   "execution_count": 2,
   "metadata": {},
   "outputs": [],
   "source": [
    "def quiz():\n",
    "    # Adding imports inside function\n",
    "    from datetime import datetime\n",
    "    import pandas as pd\n",
    "    import time\n",
    "    from ipywidgets import widgets, Layout, Box\n",
    "    from IPython.display import display, clear_output\n",
    "    \n",
    "    quiz_timestamp = datetime.now().strftime('%Y%m%d_%H_%M_%S')\n",
    "    \n",
    "    # Importing questions\n",
    "    global test_filename\n",
    "    df_questions = pd.read_csv(test_filename)\n",
    "    n_questions = len(df_questions)\n",
    "\n",
    "    def create_multipleChoice_widget(category, description, options, correct_answer, img_filepath = None):\n",
    "        if correct_answer not in options:\n",
    "            options.append(correct_answer)\n",
    "\n",
    "        correct_answer_index = options.index(correct_answer)\n",
    "\n",
    "        alphabet = 'abcdefghijklmnopqrstuvwxyz'\n",
    "        options_w_letters = [f'{alphabet[i]}) {option}' for i, option in enumerate(options)]\n",
    "\n",
    "        radio_options = [(words, i) for i, words in enumerate(options_w_letters)]\n",
    "\n",
    "        alternativ = widgets.RadioButtons(\n",
    "            options = radio_options,\n",
    "            description = '',\n",
    "            disabled = False,\n",
    "            indent = False,\n",
    "            align = 'center',\n",
    "        )\n",
    "\n",
    "        description_out = widgets.Output(layout=Layout(width='auto'))\n",
    "\n",
    "        if img_filepath:\n",
    "            image = open(img_filepath, 'rb').read()\n",
    "            image_out = widgets.Image(value=image, \n",
    "                                      format='png', \n",
    "                                      width='200px', \n",
    "                                      height='auto',\n",
    "                                     )\n",
    "\n",
    "        with description_out:\n",
    "            print(description)\n",
    "\n",
    "        feedback_out = widgets.Output()\n",
    "\n",
    "        def check_selection(b):\n",
    "            a = int(alternativ.value)\n",
    "            flag = a==correct_answer_index\n",
    "            if flag:\n",
    "                s = '\\x1b[6;30;42m' + \"correct\" + '\\x1b[0m' +\"\\n\"\n",
    "            else:\n",
    "                correct_answer_letter = alphabet[correct_answer_index]\n",
    "                s = '\\x1b[5;30;41m' + f\"incorrect, the correct answer was {correct_answer_letter}) {correct_answer}\" + '\\x1b[0m' +\"\\n\"\n",
    "            with feedback_out:\n",
    "                global n_questions_answered\n",
    "                n_questions_answered += 1\n",
    "                print(s)\n",
    "                s_results = pd.Series({'Category':category, \n",
    "                                       'Question':description, \n",
    "                                       'Correct Answer':correct_answer, \n",
    "                                       'Submitted Answer':options[a], \n",
    "                                       'Score':int(flag)})\n",
    "                quiz_results.append(s_results)\n",
    "                alternativ.close()\n",
    "                check.layout.display = 'none'\n",
    "\n",
    "        check = widgets.Button(description=\"check\")\n",
    "        check.on_click(check_selection)\n",
    "\n",
    "        check_out = widgets.HBox([check])\n",
    "\n",
    "        if img_filepath:\n",
    "                return widgets.VBox([description_out, \n",
    "                             image_out,\n",
    "                             alternativ, \n",
    "                             widgets.HBox([check]), feedback_out], \n",
    "                            layout=Layout(display='flex',\n",
    "                                         flex_flow='column',\n",
    "                                         align_items='stretch',\n",
    "                                         width='auto')) \n",
    "\n",
    "        return widgets.VBox([description_out, \n",
    "                             alternativ, \n",
    "                             check_out, \n",
    "                             feedback_out], \n",
    "                            layout=Layout(\n",
    "                                display='flex',\n",
    "                                flex_flow='column',\n",
    "                                align_items='stretch',\n",
    "                                width='auto')) \n",
    "\n",
    "    def create_questions(df_questions):\n",
    "        list_widgets = []\n",
    "        for question_idx, s_question in df_questions.iterrows():\n",
    "            category = s_question.loc['Category']\n",
    "            description = s_question.loc['Question']\n",
    "            options = s_question.loc['Options'].split(', ')\n",
    "            correct_answer = s_question.loc['Correct Answer']\n",
    "            image_filename = s_question.loc['Image Filename']\n",
    "\n",
    "            if '.png' in str(image_filename):\n",
    "                image_filepath = f'images/{image_filename}'\n",
    "            else:\n",
    "                image_filepath = None\n",
    "\n",
    "            question_widget = create_multipleChoice_widget(category, description, options, correct_answer, image_filepath)\n",
    "            list_widgets.append(question_widget)\n",
    "        return list_widgets\n",
    "\n",
    "    def on_button_clicked(b):\n",
    "        global n_questions_answered\n",
    "        if n_questions_answered == n_questions:\n",
    "            df_final_results = pd.DataFrame(quiz_results)\n",
    "            final_score = df_final_results['Score'].sum()\n",
    "            final_score_pct = round(100 * (final_score / float(n_questions)), 2)            \n",
    "            final_score_message = f'Final Score: {final_score}/{n_questions} ({final_score_pct}%)'\n",
    "            with final_out:\n",
    "                print(final_score_message)      \n",
    "            filename = f'quiz_{quiz_timestamp}.csv'\n",
    "            filepath = f'quiz_results/{filename}'\n",
    "            df_final_results.to_csv(filepath)           \n",
    "            \n",
    "\n",
    "    list_widgets = create_questions(df_questions)\n",
    "    quiz_results = []    \n",
    "\n",
    "    for widget in list_widgets:\n",
    "        display(widget)\n",
    "        for child in widget.children:\n",
    "            if type(child)==widgets.widget_box.HBox:\n",
    "                child.children[0].on_click(on_button_clicked)\n",
    "    final_out = widgets.Output()\n",
    "    display(final_out)    "
   ]
  },
  {
   "cell_type": "code",
   "execution_count": 3,
   "metadata": {},
   "outputs": [
    {
     "data": {
      "application/vnd.jupyter.widget-view+json": {
       "model_id": "a1caa07131f64659b13212bbd4a96f45",
       "version_major": 2,
       "version_minor": 0
      },
      "text/plain": [
       "VBox(children=(Output(layout=Layout(width='auto')), Image(value=b'\\x89PNG\\r\\n\\x1a\\n\\x00\\x00\\x00\\rIHDR\\x00\\x00\\…"
      ]
     },
     "metadata": {},
     "output_type": "display_data"
    },
    {
     "data": {
      "application/vnd.jupyter.widget-view+json": {
       "model_id": "81948cfb03d84f32b9b4010825ef97b4",
       "version_major": 2,
       "version_minor": 0
      },
      "text/plain": [
       "VBox(children=(Output(layout=Layout(width='auto')), Image(value=b'\\x89PNG\\r\\n\\x1a\\n\\x00\\x00\\x00\\rIHDR\\x00\\x00\\…"
      ]
     },
     "metadata": {},
     "output_type": "display_data"
    },
    {
     "data": {
      "application/vnd.jupyter.widget-view+json": {
       "model_id": "1683a339efba458ab5884835caaa4ea7",
       "version_major": 2,
       "version_minor": 0
      },
      "text/plain": [
       "VBox(children=(Output(layout=Layout(width='auto')), Image(value=b'\\x89PNG\\r\\n\\x1a\\n\\x00\\x00\\x00\\rIHDR\\x00\\x00\\…"
      ]
     },
     "metadata": {},
     "output_type": "display_data"
    },
    {
     "data": {
      "application/vnd.jupyter.widget-view+json": {
       "model_id": "ba24dcde8287486eb55b13156446e07e",
       "version_major": 2,
       "version_minor": 0
      },
      "text/plain": [
       "Output()"
      ]
     },
     "metadata": {},
     "output_type": "display_data"
    }
   ],
   "source": [
    "quiz()"
   ]
  }
 ],
 "metadata": {
  "kernelspec": {
   "display_name": "Python 3",
   "language": "python",
   "name": "python3"
  },
  "language_info": {
   "codemirror_mode": {
    "name": "ipython",
    "version": 3
   },
   "file_extension": ".py",
   "mimetype": "text/x-python",
   "name": "python",
   "nbconvert_exporter": "python",
   "pygments_lexer": "ipython3",
   "version": "3.8.3"
  }
 },
 "nbformat": 4,
 "nbformat_minor": 2
}
