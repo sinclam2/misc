{
 "cells": [
  {
   "cell_type": "code",
   "execution_count": 1,
   "metadata": {},
   "outputs": [],
   "source": [
    "import os"
   ]
  },
  {
   "cell_type": "code",
   "execution_count": 36,
   "metadata": {},
   "outputs": [],
   "source": [
    "def extract_subtitles_cmd(folder, mkv_filename, subtitles_track):\n",
    "    mkv_full_filepath =  '\"' + os.path.join(folder, mkv_filename) + '\"'\n",
    "    srt_filename = '\"' + mkv_filename.replace('.mkv','.srt') + '\"'\n",
    "    str_subtitles_track = str(int(subtitles_track))\n",
    "    cmd = r'mkvextract.exe tracks {} {}:{}'.format(mkv_full_filepath,\n",
    "                                                    str_subtitles_track,\n",
    "                                                    srt_filename)\n",
    "    return cmd"
   ]
  },
  {
   "cell_type": "code",
   "execution_count": 37,
   "metadata": {},
   "outputs": [],
   "source": [
    "folder = 'L:\\Videos\\Movies\\French\\Truffaut, Francois'\n",
    "mkv_filename = 'The 400 Blows (1959).mkv'\n",
    "subtitles_track = 2"
   ]
  },
  {
   "cell_type": "code",
   "execution_count": 38,
   "metadata": {},
   "outputs": [],
   "source": [
    "cmd = extract_subtitles_cmd(folder, mkv_filename, subtitles_track)"
   ]
  },
  {
   "cell_type": "code",
   "execution_count": 43,
   "metadata": {},
   "outputs": [
    {
     "data": {
      "text/plain": [
       "0"
      ]
     },
     "execution_count": 43,
     "metadata": {},
     "output_type": "execute_result"
    }
   ],
   "source": [
    "os.system(cmd)"
   ]
  }
 ],
 "metadata": {
  "kernelspec": {
   "display_name": "Python 3",
   "language": "python",
   "name": "python3"
  },
  "language_info": {
   "codemirror_mode": {
    "name": "ipython",
    "version": 3
   },
   "file_extension": ".py",
   "mimetype": "text/x-python",
   "name": "python",
   "nbconvert_exporter": "python",
   "pygments_lexer": "ipython3",
   "version": "3.6.4"
  }
 },
 "nbformat": 4,
 "nbformat_minor": 2
}
