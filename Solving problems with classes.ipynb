{
 "cells": [
  {
   "cell_type": "markdown",
   "metadata": {},
   "source": [
    "- An object should be a meaningful, closely knit collection of data and code that operates on that data\n",
    "\n",
    "**Class**\n",
    "\n",
    "- a blueprint for constructing a particular package of code and data\n",
    "\n",
    "**Object**\n",
    "\n",
    "- if we use a class to create a variable according to its blueprint, it's called an *object* of that class\n",
    "\n",
    "**Client**\n",
    "\n",
    "- the code outside of the class that creates and uses objects"
   ]
  },
  {
   "cell_type": "code",
   "execution_count": null,
   "metadata": {},
   "outputs": [],
   "source": []
  }
 ],
 "metadata": {
  "kernelspec": {
   "display_name": "Python 3",
   "language": "python",
   "name": "python3"
  },
  "language_info": {
   "codemirror_mode": {
    "name": "ipython",
    "version": 3
   },
   "file_extension": ".py",
   "mimetype": "text/x-python",
   "name": "python",
   "nbconvert_exporter": "python",
   "pygments_lexer": "ipython3",
   "version": "3.6.5"
  }
 },
 "nbformat": 4,
 "nbformat_minor": 2
}
