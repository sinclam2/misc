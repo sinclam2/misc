{
 "cells": [
  {
   "cell_type": "markdown",
   "metadata": {},
   "source": [
    "# What is a yield curve?\n",
    "\n",
    "- A yield curve plots the YTM for the same bond of different maturities\n",
    "    - The most common yield curve compares the three-month, two-year, five-year, and thirty-year US treasuries\n",
    "        - This is used as a benchmark for other debt"
   ]
  },
  {
   "cell_type": "markdown",
   "metadata": {},
   "source": [
    "___\n",
    "\n",
    "# Yield curve shapes\n",
    "\n",
    "- The shape of the yield curve tells us a lot about the market's expectations for future interest rates\n",
    "\n",
    "## 1. Normal yield curve\n",
    "\n",
    "- A yield curve is considered *normal* when the YTM increases with maturity\n",
    "    - **Why is this normal?**\n",
    "        - In periods of economic expansion, having capital tied up in bonds has higher opportunity cost\n",
    "            - Therefore, investors may naturally prefer to invest in shorter term bonds\n",
    "                - This increases demand for short term bonds, thereby driving up their market price, and therefore reducing the YTM\n",
    "                - Similarly, reduced demand for longer term bonds put downward pressure on their market prices, therefore increasing their YTM\n",
    "                    - **Combining these effects leads to the normal yield curve shape**\n",
    "                    \n",
    "![](images/normal-yield-curve.png)"
   ]
  },
  {
   "cell_type": "markdown",
   "metadata": {},
   "source": [
    "## 2. Inverted yield curve\n",
    "\n",
    "- A yield curve is considered *inverted* when short-term YTM values are above long-term values\n",
    "    - **Why does this happen?**\n",
    "        - In periods of economic downturn, investors predict that opportunities in the future will have lower levels of return\n",
    "            - Therefore it's better to lock in long-term rates now\n",
    "                - This reduces demand for short-term bonds (reducing prices, thus increasing short-term YTM) and increases demand for long-term bonds (increasing prices, thus decreasing long-term YTM)\n",
    "                \n",
    "![](images/Invertedyieldcurve_r.gif)"
   ]
  },
  {
   "cell_type": "markdown",
   "metadata": {},
   "source": [
    "## 3. Flat yield curve\n",
    "\n",
    "- A flat yield curve usually occurs when the economy is transitioning from expansion to recession, or vice versa\n",
    "    - i.e. this is the phase in between the normal yield curve and the inverted yield curve\n",
    "        - This means that investors are indifferent between short-term and long-term bonds"
   ]
  },
  {
   "cell_type": "markdown",
   "metadata": {},
   "source": [
    "_____\n",
    "\n",
    "# Building example yield curves"
   ]
  },
  {
   "cell_type": "markdown",
   "metadata": {},
   "source": [
    "## 1. Normal yield curve\n",
    "\n",
    "- For this yield curve, we know that prices for long-term bonds are below short-term bonds\n",
    "\n",
    "- Let's consider a bond with face value 100 and coupon 5% with annual coupons\n",
    "    - **Prices**\n",
    "        - 1 yr: 103\n",
    "        - 2 yr: 102\n",
    "        - 5 yr: 100\n",
    "        - 10 yr: 98\n",
    "        - 30 yr: 95"
   ]
  },
  {
   "cell_type": "code",
   "execution_count": 1,
   "metadata": {},
   "outputs": [],
   "source": [
    "import pandas as pd\n",
    "import numpy as np\n",
    "import matplotlib.pyplot as plt\n",
    "%matplotlib inline"
   ]
  },
  {
   "cell_type": "code",
   "execution_count": 2,
   "metadata": {},
   "outputs": [],
   "source": [
    "plt.rcParams['figure.figsize'] = 10, 10"
   ]
  },
  {
   "cell_type": "code",
   "execution_count": 3,
   "metadata": {},
   "outputs": [],
   "source": [
    "def calculate_YTM(array, price, coupon):\n",
    "    array = array.dropna().values\n",
    "    n = len(array)\n",
    "    \n",
    "    if price == 100:\n",
    "        return coupon\n",
    "    elif price < 100:\n",
    "        increment = 0.0001\n",
    "    else:\n",
    "        increment = -0.0001\n",
    "        \n",
    "    found = False\n",
    "    min_difference = 100\n",
    "    YTM = coupon\n",
    "    \n",
    "    while not found:\n",
    "        YTM += increment\n",
    "        discount_array = 1/((1+YTM)**np.arange(n))\n",
    "        PV = np.sum(array*discount_array)\n",
    "        difference = abs(PV-price)\n",
    "        if difference < min_difference:\n",
    "            min_difference = difference\n",
    "        elif difference > min_difference:\n",
    "            return YTM"
   ]
  },
  {
   "cell_type": "code",
   "execution_count": 4,
   "metadata": {},
   "outputs": [],
   "source": [
    "df = pd.DataFrame(index = range(31), columns = [1,2,5,10,30])\n",
    "\n",
    "for year in range(31):\n",
    "    if year == 0:\n",
    "        df.loc[year,:] = 0\n",
    "    else:\n",
    "        for col in df.columns:\n",
    "            if year < col:\n",
    "                df.loc[year, col] = 5\n",
    "            elif year == col:\n",
    "                df.loc[year, col] = 105\n",
    "            else:\n",
    "                df.loc[year, col] = np.nan"
   ]
  },
  {
   "cell_type": "code",
   "execution_count": 5,
   "metadata": {},
   "outputs": [],
   "source": [
    "x = [1,2,5,10,30]\n",
    "y = []\n",
    "\n",
    "for year, price in [(1,103),(2, 102),(5,100),(10,98),(30,95)]:\n",
    "    YTM = calculate_YTM(df[year], price, 0.05)\n",
    "    y.append(YTM)"
   ]
  },
  {
   "cell_type": "code",
   "execution_count": 9,
   "metadata": {},
   "outputs": [
    {
     "data": {
      "image/png": "[encoded data removed]",
      "text/plain": [
       "<Figure size 720x720 with 1 Axes>"
      ]
     },
     "metadata": {},
     "output_type": "display_data"
    }
   ],
   "source": [
    "plt.plot(x,y, label = 'Yield Curve')\n",
    "plt.axhline(0.05, label = '5% coupon', ls = 'dashed', c = 'r')\n",
    "plt.legend()\n",
    "plt.ylim([0,0.1])\n",
    "plt.title('Normal Yield Curve')\n",
    "plt.show()"
   ]
  },
  {
   "cell_type": "markdown",
   "metadata": {},
   "source": [
    "## 2. Inverted Yield Curve\n",
    "\n",
    "- We don't need to rebuild the cashflows (since they're the same)\n",
    "    - We just need to set different prices\n",
    "    \n",
    "- **Prices**\n",
    "    - 1 yr: 95\n",
    "    - 2 yr: 97\n",
    "    - 5 yr: 100\n",
    "    - 10 yr: 103\n",
    "    - 30 yr: 104.50"
   ]
  },
  {
   "cell_type": "code",
   "execution_count": 10,
   "metadata": {},
   "outputs": [
    {
     "data": {
      "image/png": "[encoded data removed]",
      "text/plain": [
       "<Figure size 720x720 with 1 Axes>"
      ]
     },
     "metadata": {},
     "output_type": "display_data"
    }
   ],
   "source": [
    "x = [1,2,5,10,30]\n",
    "y = []\n",
    "\n",
    "for year, price in [(1,95),(2, 97),(5,100),(10,103),(30,104.5)]:\n",
    "    YTM = calculate_YTM(df[year], price, 0.05)\n",
    "    y.append(YTM)\n",
    "    \n",
    "plt.plot(x,y, label = 'Yield Curve')\n",
    "plt.axhline(0.05, label = '5% coupon', ls = 'dashed', c = 'r')\n",
    "plt.legend()\n",
    "plt.ylim([0,0.1])\n",
    "plt.title('Inverted Yield Curve')\n",
    "plt.show()"
   ]
  },
  {
   "cell_type": "markdown",
   "metadata": {},
   "source": [
    "## 3. Flat yield curve\n",
    "\n",
    "- We can just set all the prices to the face value"
   ]
  },
  {
   "cell_type": "code",
   "execution_count": 15,
   "metadata": {},
   "outputs": [
    {
     "data": {
      "image/png": "[encoded data removed]",
      "text/plain": [
       "<Figure size 720x720 with 1 Axes>"
      ]
     },
     "metadata": {},
     "output_type": "display_data"
    }
   ],
   "source": [
    "x = [1,2,5,10,30]\n",
    "y = []\n",
    "\n",
    "for year in x:\n",
    "    YTM = calculate_YTM(df[year], 100, 0.05)\n",
    "    y.append(YTM)\n",
    "    \n",
    "plt.plot(x,y, label = 'Yield Curve')\n",
    "plt.axhline(0.05, label = '5% coupon', ls = 'dashed', c = 'r')\n",
    "plt.legend()\n",
    "plt.ylim([0,0.1])\n",
    "plt.title('Inverted Yield Curve')\n",
    "plt.show()"
   ]
  }
 ],
 "metadata": {
  "kernelspec": {
   "display_name": "Python 3",
   "language": "python",
   "name": "python3"
  },
  "language_info": {
   "codemirror_mode": {
    "name": "ipython",
    "version": 3
   },
   "file_extension": ".py",
   "mimetype": "text/x-python",
   "name": "python",
   "nbconvert_exporter": "python",
   "pygments_lexer": "ipython3",
   "version": "3.6.5"
  }
 },
 "nbformat": 4,
 "nbformat_minor": 2
}
