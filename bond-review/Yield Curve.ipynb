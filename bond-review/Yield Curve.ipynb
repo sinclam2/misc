{
 "cells": [
  {
   "cell_type": "markdown",
   "metadata": {},
   "source": [
    "# What is a yield curve?\n",
    "\n",
    "- A yield curve plots the YTM for the same bond of different maturities\n",
    "    - The most common yield curve compares the three-month, two-year, five-year, and thirty-year US treasuries\n",
    "        - This is used as a benchmark for other debt"
   ]
  },
  {
   "cell_type": "markdown",
   "metadata": {},
   "source": [
    "___\n",
    "\n",
    "# Yield curve shapes\n",
    "\n",
    "- The shape of the yield curve tells us a lot about the market's expectations for future interest rates\n",
    "\n",
    "## 1. Normal yield curve\n",
    "\n",
    "- A yield curve is considered *normal* when the YTM increases with maturity\n",
    "    - **Why is this normal?**\n",
    "        - In periods of economic expansion, having capital tied up in bonds has higher opportunity cost\n",
    "            - Therefore, investors may naturally prefer to invest in shorter term bonds\n",
    "                - This increases demand for short term bonds, thereby driving up their market price, and therefore reducing the YTM\n",
    "                - Similarly, reduced demand for longer term bonds put downward pressure on their market prices, therefore increasing their YTM\n",
    "                    - **Combining these effects leads to the normal yield curve shape**\n",
    "                    \n",
    "![](images/normal-yield-curve.png)"
   ]
  },
  {
   "cell_type": "markdown",
   "metadata": {},
   "source": [
    "## 2. Inverted yield curve\n",
    "\n",
    "- A yield curve is considered *inverted* when short-term YTM values are above long-term values\n",
    "    - **Why does this happen?**\n",
    "        - In periods of economic downturn, investors predict that opportunities in the future will have lower levels of return"
   ]
  }
 ],
 "metadata": {
  "kernelspec": {
   "display_name": "Python 3",
   "language": "python",
   "name": "python3"
  },
  "language_info": {
   "codemirror_mode": {
    "name": "ipython",
    "version": 3
   },
   "file_extension": ".py",
   "mimetype": "text/x-python",
   "name": "python",
   "nbconvert_exporter": "python",
   "pygments_lexer": "ipython3",
   "version": "3.6.5"
  }
 },
 "nbformat": 4,
 "nbformat_minor": 2
}
