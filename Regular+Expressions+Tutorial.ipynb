{
 "cells": [
  {
   "cell_type": "markdown",
   "metadata": {},
   "source": [
    "# re is a language of its own\n",
    "\n",
    "# Idea: if we have a body of text and we're trying to pull information from it, we can pick them out using regular expression arguments"
   ]
  },
  {
   "cell_type": "markdown",
   "metadata": {},
   "source": [
    "### Identifiers\n",
    "\n",
    "**\\d** means any number\n",
    "\n",
    "**\\D** means anything BUT a number\n",
    "\n",
    "**\\s** means a space\n",
    "\n",
    "**\\S** means anything BUT a space\n",
    "\n",
    "**\\w** means any character\n",
    "\n",
    "**\\W** means anything BUT a character\n",
    "\n",
    "**.** means any character, except for a newline\n",
    "\n",
    "**\\b** means the white space around words\n",
    "\n",
    "**\\.** means a period"
   ]
  },
  {
   "cell_type": "markdown",
   "metadata": {},
   "source": [
    "### Modifiers\n",
    "\n",
    "**{1,3}** means we're expecting 1-3 *(e.g. \\d{1-3} means we're looking for digits in sets of 1-3)*\n",
    "\n",
    "**+** means one or more *(e.g. \\d+ means we're looking for one or more digit)*\n",
    "\n",
    "**?** means zero or one\n",
    "\n",
    "**\\*** means zero or more\n",
    "\n",
    "**$** means the end of a string\n",
    "\n",
    "**^** means the beginning of a string\n",
    "\n",
    "**|** means either/or *(e.g. \\d | \\s looks for a number OR a space)*\n",
    "\n",
    "**[A,Z]** means we're looking for letters in Capital A to Z\n",
    "\n",
    "**{5}** means we're expecting 5 exactly"
   ]
  },
  {
   "cell_type": "markdown",
   "metadata": {},
   "source": [
    "### White Space Characters\n",
    "\n",
    "**\\n** means new line\n",
    "\n",
    "**\\s** means space\n",
    "\n",
    "**\\t** means tab\n",
    "\n",
    "**\\e** means escape *(not common)*\n",
    "\n",
    "**\\f** means form feed\n",
    "\n",
    "**\\r** means return *(not common)*"
   ]
  },
  {
   "cell_type": "code",
   "execution_count": 1,
   "metadata": {
    "collapsed": true
   },
   "outputs": [],
   "source": [
    "import re"
   ]
  },
  {
   "cell_type": "code",
   "execution_count": 2,
   "metadata": {
    "collapsed": true
   },
   "outputs": [],
   "source": [
    "example_string = \"\"\"\n",
    "Jessica is 15 years old, and Daniel is 27 years old.\n",
    "Edward is 97, and his grandfather, Oscar, is 102.\n",
    "\"\"\""
   ]
  },
  {
   "cell_type": "markdown",
   "metadata": {},
   "source": [
    "- We want to use regular expressions to get:\n",
    "    1. Names\n",
    "    2. Ages"
   ]
  },
  {
   "cell_type": "code",
   "execution_count": 3,
   "metadata": {
    "collapsed": true
   },
   "outputs": [],
   "source": [
    "ages = re.findall(r'\\d{1,3}',example_string)"
   ]
  },
  {
   "cell_type": "code",
   "execution_count": 5,
   "metadata": {
    "collapsed": false
   },
   "outputs": [],
   "source": [
    "names = re.findall(r'[A-Z][a-z]*',example_string)\n",
    "#Note: we do [A-Z][a-z]* because [A-Z] looks for ONE of any capital letter, then [a-z]* looks for any number (incl. 0) \n",
    "#of lower case letters"
   ]
  },
  {
   "cell_type": "code",
   "execution_count": 6,
   "metadata": {
    "collapsed": false
   },
   "outputs": [
    {
     "data": {
      "text/plain": [
       "(['15', '27', '97', '102'], ['Jessica', 'Daniel', 'Edward', 'Oscar'])"
      ]
     },
     "execution_count": 6,
     "metadata": {},
     "output_type": "execute_result"
    }
   ],
   "source": [
    "ages, names"
   ]
  }
 ],
 "metadata": {
  "anaconda-cloud": {},
  "kernelspec": {
   "display_name": "Python [default]",
   "language": "python",
   "name": "python3"
  },
  "language_info": {
   "codemirror_mode": {
    "name": "ipython",
    "version": 3
   },
   "file_extension": ".py",
   "mimetype": "text/x-python",
   "name": "python",
   "nbconvert_exporter": "python",
   "pygments_lexer": "ipython3",
   "version": "3.5.2"
  }
 },
 "nbformat": 4,
 "nbformat_minor": 2
}
