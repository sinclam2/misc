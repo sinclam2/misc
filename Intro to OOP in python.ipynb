{
 "cells": [
  {
   "cell_type": "markdown",
   "metadata": {},
   "source": [
    "https://realpython.com/python3-object-oriented-programming/"
   ]
  },
  {
   "cell_type": "markdown",
   "metadata": {},
   "source": [
    "___\n",
    "\n",
    "# What is OOP?\n",
    "\n",
    "- programming paradigm\n",
    "- means of structuring programs\n",
    "    - bundles properties and behaviours into individual objects"
   ]
  },
  {
   "cell_type": "markdown",
   "metadata": {},
   "source": [
    "- the other programming paradigm is **procedural programming**\n",
    "    - this structures a program as a series of steps\n",
    "        - uses sequential code blocks"
   ]
  },
  {
   "cell_type": "markdown",
   "metadata": {},
   "source": [
    "**Key takeaway**: objects represent not only the data, but the structure of the program as well"
   ]
  },
  {
   "cell_type": "markdown",
   "metadata": {},
   "source": [
    "____\n",
    "\n",
    "# Classes in python\n",
    "\n",
    "- the class is the blueprint, and the object is an instance that is built by following the blueprint\n",
    "    - e.g. the class is the blueprint of a house, then the four houses built using the blueprint are all objects"
   ]
  },
  {
   "cell_type": "markdown",
   "metadata": {},
   "source": [
    "- classes are used to create nrew user-defined data structures\n",
    "    - e.g. if we want to create a class that represents different animals"
   ]
  }
 ],
 "metadata": {
  "kernelspec": {
   "display_name": "Python 3",
   "language": "python",
   "name": "python3"
  },
  "language_info": {
   "codemirror_mode": {
    "name": "ipython",
    "version": 3
   },
   "file_extension": ".py",
   "mimetype": "text/x-python",
   "name": "python",
   "nbconvert_exporter": "python",
   "pygments_lexer": "ipython3",
   "version": "3.6.5"
  }
 },
 "nbformat": 4,
 "nbformat_minor": 2
}
