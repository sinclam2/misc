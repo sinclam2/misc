{
 "cells": [
  {
   "cell_type": "code",
   "execution_count": 1,
   "metadata": {},
   "outputs": [],
   "source": [
    "import numpy as np"
   ]
  },
  {
   "cell_type": "code",
   "execution_count": 92,
   "metadata": {},
   "outputs": [],
   "source": [
    "def sim(n,p):\n",
    "    list_probabilities = [p]\n",
    "    ended = False\n",
    "    total_users = 1\n",
    "    while not ended:\n",
    "        list_random_numbers = list(np.random.random(size=len(list_probabilities)))\n",
    "        list_outcomes = [1*(x > r) for (x,r) in zip(list_probabilities, list_random_numbers)]\n",
    "        n_wins = sum(list_outcomes)\n",
    "        total_users += n_wins\n",
    "        if n_wins == 0:\n",
    "            ended = True\n",
    "        elif total_users >= n:\n",
    "            ended = True\n",
    "        else:\n",
    "            list_probabilities = n_wins * [1] + list_probabilities\n",
    "            list_probabilities = [p*x for x in list_probabilities]\n",
    "    return total_users"
   ]
  },
  {
   "cell_type": "code",
   "execution_count": 112,
   "metadata": {},
   "outputs": [
    {
     "name": "stdout",
     "output_type": "stream",
     "text": [
      "n=1, mean=1.5003\n",
      "n=2, mean=1.4963\n",
      "n=3, mean=1.8717\n",
      "n=4, mean=2.107\n",
      "n=5, mean=2.2797\n",
      "n=6, mean=2.4293\n",
      "n=7, mean=2.5694\n",
      "n=8, mean=2.6714\n",
      "n=9, mean=2.7994\n",
      "n=10, mean=2.9356\n",
      "n=11, mean=3.0236\n",
      "n=12, mean=3.0842\n",
      "n=13, mean=3.1118\n",
      "n=14, mean=3.2285\n",
      "n=15, mean=3.3195\n",
      "n=16, mean=3.326\n",
      "n=17, mean=3.4372\n",
      "n=18, mean=3.4724\n",
      "n=19, mean=3.5122\n",
      "n=20, mean=3.5557\n",
      "n=21, mean=3.7144\n",
      "n=22, mean=3.6951\n",
      "n=23, mean=3.751\n",
      "n=24, mean=3.779\n"
     ]
    }
   ],
   "source": [
    "N_TRIALS = 10000\n",
    "\n",
    "for n in range(1, 25):\n",
    "    list_results = []\n",
    "    for _ in range(N_TRIALS):\n",
    "        result = sim(n,0.5)\n",
    "        list_results.append(result)\n",
    "    print('n={}, mean={}'.format(n, np.mean(list_results)))"
   ]
  },
  {
   "cell_type": "code",
   "execution_count": 113,
   "metadata": {},
   "outputs": [
    {
     "name": "stdout",
     "output_type": "stream",
     "text": [
      "n=10000, mean=42.7547\n"
     ]
    }
   ],
   "source": [
    "N_TRIALS = 10000\n",
    "n=10000\n",
    "\n",
    "list_results = []\n",
    "for _ in range(N_TRIALS):\n",
    "    result = sim(n,0.5)\n",
    "    list_results.append(result)\n",
    "print('n={}, mean={}'.format(n, np.mean(list_results)))"
   ]
  }
 ],
 "metadata": {
  "kernelspec": {
   "display_name": "Python 3",
   "language": "python",
   "name": "python3"
  },
  "language_info": {
   "codemirror_mode": {
    "name": "ipython",
    "version": 3
   },
   "file_extension": ".py",
   "mimetype": "text/x-python",
   "name": "python",
   "nbconvert_exporter": "python",
   "pygments_lexer": "ipython3",
   "version": "3.6.4"
  }
 },
 "nbformat": 4,
 "nbformat_minor": 2
}
