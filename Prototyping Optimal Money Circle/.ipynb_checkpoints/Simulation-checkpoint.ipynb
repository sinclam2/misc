{
 "cells": [
  {
   "cell_type": "code",
   "execution_count": 5,
   "metadata": {},
   "outputs": [],
   "source": [
    "import numpy as np"
   ]
  },
  {
   "cell_type": "code",
   "execution_count": 92,
   "metadata": {},
   "outputs": [],
   "source": [
    "def sim(n,p):\n",
    "    list_probabilities = [p]\n",
    "    ended = False\n",
    "    total_users = 1\n",
    "    while not ended:\n",
    "        list_random_numbers = list(np.random.random(size=len(list_probabilities)))\n",
    "        list_outcomes = [1*(x > r) for (x,r) in zip(list_probabilities, list_random_numbers)]\n",
    "        n_wins = sum(list_outcomes)\n",
    "        total_users += n_wins\n",
    "        if n_wins == 0:\n",
    "            ended = True\n",
    "        elif total_users >= n:\n",
    "            ended = True\n",
    "        else:\n",
    "            list_probabilities = n_wins * [1] + list_probabilities\n",
    "            list_probabilities = [p*x for x in list_probabilities]\n",
    "    return total_users"
   ]
  },
  {
   "cell_type": "code",
   "execution_count": 112,
   "metadata": {},
   "outputs": [
    {
     "name": "stdout",
     "output_type": "stream",
     "text": [
      "n=1, mean=1.5003\n",
      "n=2, mean=1.4963\n",
      "n=3, mean=1.8717\n",
      "n=4, mean=2.107\n",
      "n=5, mean=2.2797\n",
      "n=6, mean=2.4293\n",
      "n=7, mean=2.5694\n",
      "n=8, mean=2.6714\n",
      "n=9, mean=2.7994\n",
      "n=10, mean=2.9356\n",
      "n=11, mean=3.0236\n",
      "n=12, mean=3.0842\n",
      "n=13, mean=3.1118\n",
      "n=14, mean=3.2285\n",
      "n=15, mean=3.3195\n",
      "n=16, mean=3.326\n",
      "n=17, mean=3.4372\n",
      "n=18, mean=3.4724\n",
      "n=19, mean=3.5122\n",
      "n=20, mean=3.5557\n",
      "n=21, mean=3.7144\n",
      "n=22, mean=3.6951\n",
      "n=23, mean=3.751\n",
      "n=24, mean=3.779\n"
     ]
    }
   ],
   "source": [
    "N_TRIALS = 10000\n",
    "\n",
    "for n in range(1, 25):\n",
    "    list_results = []\n",
    "    for _ in range(N_TRIALS):\n",
    "        result = sim(n,0.5)\n",
    "        list_results.append(result)\n",
    "    print('n={}, mean={}'.format(n, np.mean(list_results)))"
   ]
  },
  {
   "cell_type": "code",
   "execution_count": 113,
   "metadata": {},
   "outputs": [
    {
     "name": "stdout",
     "output_type": "stream",
     "text": [
      "n=10000, mean=42.7547\n"
     ]
    }
   ],
   "source": [
    "N_TRIALS = 10000\n",
    "n=10000\n",
    "\n",
    "list_results = []\n",
    "for _ in range(N_TRIALS):\n",
    "    result = sim(n,0.5)\n",
    "    list_results.append(result)\n",
    "print('n={}, mean={}'.format(n, np.mean(list_results)))"
   ]
  },
  {
   "cell_type": "markdown",
   "metadata": {},
   "source": [
    "____"
   ]
  },
  {
   "cell_type": "code",
   "execution_count": 16,
   "metadata": {},
   "outputs": [],
   "source": [
    "def sim_2(p):\n",
    "    n_people = 1\n",
    "    n_spawn = np.random.geometric(p) - 1\n",
    "    while n_spawn > 0:\n",
    "        n_people += n_spawn\n",
    "        print(n_people)\n",
    "        n_extra_spawn = 0\n",
    "        for i in range(n_spawn):\n",
    "            n_extra_spawn += np.random.geometric(p)\n",
    "        n_spawn = n_extra_spawn\n",
    "    return n_people"
   ]
  },
  {
   "cell_type": "code",
   "execution_count": 19,
   "metadata": {},
   "outputs": [
    {
     "data": {
      "text/plain": [
       "array([0, 2, 2, 1, 0])"
      ]
     },
     "execution_count": 19,
     "metadata": {},
     "output_type": "execute_result"
    }
   ],
   "source": [
    "np.random.geometric(0.5, size=5)-1"
   ]
  },
  {
   "cell_type": "code",
   "execution_count": 17,
   "metadata": {},
   "outputs": [
    {
     "name": "stdout",
     "output_type": "stream",
     "text": [
      "4\n",
      "8\n",
      "13\n",
      "21\n",
      "34\n",
      "62\n",
      "122\n",
      "249\n",
      "485\n",
      "934\n",
      "1827\n",
      "3618\n",
      "7135\n",
      "14043\n",
      "27928\n",
      "55689\n",
      "110612\n",
      "220089\n",
      "439034\n",
      "877468\n",
      "1754043\n"
     ]
    },
    {
     "ename": "KeyboardInterrupt",
     "evalue": "",
     "output_type": "error",
     "traceback": [
      "\u001b[1;31m---------------------------------------------------------------------------\u001b[0m",
      "\u001b[1;31mKeyboardInterrupt\u001b[0m                         Traceback (most recent call last)",
      "\u001b[1;32m<ipython-input-17-523013ab760f>\u001b[0m in \u001b[0;36m<module>\u001b[1;34m\u001b[0m\n\u001b[1;32m----> 1\u001b[1;33m \u001b[0msim_2\u001b[0m\u001b[1;33m(\u001b[0m\u001b[1;36m0.5\u001b[0m\u001b[1;33m)\u001b[0m\u001b[1;33m\u001b[0m\u001b[0m\n\u001b[0m",
      "\u001b[1;32m<ipython-input-16-5abb61add1fc>\u001b[0m in \u001b[0;36msim_2\u001b[1;34m(p)\u001b[0m\n\u001b[0;32m      7\u001b[0m         \u001b[0mn_extra_spawn\u001b[0m \u001b[1;33m=\u001b[0m \u001b[1;36m0\u001b[0m\u001b[1;33m\u001b[0m\u001b[0m\n\u001b[0;32m      8\u001b[0m         \u001b[1;32mfor\u001b[0m \u001b[0mi\u001b[0m \u001b[1;32min\u001b[0m \u001b[0mrange\u001b[0m\u001b[1;33m(\u001b[0m\u001b[0mn_spawn\u001b[0m\u001b[1;33m)\u001b[0m\u001b[1;33m:\u001b[0m\u001b[1;33m\u001b[0m\u001b[0m\n\u001b[1;32m----> 9\u001b[1;33m             \u001b[0mn_extra_spawn\u001b[0m \u001b[1;33m+=\u001b[0m \u001b[0mnp\u001b[0m\u001b[1;33m.\u001b[0m\u001b[0mrandom\u001b[0m\u001b[1;33m.\u001b[0m\u001b[0mgeometric\u001b[0m\u001b[1;33m(\u001b[0m\u001b[0mp\u001b[0m\u001b[1;33m)\u001b[0m\u001b[1;33m\u001b[0m\u001b[0m\n\u001b[0m\u001b[0;32m     10\u001b[0m         \u001b[0mn_spawn\u001b[0m \u001b[1;33m=\u001b[0m \u001b[0mn_extra_spawn\u001b[0m\u001b[1;33m\u001b[0m\u001b[0m\n\u001b[0;32m     11\u001b[0m     \u001b[1;32mreturn\u001b[0m \u001b[0mn_people\u001b[0m\u001b[1;33m\u001b[0m\u001b[0m\n",
      "\u001b[1;31mKeyboardInterrupt\u001b[0m: "
     ]
    }
   ],
   "source": [
    "sim_2(0.5)"
   ]
  }
 ],
 "metadata": {
  "kernelspec": {
   "display_name": "Python 3",
   "language": "python",
   "name": "python3"
  },
  "language_info": {
   "codemirror_mode": {
    "name": "ipython",
    "version": 3
   },
   "file_extension": ".py",
   "mimetype": "text/x-python",
   "name": "python",
   "nbconvert_exporter": "python",
   "pygments_lexer": "ipython3",
   "version": "3.6.4"
  }
 },
 "nbformat": 4,
 "nbformat_minor": 2
}
