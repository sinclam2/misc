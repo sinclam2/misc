{
 "cells": [
  {
   "cell_type": "markdown",
   "id": "9cc4bec0-347a-473b-9df0-a9a0302418df",
   "metadata": {},
   "source": [
    "# *What is the impact of employees moving from the private sector to the public sector?*\n",
    "\n",
    "### Background\n",
    "\n",
    "- On Peter Schiff's podcast, he often analyzes the jobs reports\n",
    "    - If there's been a surge in the number of public sector employees, he often talks about how **these are not real jobs**\n",
    "        - For every worker that transfers from the private sector to the public sector, there is:\n",
    "            1. The reduction in gross tax revenues\n",
    "            2. An increase in the cost of public sector salaries\n",
    "     \n",
    "- Some will argue that public sector employees pay taxes like everyone else\n",
    "    - While this is true, it ignores the overall impact (since them paying taxes is simply the gov't getting a partial reimbursement on the salary paid)\n",
    " \n",
    "- In this exercise, we want to:\n",
    "    1. Create a simple example to outline the relationship\n",
    "    2. See if there are any simple formulas to describe this"
   ]
  },
  {
   "cell_type": "markdown",
   "id": "f1f47077-c61f-4c74-bd73-4c6ab675ff9a",
   "metadata": {},
   "source": [
    "____\n",
    "\n",
    "# Illustrative Example"
   ]
  },
  {
   "cell_type": "markdown",
   "id": "3585c367-29b4-4637-b447-401b95008720",
   "metadata": {},
   "source": [
    "- Let's say there are 100 workers total\n",
    "    - Out of the 100 workers:\n",
    "        - 90 work in the private sector\n",
    "        - 10 work in the public sector\n",
    " \n",
    "- Let's also assume everyone gets the same salary, and pays the same effective tax rate:\n",
    "    - Salary: 50k\n",
    "    - Effective Tax Rate: 30%"
   ]
  },
  {
   "cell_type": "markdown",
   "id": "2da2ffa7-e26d-496c-b705-9e33f156a213",
   "metadata": {},
   "source": [
    "- Therefore:\n",
    "\n",
    "$$\n",
    "\\text{Total Tax Revenue Collected} = \\left ( \\text{Total Tax Revenue from Private Sector} \\right ) + \\left ( \\text{Total Tax Revenue from Public Sector} \\right )\n",
    "$$"
   ]
  },
  {
   "cell_type": "markdown",
   "id": "b9fe37d6-cb03-425d-878f-b20ea9079de6",
   "metadata": {},
   "source": [
    "$$\n",
    "\\text{Total Tax Revenue from Private Sector} = \\left ( \\text{Number of Private Sector Workers} \\right ) \\cdot \\left ( \\text{Salary} \\right ) \\cdot \\left ( \\text{Effective Tax Rate} \\right )\n",
    "$$\n",
    "\n",
    "$$\n",
    "= 90\\cdot 50k \\cdot 30\\% = 1.35M\n",
    "$$"
   ]
  },
  {
   "cell_type": "markdown",
   "id": "0407def4-ca7f-477d-b128-20a41efbe814",
   "metadata": {},
   "source": [
    "$$\n",
    "\\text{Total Tax Revenue from Public Sector} = \\left ( \\text{Number of Public Sector Workers} \\right ) \\cdot \\left ( \\text{Salary} \\right ) \\cdot \\left ( \\text{Effective Tax Rate} \\right )\n",
    "$$\n",
    "\n",
    "$$\n",
    "= 10\\cdot 50k \\cdot 30\\% = 150k\n",
    "$$"
   ]
  },
  {
   "cell_type": "markdown",
   "id": "0531411d-cedf-4a1a-9614-308fd14bd4a5",
   "metadata": {},
   "source": [
    "$$\n",
    "\\text{Total Tax Revenue Collected} = 1.35M + 150k = 1.5M\n",
    "$$"
   ]
  },
  {
   "cell_type": "markdown",
   "id": "ed50358d-d922-47f4-8edc-3c416d864212",
   "metadata": {},
   "source": [
    "- Before we continue: *what do we notice?*\n",
    "    - We didn't need to split the private and public sector workers\n",
    "        - Since this example assumes equal tax rates and salaries, we can simplify the calculation to:\n",
    "     \n",
    "$$\n",
    "\\text{Total Tax Revenue Collected} = \\left ( \\text{Number of Workers} \\right ) \\cdot \\left ( \\text{Salary} \\right ) \\cdot \\left ( \\text{Effective Tax Rate} \\right )\n",
    "$$"
   ]
  },
  {
   "cell_type": "markdown",
   "id": "610be46b-bb1d-4f28-921b-012030a54dc9",
   "metadata": {},
   "source": [
    "- Next, we calculate the total cost of salaries for public sector employees\n",
    "\n",
    "$$\n",
    "\\text{Total Cost of Public Sector Employees} = \\left ( \\text{Number of Public Sector Workers} \\right ) \\cdot \\left ( \\text{Salary} \\right ) = 500k\n",
    "$$"
   ]
  },
  {
   "cell_type": "markdown",
   "id": "a0d456fb-a079-4ef1-a73f-2415ff411287",
   "metadata": {},
   "source": [
    "- As we can see, **1/3 of the total tax revenue is dedicated to public sector salaries**"
   ]
  },
  {
   "cell_type": "markdown",
   "id": "33cd5a91-3028-4b8b-b4c9-b01212504761",
   "metadata": {},
   "source": [
    "_____\n",
    "\n",
    "# Other Examples\n",
    "\n",
    "- We'll loop through all the other possible values"
   ]
  },
  {
   "cell_type": "code",
   "execution_count": 1,
   "id": "7792b09c-8230-46fe-bb83-24bc7f5558bd",
   "metadata": {},
   "outputs": [],
   "source": [
    "import pandas as pd\n",
    "import matplotlib.pyplot as plt"
   ]
  },
  {
   "cell_type": "code",
   "execution_count": 2,
   "id": "0645bd89-b5da-4e3d-874d-7a07446b60d7",
   "metadata": {},
   "outputs": [],
   "source": [
    "n_workers = 100\n",
    "avg_salary = 50000\n",
    "tax_rate = 0.3\n",
    "df = pd.DataFrame({\"N Public Sector Employees\": range(0, n_workers + 1)})\n",
    "df[\"N Private Sector Employees\"] = n_workers - df[\"N Public Sector Employees\"]\n",
    "df[\"Total Tax Revenue\"] = n_workers * avg_salary * tax_rate\n",
    "df[\"Cost of Public Sector Salaries\"] = df[\"N Public Sector Employees\"] * avg_salary\n",
    "df[\"Share of Tax Revenues Consumed by Public Sector Salaries\"] = df[\"Cost of Public Sector Salaries\"] / df[\"Total Tax Revenue\"]"
   ]
  },
  {
   "cell_type": "code",
   "execution_count": 3,
   "id": "ea2dec73-d955-49d3-9921-2de0496c5da8",
   "metadata": {},
   "outputs": [
    {
     "data": {
      "text/plain": [
       "<matplotlib.lines.Line2D at 0xffff17db60f0>"
      ]
     },
     "execution_count": 3,
     "metadata": {},
     "output_type": "execute_result"
    },
    {
     "data": {
      "image/png": "[encoded data removed]",
      "text/plain": [
       "<Figure size 640x480 with 1 Axes>"
      ]
     },
     "metadata": {},
     "output_type": "display_data"
    }
   ],
   "source": [
    "df.set_index(\"N Public Sector Employees\")[\"Share of Tax Revenues Consumed by Public Sector Salaries\"].plot()\n",
    "plt.axhline(1, ls='dashed', c='r')"
   ]
  },
  {
   "cell_type": "markdown",
   "id": "f273c648-1196-4aec-8ac1-3160d64bef5a",
   "metadata": {},
   "source": [
    "- As we can see for this example, once 30% of workers are employed by the public sector, 100% of the tax revenue is dedicated to paying their salaries"
   ]
  },
  {
   "cell_type": "markdown",
   "id": "379fc1bd-a4d1-41b7-9a9e-fe03051326e2",
   "metadata": {},
   "source": [
    "____\n",
    "\n",
    "# General Formula\n",
    "\n",
    "- The relationship between tax revenues and cost of salaries is:\n",
    "\n",
    "$$\n",
    "\\text{Share of Tax Revenues Consumed by Public Sector Salaries} = \\frac{\\text{Cost of Salaries}}{\\text{Total Tax Revenue}} = \\frac{N \\cdot p \\cdot S}{N \\cdot t \\cdot S} = p / t\n",
    "$$"
   ]
  },
  {
   "cell_type": "markdown",
   "id": "14081b4f-6c1e-480c-951b-5fbaa198ad3a",
   "metadata": {},
   "source": [
    "- In the formula above:\n",
    "    - $N$ is the number of workers (total i.e. private and public sector combined)\n",
    "    - $p$ is the share of workers employed in the public sector\n",
    "    - $S$ is the salary\n",
    "    - $t$ is the tax rate"
   ]
  },
  {
   "cell_type": "markdown",
   "id": "5fb375a0-d981-4958-9a64-366b143466eb",
   "metadata": {},
   "source": [
    "- Therefore, when $p/t = 1$, 100% of tax revenues are consumed by public sector salaries\n",
    "    - $p/t = 1 \\implies p = t$\n",
    "        - So, **when $p > t$, the salaries cost more than the total tax revenue**"
   ]
  },
  {
   "cell_type": "markdown",
   "id": "6adf6682-1b76-4099-a27d-283c0a45f30a",
   "metadata": {},
   "source": [
    "- Thinking about it in another way, when 1 employee transfers from the private sector to the public:\n",
    "    - The cost increases by the full salary amount (50k)\n",
    "    - The tax revenues stay the same\n",
    "        - Therefore, the net effect is -50k\n",
    "     \n",
    "- We can show this using our dataframe"
   ]
  },
  {
   "cell_type": "code",
   "execution_count": 4,
   "id": "87ec8002-45ea-4362-b166-b9d7cce79682",
   "metadata": {},
   "outputs": [
    {
     "data": {
      "text/plain": [
       "0     -50000.0\n",
       "1     -50000.0\n",
       "2     -50000.0\n",
       "3     -50000.0\n",
       "4     -50000.0\n",
       "        ...   \n",
       "96    -50000.0\n",
       "97    -50000.0\n",
       "98    -50000.0\n",
       "99    -50000.0\n",
       "100        NaN\n",
       "Name: Cost of Public Sector Salaries, Length: 101, dtype: float64"
      ]
     },
     "execution_count": 4,
     "metadata": {},
     "output_type": "execute_result"
    }
   ],
   "source": [
    "df[\"Cost of Public Sector Salaries\"] - df[\"Cost of Public Sector Salaries\"].shift(-1)"
   ]
  },
  {
   "cell_type": "markdown",
   "id": "b27f3bd3-a689-4c57-9076-3afe2d53a198",
   "metadata": {},
   "source": [
    "_____\n",
    "\n",
    "# Takeaways\n",
    "\n",
    "1. The effective tax rate must exceed the share of the population working in the public sector\n",
    "    - Otherwise, the gov't spends more on salaries than they collect in tax revenue\n",
    "2. The net impact of a worker moving from the private sector to the public is a reduction in tax revenue equal to their salary"
   ]
  }
 ],
 "metadata": {
  "kernelspec": {
   "display_name": "alpha",
   "language": "python",
   "name": "alpha"
  },
  "language_info": {
   "codemirror_mode": {
    "name": "ipython",
    "version": 3
   },
   "file_extension": ".py",
   "mimetype": "text/x-python",
   "name": "python",
   "nbconvert_exporter": "python",
   "pygments_lexer": "ipython3",
   "version": "3.12.7"
  }
 },
 "nbformat": 4,
 "nbformat_minor": 5
}
